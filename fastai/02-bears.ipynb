{
  "nbformat": 4,
  "nbformat_minor": 0,
  "metadata": {
    "colab": {
      "name": "Untitled2.ipynb",
      "provenance": [],
      "collapsed_sections": [],
      "authorship_tag": "ABX9TyPVyLbnYlDlaXNZgANpT4HU",
      "include_colab_link": true
    },
    "kernelspec": {
      "name": "python3",
      "display_name": "Python 3"
    }
  },
  "cells": [
    {
      "cell_type": "markdown",
      "metadata": {
        "id": "view-in-github",
        "colab_type": "text"
      },
      "source": [
        "<a href=\"https://colab.research.google.com/github/trongr/ai/blob/master/fastai/02-bears.ipynb\" target=\"_parent\"><img src=\"https://colab.research.google.com/assets/colab-badge.svg\" alt=\"Open In Colab\"/></a>"
      ]
    },
    {
      "cell_type": "code",
      "metadata": {
        "id": "45UbmNPmhpyG",
        "outputId": "f99c6eb1-bdf5-4f7a-9b43-3d8eef0f2e03",
        "colab": {
          "base_uri": "https://localhost:8080/",
          "height": 225
        }
      },
      "source": [
        "!pip install -Uqq fastbook\n",
        "import fastbook\n",
        "fastbook.setup_book()"
      ],
      "execution_count": 1,
      "outputs": [
        {
          "output_type": "stream",
          "text": [
            "\u001b[K     |████████████████████████████████| 727kB 2.7MB/s \n",
            "\u001b[K     |████████████████████████████████| 1.0MB 14.5MB/s \n",
            "\u001b[K     |████████████████████████████████| 194kB 35.8MB/s \n",
            "\u001b[K     |████████████████████████████████| 51kB 5.7MB/s \n",
            "\u001b[K     |████████████████████████████████| 51kB 6.2MB/s \n",
            "\u001b[K     |████████████████████████████████| 51kB 5.2MB/s \n",
            "\u001b[K     |████████████████████████████████| 92kB 8.5MB/s \n",
            "\u001b[K     |████████████████████████████████| 40kB 3.4MB/s \n",
            "\u001b[K     |████████████████████████████████| 51kB 5.9MB/s \n",
            "\u001b[K     |████████████████████████████████| 61kB 7.2MB/s \n",
            "\u001b[K     |████████████████████████████████| 2.7MB 16.7MB/s \n",
            "\u001b[?25hMounted at /content/gdrive\n"
          ],
          "name": "stdout"
        }
      ]
    },
    {
      "cell_type": "code",
      "metadata": {
        "id": "rye_hDtWj93Y"
      },
      "source": [
        "from fastbook import *\n",
        "from fastai.vision.widgets import *"
      ],
      "execution_count": 3,
      "outputs": []
    },
    {
      "cell_type": "code",
      "metadata": {
        "id": "4KYefo440FoJ",
        "outputId": "8fa504c8-00aa-4ee2-df5b-da4dbe0a646e",
        "colab": {
          "base_uri": "https://localhost:8080/",
          "height": 36
        }
      },
      "source": [
        "import fastai\n",
        "fastai.__version__"
      ],
      "execution_count": 20,
      "outputs": [
        {
          "output_type": "execute_result",
          "data": {
            "application/vnd.google.colaboratory.intrinsic+json": {
              "type": "string"
            },
            "text/plain": [
              "'2.0.16'"
            ]
          },
          "metadata": {
            "tags": []
          },
          "execution_count": 20
        }
      ]
    },
    {
      "cell_type": "code",
      "metadata": {
        "id": "hEsEkvxkuQr_",
        "outputId": "ab640a1b-b56b-4a2f-bdf3-07287102e229",
        "colab": {
          "resources": {
            "http://localhost:8080/nbextensions/google.colab/files.js": {
              "data": "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",
              "ok": true,
              "headers": [
                [
                  "content-type",
                  "application/javascript"
                ]
              ],
              "status": 200,
              "status_text": "OK"
            }
          },
          "base_uri": "https://localhost:8080/",
          "height": 107
        }
      },
      "source": [
        "from google.colab import files\n",
        "files.upload()"
      ],
      "execution_count": 9,
      "outputs": [
        {
          "output_type": "display_data",
          "data": {
            "text/html": [
              "\n",
              "     <input type=\"file\" id=\"files-b25ef3bc-0dcc-4f1d-89be-20eeebd41638\" name=\"files[]\" multiple disabled\n",
              "        style=\"border:none\" />\n",
              "     <output id=\"result-b25ef3bc-0dcc-4f1d-89be-20eeebd41638\">\n",
              "      Upload widget is only available when the cell has been executed in the\n",
              "      current browser session. Please rerun this cell to enable.\n",
              "      </output>\n",
              "      <script src=\"/nbextensions/google.colab/files.js\"></script> "
            ],
            "text/plain": [
              "<IPython.core.display.HTML object>"
            ]
          },
          "metadata": {
            "tags": []
          }
        },
        {
          "output_type": "stream",
          "text": [
            "Saving grizzly.csv to grizzly.csv\n"
          ],
          "name": "stdout"
        },
        {
          "output_type": "execute_result",
          "data": {
            "text/plain": [
              "{'grizzly.csv': b'https://encrypted-tbn0.gstatic.com/images?q=tbn%3AANd9GcQ90lnlZDULb7xPsv2j0PieLiHd_tb8N9NwfbKa7Fr8fUsH_y0A&usqp=CAU\\nhttps://encrypted-tbn0.gstatic.com/images?q=tbn%3AANd9GcSfq4L19g1xa3ilR4wpEHvW-F_wSuKef7UUcXhT1Q37kYplSt2S&usqp=CAU\\nhttps://encrypted-tbn0.gstatic.com/images?q=tbn%3AANd9GcTf_2L46gEgndNeb8mNn7xSM87kvZFhULuNrj0NJfLxrCZg0vgC&usqp=CAU\\nhttps://encrypted-tbn0.gstatic.com/images?q=tbn%3AANd9GcTnRIrFic8y3ALyOcZlJGxLuoUceRRfI5Rcr4rCb4cBs1CveYgH&usqp=CAU\\nhttps://encrypted-tbn0.gstatic.com/images?q=tbn%3AANd9GcRfa-wT5ZZbZLxQe5rKx7NwSsSyTgwH0z6O3lLCunWnQ3trgsxw&usqp=CAU\\nhttps://encrypted-tbn0.gstatic.com/images?q=tbn%3AANd9GcQ1Mx4bMzMEBu07NXggJlJnf5RgUhaQOkuC3iciBLU__dNv-UCt&usqp=CAU\\nhttps://encrypted-tbn0.gstatic.com/images?q=tbn%3AANd9GcQGbPBI0NLykPCEymn6eEhFUuukRgpe5KhVbaPqOPBGdgV3tHRb&usqp=CAU\\nhttps://encrypted-tbn0.gstatic.com/images?q=tbn%3AANd9GcT72dmTFY-vqWUTI_E-f5POcuZp_M521dfNp6qPbpU1TPRI4I-u&usqp=CAU\\nhttps://encrypted-tbn0.gstatic.com/images?q=tbn%3AANd9GcRyHEiEf6POTjItmvyghLn1gJQMAgxci13IzyLOJ5b4_GeKgHLa&usqp=CAU\\nhttps://encrypted-tbn0.gstatic.com/images?q=tbn%3AANd9GcR0nrMWLFYp6rhgJ_wvNOvURcG7cyUmXbEyzb8VGgS5wI0QVnZ0&usqp=CAU\\nhttps://encrypted-tbn0.gstatic.com/images?q=tbn%3AANd9GcSxAlepg870_DUV4LE0_ZCqGJNT78iYAiIdeQ7pqUvQAvSyCdfC&usqp=CAU\\nhttps://encrypted-tbn0.gstatic.com/images?q=tbn%3AANd9GcQH1tXI3c9sFcYNGoN63B2fK9ZWR-C0oR4sdphNP0Xe0zlN-M0a&usqp=CAU\\nhttps://encrypted-tbn0.gstatic.com/images?q=tbn%3AANd9GcTE2Llr8D45rHL-Oe6sddBBaSJ1VxaoFG3NQdrXpP3F1ng9X2eS&usqp=CAU\\nhttps://encrypted-tbn0.gstatic.com/images?q=tbn%3AANd9GcTv76TcvMLTMDOrQuOYWrkk0sMj4-hmbZ1078G2tfwNTrRpqtna&usqp=CAU\\nhttps://encrypted-tbn0.gstatic.com/images?q=tbn%3AANd9GcRgxU5BkiqYyB7n6kN3hywcpT124WgOxohj7FNFIYndll5g4k5Z&usqp=CAU\\nhttps://encrypted-tbn0.gstatic.com/images?q=tbn%3AANd9GcQj0pz8uGlsMWwGt3pIQsoIA2ouaZX6HBrGDQ8z3WMppkluy51X&usqp=CAU\\nhttps://encrypted-tbn0.gstatic.com/images?q=tbn%3AANd9GcRQrzkklgzM-tiBzWVs4vsKoF1OVnjb8YevoEZPd_viU_q5fdak&usqp=CAU\\nhttps://encrypted-tbn0.gstatic.com/images?q=tbn%3AANd9GcTqT-ToAor8VbCUYJoBWmiWnZWbIVmB-VJTjg&usqp=CAU\\nhttps://encrypted-tbn0.gstatic.com/images?q=tbn%3AANd9GcSy9mN8NHzGMW9CmQD1xq-VQQlfzJEO_wSEHQ&usqp=CAU\\nhttps://encrypted-tbn0.gstatic.com/images?q=tbn%3AANd9GcS2NcN_qtLvwHIxA413KRNuZscTB1EELo_wKw&usqp=CAU\\nhttps://encrypted-tbn0.gstatic.com/images?q=tbn%3AANd9GcSQTSPm1duwsB56JKDwhLObMYDm6dau88rg5A&usqp=CAU\\nhttps://encrypted-tbn0.gstatic.com/images?q=tbn%3AANd9GcRKRCtZveYUs-oWACIyxGol3FFsFOrDfCPL4RDk0xgfYXBkgCG7&usqp=CAU\\nhttps://encrypted-tbn0.gstatic.com/images?q=tbn%3AANd9GcQ8ooTioOVuJH9Rw9z7zX1HX7t7yBituIxChqKbi1SOWo1lSOOe&usqp=CAU\\nhttps://encrypted-tbn0.gstatic.com/images?q=tbn%3AANd9GcTW9jVB8JgBdKzAV9w0EBVm7tFR3F0MGa0jqKtcinYIoMFGrZaK&usqp=CAU\\nhttps://encrypted-tbn0.gstatic.com/images?q=tbn%3AANd9GcTWo4QYEwFKlHtmx6P7X-uMPpSl8r7D_GukMw&usqp=CAU\\nhttps://encrypted-tbn0.gstatic.com/images?q=tbn%3AANd9GcQPgB_Mk-pyQBU6RK3nGutJMgNllVLRLp3eFA&usqp=CAU\\nhttps://encrypted-tbn0.gstatic.com/images?q=tbn%3AANd9GcStH902_F4FNI2qW-j6z0Z837BEAVZV47MPpw&usqp=CAU\\nhttps://encrypted-tbn0.gstatic.com/images?q=tbn%3AANd9GcTnH1qKs0QAtjm9vw-0Qp5k0ECTDt6XMD4LUg&usqp=CAU\\nhttps://encrypted-tbn0.gstatic.com/images?q=tbn%3AANd9GcQsFnxLzLA5NJM0HFhS05W2ynWmsBTGILy97g&usqp=CAU\\nhttps://encrypted-tbn0.gstatic.com/images?q=tbn%3AANd9GcS6sQGh_F9iYrgoU6broaOqZ_yjTqgnPot9fg&usqp=CAU\\nhttps://encrypted-tbn0.gstatic.com/images?q=tbn%3AANd9GcQ_54w_ZLOqxoFhUsa5LDKVTV4Esz64ShnhpA&usqp=CAU\\nhttps://encrypted-tbn0.gstatic.com/images?q=tbn%3AANd9GcTmeRThySmwWjQ7V_wixkW5jcyh0GW-P4Gcgg&usqp=CAU\\nhttps://encrypted-tbn0.gstatic.com/images?q=tbn%3AANd9GcRUlxWJs3KIOZDoUNY_tNaHWYCXojBsuARILQ&usqp=CAU\\nhttps://encrypted-tbn0.gstatic.com/images?q=tbn%3AANd9GcSDx44PxLByVh_hBPOhuY2M8fJmyAsCswSLbg&usqp=CAU\\nhttps://encrypted-tbn0.gstatic.com/images?q=tbn%3AANd9GcRCQuVcGq6V-OOaGSJH7LKXo_1GeGWxEqKKvg&usqp=CAU\\nhttps://encrypted-tbn0.gstatic.com/images?q=tbn%3AANd9GcSsalCoMxqnUh4Z8PFFOCbOzC6mhYv0bsljog&usqp=CAU\\nhttps://encrypted-tbn0.gstatic.com/images?q=tbn%3AANd9GcRM0gJ9BRNTkcbxhWomwqd02fpPx_Q974KGtQ&usqp=CAU\\nhttps://encrypted-tbn0.gstatic.com/images?q=tbn%3AANd9GcQl98_Rr4PXaN6Dz5Xubw8s2cMId4ps8FSE2w&usqp=CAU\\nhttps://encrypted-tbn0.gstatic.com/images?q=tbn%3AANd9GcR_lTGY5cQd3MdXXYyrDxUz1dj6CM7m0hOIvA&usqp=CAU\\nhttps://encrypted-tbn0.gstatic.com/images?q=tbn%3AANd9GcRkKbKP-sAATifht4tQvV0rkfbWuJZhA3hioA&usqp=CAU\\nhttps://encrypted-tbn0.gstatic.com/images?q=tbn%3AANd9GcRyHDhUGOC00EGpPFhm4dwmqmIgzv6OiAIzNQ&usqp=CAU\\nhttps://encrypted-tbn0.gstatic.com/images?q=tbn%3AANd9GcQrfe23ZEdAYacScC_89O6hlPB0blhRX_nkFg&usqp=CAU\\nhttps://encrypted-tbn0.gstatic.com/images?q=tbn%3AANd9GcSs672QsqssyyaBMwRdL2lK_9Cwpcn3b8g1Sw&usqp=CAU\\nhttps://encrypted-tbn0.gstatic.com/images?q=tbn%3AANd9GcQZEY22Mpmo500-ZBVqIiLWWhHUx_8ElPlwDw&usqp=CAU\\nhttps://encrypted-tbn0.gstatic.com/images?q=tbn%3AANd9GcT8BLOHSaDHiXw2suOqjTm7Ce-foNNsyqUhIA&usqp=CAU\\nhttps://encrypted-tbn0.gstatic.com/images?q=tbn%3AANd9GcStm5j9vIVp7FFCtFWTzDm16vCqiCbYBTMLuA&usqp=CAU\\nhttps://encrypted-tbn0.gstatic.com/images?q=tbn%3AANd9GcSf-eMs7pzVGV4QFFha7uLZSp1llTo3kvxmmQ&usqp=CAU\\nhttps://encrypted-tbn0.gstatic.com/images?q=tbn%3AANd9GcSitgAOGVi-0rl9zVUilJx6ACFDHlYy650-xA&usqp=CAU\\nhttps://encrypted-tbn0.gstatic.com/images?q=tbn%3AANd9GcRlR7_BXn69G5BDecWJ7HOdfPH_bUKrkBZ_7VxezCo02vR1exR-&usqp=CAU\\nhttps://encrypted-tbn0.gstatic.com/images?q=tbn%3AANd9GcQK2SaE2gg-yzV-WXxFChH3nZDO-x5OcnaL4JRDGbDA5NiBxBcs&usqp=CAU\\nhttps://encrypted-tbn0.gstatic.com/images?q=tbn%3AANd9GcRjN14C76eGi4mPKAXELImInoaug7gWYlMzpuMXkutcPLed2MZ0&usqp=CAU\\nhttps://encrypted-tbn0.gstatic.com/images?q=tbn%3AANd9GcQTLtR7CbAQhu4zC1jKM2AA-3-A3Ho85Gz6ww&usqp=CAU\\nhttps://encrypted-tbn0.gstatic.com/images?q=tbn%3AANd9GcTnizZHerA8NpPOgblknO4T3NcmTgLyw6n0WA&usqp=CAU\\nhttps://encrypted-tbn0.gstatic.com/images?q=tbn%3AANd9GcQk0TfNlWieDkdpOTuHD2CoaI2kyfhrb4tnqg&usqp=CAU\\nhttps://encrypted-tbn0.gstatic.com/images?q=tbn%3AANd9GcRYLWv0WNCI4PJ8sBhYcPcNDf04PEldKQ13Ow&usqp=CAU\\nhttps://encrypted-tbn0.gstatic.com/images?q=tbn%3AANd9GcQu_PKMCVolAjHouDNPEQClv6isgse74ReYIA&usqp=CAU\\nhttps://encrypted-tbn0.gstatic.com/images?q=tbn%3AANd9GcQtDgCpnWNIRs-7tSzAzbyYjL1GWIcnhriNoA&usqp=CAU\\nhttps://encrypted-tbn0.gstatic.com/images?q=tbn%3AANd9GcRE4S-zETb1xlOV8vUyvUcLMKxbuwy16bZcpw&usqp=CAU\\nhttps://encrypted-tbn0.gstatic.com/images?q=tbn%3AANd9GcRs8MU0MNkaWZ8wE8tuStDlL8N3Fy-MPJ9C5HpESYWPkhGv7ErL&usqp=CAU\\nhttps://encrypted-tbn0.gstatic.com/images?q=tbn%3AANd9GcSWaDfygfjOtJhJMXtMG06Mux2mEsAk_Yg3nnnw7JgzhOjLsxFZ&usqp=CAU\\nhttps://encrypted-tbn0.gstatic.com/images?q=tbn%3AANd9GcTJ4tfGx_PE6_sfWayugNeRSQuPpLMSr_6YS7mPqA0&usqp=CAU\\nhttps://encrypted-tbn0.gstatic.com/images?q=tbn%3AANd9GcTSFvbnsMW63by1TrtvOw6HyLtUbvSbCAeFkg&usqp=CAU\\nhttps://encrypted-tbn0.gstatic.com/images?q=tbn%3AANd9GcQLBTWhGkzG4f5wJBFHsicmKz55c6jifg6pbw&usqp=CAU\\nhttps://encrypted-tbn0.gstatic.com/images?q=tbn%3AANd9GcT3Y3k8gZIh5I6C2Ta1HQH2Td9jimR-y9DMqQ&usqp=CAU\\nhttps://encrypted-tbn0.gstatic.com/images?q=tbn%3AANd9GcSj_7eNwCBWHB9BPRlR1N14-X1gkP51JaR1-g&usqp=CAU\\nhttps://encrypted-tbn0.gstatic.com/images?q=tbn%3AANd9GcT7GVxwGy7dFjnys_vSeIY9Oc7bENMJgiq0jQ&usqp=CAU\\nhttps://encrypted-tbn0.gstatic.com/images?q=tbn%3AANd9GcQBG0zUvP-VWch6WRAQTJPqVfamEtjCE9-G6g&usqp=CAU\\nhttps://encrypted-tbn0.gstatic.com/images?q=tbn%3AANd9GcS6Keo-RzuQNrnO1R3bwGSF5OcIcAhOZ2mnfQ&usqp=CAU\\nhttps://encrypted-tbn0.gstatic.com/images?q=tbn%3AANd9GcQHeRsFcdFtmVFnd4qeQK2RMAofPn7DzhR8pw&usqp=CAU\\nhttps://encrypted-tbn0.gstatic.com/images?q=tbn%3AANd9GcTJBs6QRsMywRmP2QI6ixrPBQY8yLWK8UCslg&usqp=CAU\\nhttps://encrypted-tbn0.gstatic.com/images?q=tbn%3AANd9GcR4_G9byjL9LW0tUz2ennlQrwHBS56K-Zpdew&usqp=CAU\\nhttps://encrypted-tbn0.gstatic.com/images?q=tbn%3AANd9GcRWD_lw2S7zIA0HFhNwMbSKOdF67ykY9-SvVQ&usqp=CAU\\nhttps://encrypted-tbn0.gstatic.com/images?q=tbn%3AANd9GcRR4s0m7THy2GTCV_xerEu9TCQbJm2tpA_qIg&usqp=CAU\\nhttps://encrypted-tbn0.gstatic.com/images?q=tbn%3AANd9GcRneTZTSG_TiKBPJ69YokNLF_CbCXF1OPxYIQ&usqp=CAU\\nhttps://encrypted-tbn0.gstatic.com/images?q=tbn%3AANd9GcSeZMbzmy2555harZpo8TgQ53ZfWmi-6vaQuA&usqp=CAU\\nhttps://encrypted-tbn0.gstatic.com/images?q=tbn%3AANd9GcTZKdxmdn0CZqOpi9AN2pwKQPomTAWrhBTEpQ&usqp=CAU\\nhttps://encrypted-tbn0.gstatic.com/images?q=tbn%3AANd9GcSVU-6_tFcsrfbmtYWoMfCnFfflrv_jxEhiAA&usqp=CAU\\nhttps://encrypted-tbn0.gstatic.com/images?q=tbn%3AANd9GcSkeoKUejHTs8F-G0iQj3dr08BzpOyEKHEQsg&usqp=CAU\\nhttps://encrypted-tbn0.gstatic.com/images?q=tbn%3AANd9GcSARqCz6Zaid3dfPel4xsMyO3zgRaoK-IfRTg&usqp=CAU\\nhttps://encrypted-tbn0.gstatic.com/images?q=tbn%3AANd9GcSORHkwf9OK3jVsfqVhI0XYxJh-DNn5BBapHw&usqp=CAU\\nhttps://encrypted-tbn0.gstatic.com/images?q=tbn%3AANd9GcQWtYhzvMv9DtDhO3blV5imngh-y-x__JY0WQ&usqp=CAU\\nhttps://encrypted-tbn0.gstatic.com/images?q=tbn%3AANd9GcTyBMUeaH2t43PHEqLsnTi3whiJzF36tjMArw&usqp=CAU\\nhttps://encrypted-tbn0.gstatic.com/images?q=tbn%3AANd9GcSxuKQKNkTxeH59s_5PNcTxlff1wmfo9RyWXg&usqp=CAU\\nhttps://encrypted-tbn0.gstatic.com/images?q=tbn%3AANd9GcQVuJ9dspWpyJ9RtW8u7NtOfeNZCrEWTghXNA&usqp=CAU\\nhttps://encrypted-tbn0.gstatic.com/images?q=tbn%3AANd9GcSrO0RW7VGgmzYHQkx7qKvk40iVEL9hQvLdXQ&usqp=CAU\\nhttps://encrypted-tbn0.gstatic.com/images?q=tbn%3AANd9GcTCE4KhOqk9UHJZrFlgPTDSZ7Ku2Y8WRi-SYXKzellwor4VaUXW&usqp=CAU\\nhttps://encrypted-tbn0.gstatic.com/images?q=tbn%3AANd9GcRjOi2dyrpSncQBE1SjNSAcD7ncTiILPbcow3LB7vy74kpsa3Tl&usqp=CAU\\nhttps://encrypted-tbn0.gstatic.com/images?q=tbn%3AANd9GcS9__jKW-T_n26QT_Xi9hnlZBGlUbGUJ06Kcheo_4Gi18eaIH-Y&usqp=CAU\\nhttps://encrypted-tbn0.gstatic.com/images?q=tbn%3AANd9GcRHShiVzV5UfEnSyMxq6IE3qG4nJToyJsVdsg&usqp=CAU\\nhttps://encrypted-tbn0.gstatic.com/images?q=tbn%3AANd9GcQYaB1oaF-dstr0NkCWE4gP1uqOARGbdSAV5A&usqp=CAU\\nhttps://encrypted-tbn0.gstatic.com/images?q=tbn%3AANd9GcSUyrfMG6u53UEtpeIso8ebFT0xCmmKLotI0Q&usqp=CAU\\nhttps://encrypted-tbn0.gstatic.com/images?q=tbn%3AANd9GcQJRs0_azsvxTsc-vSKvrsN8KfBdXl2IdamgA&usqp=CAU\\nhttps://encrypted-tbn0.gstatic.com/images?q=tbn%3AANd9GcSUyrfMG6u53UEtpeIso8ebFT0xCmmKLotI0Q&usqp=CAU\\nhttps://encrypted-tbn0.gstatic.com/images?q=tbn%3AANd9GcSeIl9A3rigbjNxrGO1TecbTGmZEYTf1nTA6w&usqp=CAU\\nhttps://encrypted-tbn0.gstatic.com/images?q=tbn%3AANd9GcQJRs0_azsvxTsc-vSKvrsN8KfBdXl2IdamgA&usqp=CAU\\nhttps://encrypted-tbn0.gstatic.com/images?q=tbn%3AANd9GcSL5P0ZpJXUcXT3HfO87jaC-tFUjx9-VRvyaQ&usqp=CAU\\nhttps://encrypted-tbn0.gstatic.com/images?q=tbn%3AANd9GcT1-b2GfYrkly9_vVRJ5UYqIhDf3lt-IcuZ-A&usqp=CAU\\nhttps://encrypted-tbn0.gstatic.com/images?q=tbn%3AANd9GcR9nJ7zKIq3_ZmFNpfXMOzyYJU6RonQdmaY0w&usqp=CAU\\nhttps://encrypted-tbn0.gstatic.com/images?q=tbn%3AANd9GcSJ0ianF74sfIs042Sgm2Rnd4wDR8q5T5A8jg&usqp=CAU\\nhttps://encrypted-tbn0.gstatic.com/images?q=tbn%3AANd9GcRlS03QYYs5nCZZ8sDUdG2NiQxjJKnJbaYKGg&usqp=CAU\\nhttps://encrypted-tbn0.gstatic.com/images?q=tbn%3AANd9GcTaIdkN3hdvMdCm5gCdN-HfFtc_YObI3qb01A&usqp=CAU\\nhttps://encrypted-tbn0.gstatic.com/images?q=tbn%3AANd9GcQMz5kQrjqY2QMqzK6ItTc3kA4_nSyYarqsyw&usqp=CAU\\nhttps://encrypted-tbn0.gstatic.com/images?q=tbn%3AANd9GcSIVNsQ-jpVM75Y5el44FpyVfYeTINAC7rk2w&usqp=CAU\\nhttps://encrypted-tbn0.gstatic.com/images?q=tbn%3AANd9GcS3Sk5B0rMIqsUfYqPemrlp5OZfh3bd6smM8Q&usqp=CAU\\nhttps://encrypted-tbn0.gstatic.com/images?q=tbn%3AANd9GcTBP8JbbLQqVx1Gl7fojM68UsKMBz-Lc_rAOA&usqp=CAU\\nhttps://encrypted-tbn0.gstatic.com/images?q=tbn%3AANd9GcSWKqf7gZ3OCPbc50H8iWZiXdQ5zSabj04M8A&usqp=CAU\\nhttps://encrypted-tbn0.gstatic.com/images?q=tbn%3AANd9GcSmyeqmuDKAUn32-3Doxe4yb7XG7GrncjUT_w&usqp=CAU\\nhttps://encrypted-tbn0.gstatic.com/images?q=tbn%3AANd9GcSjWOBR0BeR5oNMQKe8pNjynqXbPnXrQukRnA&usqp=CAU\\nhttps://encrypted-tbn0.gstatic.com/images?q=tbn%3AANd9GcR88NEMv9x3J5ZSDSQgBW9G3gVDP79Wl0Ob6w&usqp=CAU\\nhttps://encrypted-tbn0.gstatic.com/images?q=tbn%3AANd9GcTlU_6exZbe7vDfnEH01vWl2BxlMiduipF_WA&usqp=CAU\\nhttps://encrypted-tbn0.gstatic.com/images?q=tbn%3AANd9GcRv2lbUzjFfpXQMptLNAZ2JH_i85iZ2N08AhA&usqp=CAU\\nhttps://encrypted-tbn0.gstatic.com/images?q=tbn%3AANd9GcQwuM9fQ-3tx1aSib9U4OZnJZX1sN1QGvjB8Q&usqp=CAU\\nhttps://encrypted-tbn0.gstatic.com/images?q=tbn%3AANd9GcTBI4LQC5l8vAKryWH9R5suZHYmZF52Y96JEskNokOsb555SOvx&usqp=CAU\\nhttps://encrypted-tbn0.gstatic.com/images?q=tbn%3AANd9GcT-jtGZ3hu_A1cBs628iy-oHxCKDrsUjEuOK6loGvB5Xyk-l-Tt&usqp=CAU\\nhttps://encrypted-tbn0.gstatic.com/images?q=tbn%3AANd9GcQyj0aZAS_IJ8a3yaIxgJJfyfXsh8g7AtIamTBWkZl7rze6OrJ1&usqp=CAU\\nhttps://encrypted-tbn0.gstatic.com/images?q=tbn%3AANd9GcRKRCtZveYUs-oWACIyxGol3FFsFOrDfCPL4RDk0xgfYXBkgCG7&usqp=CAU\\nhttps://encrypted-tbn0.gstatic.com/images?q=tbn%3AANd9GcQ8ooTioOVuJH9Rw9z7zX1HX7t7yBituIxChqKbi1SOWo1lSOOe&usqp=CAU\\nhttps://encrypted-tbn0.gstatic.com/images?q=tbn%3AANd9GcTW9jVB8JgBdKzAV9w0EBVm7tFR3F0MGa0jqKtcinYIoMFGrZaK&usqp=CAU\\nhttps://encrypted-tbn0.gstatic.com/images?q=tbn%3AANd9GcSsoAXGWjMz5GF3jjkJMRAHDeIHrDIeqg7Wjg&usqp=CAU\\nhttps://encrypted-tbn0.gstatic.com/images?q=tbn%3AANd9GcSAirTZjeuzesj1W6FknVPBeU_CBAcKBTFyOg&usqp=CAU\\nhttps://encrypted-tbn0.gstatic.com/images?q=tbn%3AANd9GcTsko4y1-uFKrkE-s46kzyWqdJlgFi_EX_Npw&usqp=CAU\\nhttps://encrypted-tbn0.gstatic.com/images?q=tbn%3AANd9GcSnNF4BbiPQx1OrFXAU5d-N0b1fXF17gPEzjA&usqp=CAU\\nhttps://encrypted-tbn0.gstatic.com/images?q=tbn%3AANd9GcTdJXvFJ7xGl6i0Wm_z5ZnmBpjuls1os7Dp3A&usqp=CAU\\nhttps://encrypted-tbn0.gstatic.com/images?q=tbn%3AANd9GcTjX-QChTGEhc95oQTugRXGPraFGTzKaA0kYA&usqp=CAU\\nhttps://encrypted-tbn0.gstatic.com/images?q=tbn%3AANd9GcQTmBVWNzetZJC6w5GqNAU-G1tdi-G96edUQA&usqp=CAU\\nhttps://encrypted-tbn0.gstatic.com/images?q=tbn%3AANd9GcSeO6nXZ04jWg-OplhD0Yau0IIkfqfpNT5Eeg&usqp=CAU\\nhttps://encrypted-tbn0.gstatic.com/images?q=tbn%3AANd9GcSl8_rdRJh_hgUCuhR5Okbv5KLidyRgmYGwxg&usqp=CAU\\nhttps://encrypted-tbn0.gstatic.com/images?q=tbn%3AANd9GcR3QU4hAHBK3k-EpR_EETP69LMZv2C7Zvli1A&usqp=CAU\\nhttps://encrypted-tbn0.gstatic.com/images?q=tbn%3AANd9GcRlR7_BXn69G5BDecWJ7HOdfPH_bUKrkBZ_7VxezCo02vR1exR-&usqp=CAU\\nhttps://encrypted-tbn0.gstatic.com/images?q=tbn%3AANd9GcQK2SaE2gg-yzV-WXxFChH3nZDO-x5OcnaL4JRDGbDA5NiBxBcs&usqp=CAU\\nhttps://encrypted-tbn0.gstatic.com/images?q=tbn%3AANd9GcRjN14C76eGi4mPKAXELImInoaug7gWYlMzpuMXkutcPLed2MZ0&usqp=CAU\\nhttps://encrypted-tbn0.gstatic.com/images?q=tbn%3AANd9GcQ2qz6pXGy7FN86VSfbNjwsdWdNL1DWG8JL7Q&usqp=CAU\\nhttps://encrypted-tbn0.gstatic.com/images?q=tbn%3AANd9GcSXuJorMbPGfawounPWEHfIiHhL5D8eKOkR9g&usqp=CAU\\nhttps://encrypted-tbn0.gstatic.com/images?q=tbn%3AANd9GcT_yKallQlizNOX-bDgvoje5j1WOq2dAEbeOw&usqp=CAU\\nhttps://encrypted-tbn0.gstatic.com/images?q=tbn%3AANd9GcR0oMx2FHtfUtNBRD9RlqA0Xr4ABmgBjX54xg&usqp=CAU\\nhttps://encrypted-tbn0.gstatic.com/images?q=tbn%3AANd9GcS5JB35hC-eUnIPLK9pTtyswr8uNUdx-PjJXg&usqp=CAU\\nhttps://encrypted-tbn0.gstatic.com/images?q=tbn%3AANd9GcQtlj4vekwBRqn69XOwm9pk-v2AAAHHyxy4SA&usqp=CAU\\nhttps://encrypted-tbn0.gstatic.com/images?q=tbn%3AANd9GcTR9oheEJWayCCqxRjNvoBisdy4_64q9yA88Q&usqp=CAU\\nhttps://encrypted-tbn0.gstatic.com/images?q=tbn%3AANd9GcQNrcJJKnam75J9dw47BytGaZrKlqrqaw3u3Q&usqp=CAU\\nhttps://encrypted-tbn0.gstatic.com/images?q=tbn%3AANd9GcRu_9A3Cd3V9Y-alr8V1fdeNpj8vEiKvjf1ww&usqp=CAU\\nhttps://encrypted-tbn0.gstatic.com/images?q=tbn%3AANd9GcRVi_VzMCDKqkbQrDHfFYXKx43kODfQgjzxFA&usqp=CAU\\nhttps://encrypted-tbn0.gstatic.com/images?q=tbn%3AANd9GcRHRxSm0xjSYONQDqpFnxR7t88X1V7ou-dutw&usqp=CAU\\nhttps://encrypted-tbn0.gstatic.com/images?q=tbn%3AANd9GcTBIwb9sC30XvAuOavYx4-xv9Su9tiT1crTLw&usqp=CAU\\nhttps://encrypted-tbn0.gstatic.com/images?q=tbn%3AANd9GcSssBRskOzNcOai3fom43eyofSZZf_JPjYpTA&usqp=CAU\\nhttps://encrypted-tbn0.gstatic.com/images?q=tbn%3AANd9GcR-PnszztUwnzlqn8z6Oky-E8ZSAKB-bNHNRQ&usqp=CAU\\nhttps://encrypted-tbn0.gstatic.com/images?q=tbn%3AANd9GcTELyVpbkblBNJnJpItOj5co64m7XcroMBSaw&usqp=CAU\\nhttps://encrypted-tbn0.gstatic.com/images?q=tbn%3AANd9GcTNSO-hsN_5yWk1QwOuc71G1AjmYbqJ9EZQvg&usqp=CAU\\nhttps://encrypted-tbn0.gstatic.com/images?q=tbn%3AANd9GcTCTiB3iA8Ugl5jyZxhIr-k7_PnYoFUyd513Q&usqp=CAU\\nhttps://encrypted-tbn0.gstatic.com/images?q=tbn%3AANd9GcT9qsYDvWEtCamI3mKIVtQ59mu_UsFawqb6mA&usqp=CAU\\nhttps://encrypted-tbn0.gstatic.com/images?q=tbn%3AANd9GcT-wKgPSnCI-Heoyn9EGPdU7MKB9_nmilduNw&usqp=CAU\\nhttps://encrypted-tbn0.gstatic.com/images?q=tbn%3AANd9GcQmaFRCf7CMSGVTUQw2uoB3ShJY7xI9u8-zkg&usqp=CAU\\nhttps://encrypted-tbn0.gstatic.com/images?q=tbn%3AANd9GcS35MkHq4wtkTT4X_fEApl36GM3Nda9EqUsGQ&usqp=CAU\\nhttps://encrypted-tbn0.gstatic.com/images?q=tbn%3AANd9GcSqGbJLe4D7Q3umuLZwAlKLnqudGtN4j74JhA&usqp=CAU\\nhttps://encrypted-tbn0.gstatic.com/images?q=tbn%3AANd9GcSFXVv4X0Md63K93-7MscQDMbHFckwwsNdXqg&usqp=CAU\\nhttps://encrypted-tbn0.gstatic.com/images?q=tbn%3AANd9GcQUprYU05sX6TRG1dFyMimwTgbyMeEy75T0yQ&usqp=CAU\\nhttps://encrypted-tbn0.gstatic.com/images?q=tbn%3AANd9GcRs8MU0MNkaWZ8wE8tuStDlL8N3Fy-MPJ9C5HpESYWPkhGv7ErL&usqp=CAU\\nhttps://encrypted-tbn0.gstatic.com/images?q=tbn%3AANd9GcSWaDfygfjOtJhJMXtMG06Mux2mEsAk_Yg3nnnw7JgzhOjLsxFZ&usqp=CAU\\nhttps://encrypted-tbn0.gstatic.com/images?q=tbn%3AANd9GcTJ4tfGx_PE6_sfWayugNeRSQuPpLMSr_6YS7mPqA0&usqp=CAU\\nhttps://encrypted-tbn0.gstatic.com/images?q=tbn%3AANd9GcRy1OCI2jGhfCde3eaUbQCMq_7IzknoiOYckg&usqp=CAU\\nhttps://encrypted-tbn0.gstatic.com/images?q=tbn%3AANd9GcTP7SYGsPvVq4LEdpjhON62wyG2-gxVf62gDw&usqp=CAU\\nhttps://encrypted-tbn0.gstatic.com/images?q=tbn%3AANd9GcTyr0KLxYpN3Lg-uc6iBZWwD7J2w7IkUl86hw&usqp=CAU\\nhttps://encrypted-tbn0.gstatic.com/images?q=tbn%3AANd9GcSJfC2NX1szr5SyzTqN-nQL1C_GhqGuufVo2g&usqp=CAU\\nhttps://encrypted-tbn0.gstatic.com/images?q=tbn%3AANd9GcSocaiB6qgwb8hOxYTkz5dSJB5cR0qrAmSrcA&usqp=CAU\\nhttps://encrypted-tbn0.gstatic.com/images?q=tbn%3AANd9GcQ95nUuHQOFOjCPlTN-JaAsV6ULQQitDGQkSg&usqp=CAU\\nhttps://encrypted-tbn0.gstatic.com/images?q=tbn%3AANd9GcSkXn9ageBIh7QorLIIdzvIPGduHmXEnxyqVg&usqp=CAU\\nhttps://encrypted-tbn0.gstatic.com/images?q=tbn%3AANd9GcQpf2u6AkKfE5_q_bI6W7ZpTT3FgQxDJcB1qg&usqp=CAU\\nhttps://encrypted-tbn0.gstatic.com/images?q=tbn%3AANd9GcQPvBcI0N8kG6lQW-p1wj4Ixb1cta-Oul_ORg&usqp=CAU\\nhttps://encrypted-tbn0.gstatic.com/images?q=tbn%3AANd9GcQx2RO3tBuP11J-xjpzO-RCEROjc3VsYzgjIA&usqp=CAU\\nhttps://encrypted-tbn0.gstatic.com/images?q=tbn%3AANd9GcQM3rdasiAqkDDZT07iYFDkx8SO6yEE0B7jXA&usqp=CAU\\nhttps://encrypted-tbn0.gstatic.com/images?q=tbn%3AANd9GcQLPQFydUcw5EC8HpD-euDjMloNu7lArhD57Q&usqp=CAU\\nhttps://encrypted-tbn0.gstatic.com/images?q=tbn%3AANd9GcT2XgabG7R74dCmVmRjjlT5laocu3-7i6t43Q&usqp=CAU\\nhttps://encrypted-tbn0.gstatic.com/images?q=tbn%3AANd9GcSK-eVORq9lkexWlD34fvk4I1lyjIa9B0H1NQ&usqp=CAU\\nhttps://encrypted-tbn0.gstatic.com/images?q=tbn%3AANd9GcRLt8Y-cdZUB5At8pwWm-rcpew_ukduxP2c1A&usqp=CAU\\nhttps://encrypted-tbn0.gstatic.com/images?q=tbn%3AANd9GcSxtX9xPUHEt7Fp6-xfZOQ6Pzxa_I0rD7CRow&usqp=CAU\\nhttps://encrypted-tbn0.gstatic.com/images?q=tbn%3AANd9GcTIt8iFeVtEUoRdJlNBtUGfZho2odCP-HskQA&usqp=CAU\\nhttps://encrypted-tbn0.gstatic.com/images?q=tbn%3AANd9GcRBS5r-NsCoVIJi5UyWoLhiFpzViWJJduRyQA&usqp=CAU\\nhttps://encrypted-tbn0.gstatic.com/images?q=tbn%3AANd9GcQXmgfp8QMKJ8bOBFRhBJRmzC5ZsuEcZdYA9A&usqp=CAU\\nhttps://encrypted-tbn0.gstatic.com/images?q=tbn%3AANd9GcTyygC-p-p2rdue5in7wrtrM3Hes750jdvFMA&usqp=CAU\\nhttps://encrypted-tbn0.gstatic.com/images?q=tbn%3AANd9GcR7OZonQ2COUXsLErHkna2lmX-sMK2l8rzR7w&usqp=CAU\\nhttps://encrypted-tbn0.gstatic.com/images?q=tbn%3AANd9GcQu-IMzSUfhOvASL5b-hbg9gWTj1h6pzhbugA&usqp=CAU\\nhttps://encrypted-tbn0.gstatic.com/images?q=tbn%3AANd9GcTCE4KhOqk9UHJZrFlgPTDSZ7Ku2Y8WRi-SYXKzellwor4VaUXW&usqp=CAU\\nhttps://encrypted-tbn0.gstatic.com/images?q=tbn%3AANd9GcRjOi2dyrpSncQBE1SjNSAcD7ncTiILPbcow3LB7vy74kpsa3Tl&usqp=CAU\\nhttps://encrypted-tbn0.gstatic.com/images?q=tbn%3AANd9GcS9__jKW-T_n26QT_Xi9hnlZBGlUbGUJ06Kcheo_4Gi18eaIH-Y&usqp=CAU\\nhttps://encrypted-tbn0.gstatic.com/images?q=tbn%3AANd9GcTBI4LQC5l8vAKryWH9R5suZHYmZF52Y96JEskNokOsb555SOvx&usqp=CAU\\nhttps://encrypted-tbn0.gstatic.com/images?q=tbn%3AANd9GcT-jtGZ3hu_A1cBs628iy-oHxCKDrsUjEuOK6loGvB5Xyk-l-Tt&usqp=CAU\\nhttps://encrypted-tbn0.gstatic.com/images?q=tbn%3AANd9GcQyj0aZAS_IJ8a3yaIxgJJfyfXsh8g7AtIamTBWkZl7rze6OrJ1&usqp=CAU\\nhttps://encrypted-tbn0.gstatic.com/images?q=tbn%3AANd9GcR-hqq3ln7H-OmVk3YzVrhXVPbfC8mkPyVRrw&usqp=CAU\\nhttps://encrypted-tbn0.gstatic.com/images?q=tbn%3AANd9GcR_kIPQGD7A4VIW0ls6MqsCJrxVEAq1quKh7A&usqp=CAU\\nhttps://encrypted-tbn0.gstatic.com/images?q=tbn%3AANd9GcR8FvdzSQYZvAV_8BSlTwiwHsbeQNIG_lsMpg&usqp=CAU\\nhttps://encrypted-tbn0.gstatic.com/images?q=tbn%3AANd9GcTo4uaKUvj5n3TwcZoryn9HYvh4vGBC8nm2wQ&usqp=CAU\\nhttps://encrypted-tbn0.gstatic.com/images?q=tbn%3AANd9GcTQ25eJY0UrGYHU3seFzVCqElxtgGCJCcaYEQ&usqp=CAU\\nhttps://encrypted-tbn0.gstatic.com/images?q=tbn%3AANd9GcRMSUVi2wmMksU59q7yYsU6Nyu4vn98cwFQMw&usqp=CAU\\nhttps://encrypted-tbn0.gstatic.com/images?q=tbn%3AANd9GcTWugjeX1rYDQBzMRauTlEnembI9aPpjm-0EQ&usqp=CAU\\nhttps://encrypted-tbn0.gstatic.com/images?q=tbn%3AANd9GcRi0JQaEITKzzxHD7bq2s3E0zv02cJCZ4pMWg&usqp=CAU\\nhttps://encrypted-tbn0.gstatic.com/images?q=tbn%3AANd9GcT7bOAIjG6gQlsu6naPnEvEchhEjzHAoSFqUg&usqp=CAU\\nhttps://encrypted-tbn0.gstatic.com/images?q=tbn%3AANd9GcTBXrmcFsG8T9gScJuM_odhV2Dq2XUb5bG05Q&usqp=CAU\\nhttps://encrypted-tbn0.gstatic.com/images?q=tbn%3AANd9GcSARHozI5PXR8qnvabgQ5B5-VWjnxSTqRMadg&usqp=CAU\\nhttps://encrypted-tbn0.gstatic.com/images?q=tbn%3AANd9GcRDuKyzns-pbV-gibw7YxScvrRdw_EEOR-YdQ&usqp=CAU\\nhttps://encrypted-tbn0.gstatic.com/images?q=tbn%3AANd9GcQaKHMK--EdJqbr2YcOdy9uACeZIluETLr8hQ&usqp=CAU\\nhttps://encrypted-tbn0.gstatic.com/images?q=tbn%3AANd9GcT0afk4TPl92tA0yOaL-dYUOGmWJ_YT9CGc1g&usqp=CAU\\nhttps://encrypted-tbn0.gstatic.com/images?q=tbn%3AANd9GcQTGg7Lt0HyfX5XclFIGfLQBaKg4q_WqAvcpA&usqp=CAU\\nhttps://encrypted-tbn0.gstatic.com/images?q=tbn%3AANd9GcQ_bRcgAAH4EyW7EvJj95RAT63ApJgMVnU7kA&usqp=CAU\\nhttps://encrypted-tbn0.gstatic.com/images?q=tbn%3AANd9GcRqWGE3LzDXF64ZHFam7bn6GToFkxbrIiStQw&usqp=CAU\\nhttps://encrypted-tbn0.gstatic.com/images?q=tbn%3AANd9GcRTLFeE0P_qCrY7Y-bKwFDSn5MOG-zj2o8DYg&usqp=CAU\\nhttps://encrypted-tbn0.gstatic.com/images?q=tbn%3AANd9GcSOghhbPyXEa4Z0BTxmPNdwIHsNifzUAMG0Ow&usqp=CAU\\nhttps://encrypted-tbn0.gstatic.com/images?q=tbn%3AANd9GcQRcUyHMN3S2Icpzdxnll-DJUAn0LwOYLiRUw&usqp=CAU\\nhttps://encrypted-tbn0.gstatic.com/images?q=tbn%3AANd9GcTUI_oHyLRXeH6HfU5-WObu3Y3IwgZ8m1rFvA&usqp=CAU\\nhttps://encrypted-tbn0.gstatic.com/images?q=tbn%3AANd9GcTFgjm3U_PgXKdZff7Fr0EGb4cVxGKJOoFGPQ&usqp=CAU\\nhttps://encrypted-tbn0.gstatic.com/images?q=tbn%3AANd9GcQ7AxvznNAatRUdu69zmIqzgl_bGQ_SzGOonQ&usqp=CAU\\nhttps://encrypted-tbn0.gstatic.com/images?q=tbn%3AANd9GcRmOhyZBWLJATrBq4i3AZegC3rxDYbCU_-u-w&usqp=CAU\\nhttps://encrypted-tbn0.gstatic.com/images?q=tbn%3AANd9GcQFp9fppuh6_5-OgTyzLJzvlfVXYAnzrvS4-Q&usqp=CAU\\nhttps://encrypted-tbn0.gstatic.com/images?q=tbn%3AANd9GcS9lSkG2dpOIx0gQeXHan5QPQfAEeV3zHCqLw&usqp=CAU\\nhttps://encrypted-tbn0.gstatic.com/images?q=tbn%3AANd9GcQ6oVCMpwPhixg0uT1R8UEUr8msHzRUPcuiAg&usqp=CAU\\nhttps://encrypted-tbn0.gstatic.com/images?q=tbn%3AANd9GcQfR0_jRdNmt-Txu8AMr0cFYWw-aj_mRt7Qyw&usqp=CAU\\nhttps://encrypted-tbn0.gstatic.com/images?q=tbn%3AANd9GcTXDrnZzs1-nYacnzFQ1fIVGMvjqjx5sQ75Wg&usqp=CAU\\nhttps://encrypted-tbn0.gstatic.com/images?q=tbn%3AANd9GcRJugxgKevDA3yoViiISOq4Jj4i4T0zK2AjIA&usqp=CAU\\nhttps://encrypted-tbn0.gstatic.com/images?q=tbn%3AANd9GcTWk4YQK5K8Cnk3WXvS3wEt1MJM6yA8tYS_bg&usqp=CAU\\nhttps://encrypted-tbn0.gstatic.com/images?q=tbn%3AANd9GcRKRCtZveYUs-oWACIyxGol3FFsFOrDfCPL4RDk0xgfYXBkgCG7&usqp=CAU\\nhttps://encrypted-tbn0.gstatic.com/images?q=tbn%3AANd9GcQ8ooTioOVuJH9Rw9z7zX1HX7t7yBituIxChqKbi1SOWo1lSOOe&usqp=CAU\\nhttps://encrypted-tbn0.gstatic.com/images?q=tbn%3AANd9GcTW9jVB8JgBdKzAV9w0EBVm7tFR3F0MGa0jqKtcinYIoMFGrZaK&usqp=CAU\\nhttps://encrypted-tbn0.gstatic.com/images?q=tbn%3AANd9GcRD1RUmqsB_xya7eb8M3Wr_rPK0qOXDTLhCPg&usqp=CAU\\nhttps://encrypted-tbn0.gstatic.com/images?q=tbn%3AANd9GcSVOSwFRtPKFdxopydxkMbv_csfy5qipt16sg&usqp=CAU\\nhttps://encrypted-tbn0.gstatic.com/images?q=tbn%3AANd9GcRyjNE1dJtwePqhk35cXfabUBhSQV1oIsrJdw&usqp=CAU\\nhttps://encrypted-tbn0.gstatic.com/images?q=tbn%3AANd9GcR-P0A1NPO76Z28oBXZANvgGN8OmcxR5XneWw&usqp=CAU\\nhttps://encrypted-tbn0.gstatic.com/images?q=tbn%3AANd9GcQiTd3B3-aFBScReE1lCaqvF_chz79Jjsu9jQ&usqp=CAU\\nhttps://encrypted-tbn0.gstatic.com/images?q=tbn%3AANd9GcS7bl5mxYD84n-nBOdiJNOOF46NoQLDaB1Oqw&usqp=CAU\\nhttps://encrypted-tbn0.gstatic.com/images?q=tbn%3AANd9GcRT8TQnULweB4XEru8Qk1BGacRyMtMdrW3jSg&usqp=CAU\\nhttps://encrypted-tbn0.gstatic.com/images?q=tbn%3AANd9GcRbaY_KpOCfAXttoZeSzMLafo4oCpSiLgzdYA&usqp=CAU\\nhttps://encrypted-tbn0.gstatic.com/images?q=tbn%3AANd9GcTTq79rO7wQWSRFcXGUfRIOK2sykZv9jIfw6w&usqp=CAU\\nhttps://encrypted-tbn0.gstatic.com/images?q=tbn%3AANd9GcSjm3MVqey_KyRlnJN3l-Uo0ds0n1nYS-kadg&usqp=CAU\\nhttps://encrypted-tbn0.gstatic.com/images?q=tbn%3AANd9GcTriWcpkcKVv6FhVOQs_X2TdPYvz4NMJzPveA&usqp=CAU\\nhttps://encrypted-tbn0.gstatic.com/images?q=tbn%3AANd9GcSbjcnTVZqF6m9Xgh4esNeATlMuH0Z2cVxj8w&usqp=CAU\\nhttps://encrypted-tbn0.gstatic.com/images?q=tbn%3AANd9GcRWw4hjwgEr-BbcjIgd2-6z_dkNeXGt46uQSg&usqp=CAU\\nhttps://encrypted-tbn0.gstatic.com/images?q=tbn%3AANd9GcTzXD9mBK2FTek_9EaMslxobFxTwZJyZQPOEA&usqp=CAU\\nhttps://encrypted-tbn0.gstatic.com/images?q=tbn%3AANd9GcQCeMGT57a4TDAV1C800Ndzv9b0Wg6OUIJ7fQ&usqp=CAU\\nhttps://encrypted-tbn0.gstatic.com/images?q=tbn%3AANd9GcSoxOpGqZzpC7vBhsc_tq_09d4MayFUZGiMRg&usqp=CAU\\nhttps://encrypted-tbn0.gstatic.com/images?q=tbn%3AANd9GcSj0xwTgcG5WcmrQEBCLtKaMFsQFeDZYYxrxA&usqp=CAU\\nhttps://encrypted-tbn0.gstatic.com/images?q=tbn%3AANd9GcS68IShsXERjFZSpJA0yQuL3VGDBb6moMRehg&usqp=CAU\\nhttps://encrypted-tbn0.gstatic.com/images?q=tbn%3AANd9GcSlPkQIUwoxN_J7EqFq8NUAHLYCLJ1C3xDwSg&usqp=CAU\\nhttps://encrypted-tbn0.gstatic.com/images?q=tbn%3AANd9GcShV5ER1tg8U-aer4QH4ahpzHQOa0vc3z9D5A&usqp=CAU\\nhttps://encrypted-tbn0.gstatic.com/images?q=tbn%3AANd9GcTiXvLJOBT0_5hIHunQPfL9F_mI65PGE1XrrA&usqp=CAU\\nhttps://encrypted-tbn0.gstatic.com/images?q=tbn%3AANd9GcQQkoS4o3k1Lsm5pNujdk0xdQqilXNhymcBCQ&usqp=CAU\\nhttps://encrypted-tbn0.gstatic.com/images?q=tbn%3AANd9GcRFwWmxXo-aB8BqNZHbCOIqLX57FZBvR6d9bw&usqp=CAU\\nhttps://encrypted-tbn0.gstatic.com/images?q=tbn%3AANd9GcQQKtuWeZamFUwHHHjjgEXHbo1MTUQa7_Ptng&usqp=CAU\\nhttps://encrypted-tbn0.gstatic.com/images?q=tbn%3AANd9GcRlR7_BXn69G5BDecWJ7HOdfPH_bUKrkBZ_7VxezCo02vR1exR-&usqp=CAU\\nhttps://encrypted-tbn0.gstatic.com/images?q=tbn%3AANd9GcQK2SaE2gg-yzV-WXxFChH3nZDO-x5OcnaL4JRDGbDA5NiBxBcs&usqp=CAU\\nhttps://encrypted-tbn0.gstatic.com/images?q=tbn%3AANd9GcRjN14C76eGi4mPKAXELImInoaug7gWYlMzpuMXkutcPLed2MZ0&usqp=CAU\\nhttps://encrypted-tbn0.gstatic.com/images?q=tbn%3AANd9GcS2qJ6A5N2BGhRk9Hxi_dy9ydLLb26syH_OXA&usqp=CAU\\nhttps://encrypted-tbn0.gstatic.com/images?q=tbn%3AANd9GcS3dbC3nuCvSOQVvWRFkZgCyYsfcpiO3wgzoQ&usqp=CAU\\nhttps://encrypted-tbn0.gstatic.com/images?q=tbn%3AANd9GcQcHp6Trb0-3YSQlbXOWs5bvQ-PpbfcjPODUg&usqp=CAU\\nhttps://encrypted-tbn0.gstatic.com/images?q=tbn%3AANd9GcTj5yFwZ26MQvLz2YHSwNpxVYHLavhRl5K5ug&usqp=CAU\\nhttps://encrypted-tbn0.gstatic.com/images?q=tbn%3AANd9GcRXtygITuXJyQa-5k_HKprd-f2Uli9uPIY_ww&usqp=CAU\\nhttps://encrypted-tbn0.gstatic.com/images?q=tbn%3AANd9GcR6LN0w1GpWEB3AVb-B-grbTtTLf346N7kpgw&usqp=CAU\\nhttps://encrypted-tbn0.gstatic.com/images?q=tbn%3AANd9GcRIvThFw4s8iGtw5XFsSOUyvSnIt9Q2pzttuw&usqp=CAU\\nhttps://encrypted-tbn0.gstatic.com/images?q=tbn%3AANd9GcTfiebzePUkUS-B4eSrKA9ARSDcJLAm5SYklQ&usqp=CAU\\nhttps://encrypted-tbn0.gstatic.com/images?q=tbn%3AANd9GcQZTgmrcPDhtatDrw0s2ya1SW__qn5PQx19ng&usqp=CAU\\nhttps://encrypted-tbn0.gstatic.com/images?q=tbn%3AANd9GcQOjaEfNk4oxnKBv_YIYJPaHyUraHDANEF3og&usqp=CAU\\nhttps://encrypted-tbn0.gstatic.com/images?q=tbn%3AANd9GcQt18r3YqWB0BOxeuZbx9GM4YvCvrE3IppPKQ&usqp=CAU\\nhttps://encrypted-tbn0.gstatic.com/images?q=tbn%3AANd9GcQMeMt8x4utYB4NlCFiKEg_XAOaGdj44-kMjw&usqp=CAU\\nhttps://encrypted-tbn0.gstatic.com/images?q=tbn%3AANd9GcSogSywae53xT-F511Cip5JuoJViLC35psXsA&usqp=CAU\\nhttps://encrypted-tbn0.gstatic.com/images?q=tbn%3AANd9GcTpbH-PVg5K1C0xLvF_eMpKqwSgEscStVQ7lA&usqp=CAU\\nhttps://encrypted-tbn0.gstatic.com/images?q=tbn%3AANd9GcTZEE9G3KvF0BSXNv2iHBLyui4pprNwq_RnlQ&usqp=CAU\\nhttps://encrypted-tbn0.gstatic.com/images?q=tbn%3AANd9GcQFPDUrDxDpNuW1FcIB9DYRcUZP7GJVXjeifA&usqp=CAU\\nhttps://encrypted-tbn0.gstatic.com/images?q=tbn%3AANd9GcTsIBY3yfoY2CALcxhg7_U02YPSBXiWSfnk_A&usqp=CAU\\nhttps://encrypted-tbn0.gstatic.com/images?q=tbn%3AANd9GcSLoTcEaeVsxQq-LD313poVU8-FnhjuuOu2rA&usqp=CAU\\nhttps://encrypted-tbn0.gstatic.com/images?q=tbn%3AANd9GcQq5xqEACICAqo5jw0rBeoLmAyYCvGdCLoAog&usqp=CAU\\nhttps://encrypted-tbn0.gstatic.com/images?q=tbn%3AANd9GcSt-_t-ElvhBrJW-7ofLQsNK4EoDFnEWwt0iA&usqp=CAU\\nhttps://encrypted-tbn0.gstatic.com/images?q=tbn%3AANd9GcRs8MU0MNkaWZ8wE8tuStDlL8N3Fy-MPJ9C5HpESYWPkhGv7ErL&usqp=CAU\\nhttps://encrypted-tbn0.gstatic.com/images?q=tbn%3AANd9GcSWaDfygfjOtJhJMXtMG06Mux2mEsAk_Yg3nnnw7JgzhOjLsxFZ&usqp=CAU\\nhttps://encrypted-tbn0.gstatic.com/images?q=tbn%3AANd9GcTJ4tfGx_PE6_sfWayugNeRSQuPpLMSr_6YS7mPqA0&usqp=CAU\\nhttps://encrypted-tbn0.gstatic.com/images?q=tbn%3AANd9GcQg8Q6escrwivepqeIzhiN6ciYFf7L1sC5WSQ&usqp=CAU\\nhttps://encrypted-tbn0.gstatic.com/images?q=tbn%3AANd9GcTJYG_PpO39e237Q5VTc8qVuDbylqmdepWedg&usqp=CAU\\nhttps://encrypted-tbn0.gstatic.com/images?q=tbn%3AANd9GcSgqdPE4Ey5nczHqyVmgveCfoF1a7wMzVijtw&usqp=CAU\\nhttps://encrypted-tbn0.gstatic.com/images?q=tbn%3AANd9GcT24jDVbierCOBBtlrHHnieq2tQ9sUb-rwxWw&usqp=CAU\\nhttps://encrypted-tbn0.gstatic.com/images?q=tbn%3AANd9GcRhGKDPVyVUppXx0Vf8ztU598pCubM43BW7nw&usqp=CAU\\nhttps://encrypted-tbn0.gstatic.com/images?q=tbn%3AANd9GcRyRHRQObcRToDaOjrxXXKBNreD-IL0ushh2A&usqp=CAU\\nhttps://encrypted-tbn0.gstatic.com/images?q=tbn%3AANd9GcTXz-8Cuo9m_dB75DozG6PkC6TmHhnPwMnL3Q&usqp=CAU\\nhttps://encrypted-tbn0.gstatic.com/images?q=tbn%3AANd9GcT_P1FXW8Q6sWrxj7x5WSI52onKMkmA7TFQOw&usqp=CAU\\nhttps://encrypted-tbn0.gstatic.com/images?q=tbn%3AANd9GcTkFaEdagJePZfQTLJve1MXM0mSIrDzvn4Q8w&usqp=CAU\\nhttps://encrypted-tbn0.gstatic.com/images?q=tbn%3AANd9GcQvfNbfE9lIbCypSFe1Icyh0Zlh5odkWjQ1tA&usqp=CAU\\nhttps://encrypted-tbn0.gstatic.com/images?q=tbn%3AANd9GcSZXqAjFSqfB6pJmoW37tbj66_Ie-uxdJOqbQ&usqp=CAU\\nhttps://encrypted-tbn0.gstatic.com/images?q=tbn%3AANd9GcR0n7MH_7rkyANP1ySgvPrrLLo9I5pAcoHA4Q&usqp=CAU\\nhttps://encrypted-tbn0.gstatic.com/images?q=tbn%3AANd9GcRrQp9VcX5kP7XncybEBOwri1SVdWOv4be5Xg&usqp=CAU\\nhttps://encrypted-tbn0.gstatic.com/images?q=tbn%3AANd9GcSDklGTAc_Ul3RY3Xbd55EoLhRKSp74rsXdzw&usqp=CAU\\nhttps://encrypted-tbn0.gstatic.com/images?q=tbn%3AANd9GcQ1YjxBPtbEpfAgvqPT1EZusSIUyfxNBdyXyw&usqp=CAU\\nhttps://encrypted-tbn0.gstatic.com/images?q=tbn%3AANd9GcSVvi2r_ZCXG9smasQ5_rVIVSRJs12z0fJctQ&usqp=CAU\\nhttps://encrypted-tbn0.gstatic.com/images?q=tbn%3AANd9GcT1fFe8IO9lTFPeg50aLXnO2iG2at0OD8A17g&usqp=CAU\\nhttps://encrypted-tbn0.gstatic.com/images?q=tbn%3AANd9GcT2DTupYagnHYuDbIMM6emuz9p6_4OJjc7Xhw&usqp=CAU\\nhttps://encrypted-tbn0.gstatic.com/images?q=tbn%3AANd9GcSIErISMEYvVYQumIVSWV57qZKekP9a86o9Pw&usqp=CAU\\nhttps://encrypted-tbn0.gstatic.com/images?q=tbn%3AANd9GcRmy85d_vqeASzWpqmmVbfQu6upgT8bqSY32g&usqp=CAU\\nhttps://encrypted-tbn0.gstatic.com/images?q=tbn%3AANd9GcRC2q4TJ8shj-7kr-5pr-bDtSQVL0wNfIUjEw&usqp=CAU\\nhttps://encrypted-tbn0.gstatic.com/images?q=tbn%3AANd9GcTjUEXrfnUnFeKal6f7z_mLcRcEf78kDQH4EA&usqp=CAU\\nhttps://encrypted-tbn0.gstatic.com/images?q=tbn%3AANd9GcRyjyHQScxLalg7a-iQ-KjbmIRSOikEpa2wAw&usqp=CAU\\nhttps://encrypted-tbn0.gstatic.com/images?q=tbn%3AANd9GcStYnlfVPbPslMXS9nJ7NmL19S_A4nuUOkH_Q&usqp=CAU\\nhttps://encrypted-tbn0.gstatic.com/images?q=tbn%3AANd9GcTCE4KhOqk9UHJZrFlgPTDSZ7Ku2Y8WRi-SYXKzellwor4VaUXW&usqp=CAU\\nhttps://encrypted-tbn0.gstatic.com/images?q=tbn%3AANd9GcRjOi2dyrpSncQBE1SjNSAcD7ncTiILPbcow3LB7vy74kpsa3Tl&usqp=CAU\\nhttps://encrypted-tbn0.gstatic.com/images?q=tbn%3AANd9GcS9__jKW-T_n26QT_Xi9hnlZBGlUbGUJ06Kcheo_4Gi18eaIH-Y&usqp=CAU\\nhttps://encrypted-tbn0.gstatic.com/images?q=tbn%3AANd9GcScq9QggEXe6aL_3THkIbbHtKyGIWi4_R9l2g&usqp=CAU\\nhttps://encrypted-tbn0.gstatic.com/images?q=tbn%3AANd9GcT2fJJB4PeG8YxYuaB-1BGxGwBC1HCSqyLXQg&usqp=CAU\\nhttps://encrypted-tbn0.gstatic.com/images?q=tbn%3AANd9GcR3zfCO41j7Bi71WIDRxMRvpy54Y5QHIRdpUg&usqp=CAU\\nhttps://encrypted-tbn0.gstatic.com/images?q=tbn%3AANd9GcQqjZIxzrznMmzzIRV001y2OJEikZZIQ06__w&usqp=CAU\\nhttps://encrypted-tbn0.gstatic.com/images?q=tbn%3AANd9GcSVvig327SbGvtdgDjBigUbHDXErLW8eiZtlA&usqp=CAU\\nhttps://encrypted-tbn0.gstatic.com/images?q=tbn%3AANd9GcQTDoL67-oteoDiudqjVc1azenzkIO8VaF4_w&usqp=CAU\\nhttps://encrypted-tbn0.gstatic.com/images?q=tbn%3AANd9GcROP0XFj8AtilM4Sdt7dR2CV_bvq1lru1aNvw&usqp=CAU\\nhttps://encrypted-tbn0.gstatic.com/images?q=tbn%3AANd9GcRZNG19ZV_r5-10jcGzDlb4xyDX5j29d_77sQ&usqp=CAU\\nhttps://encrypted-tbn0.gstatic.com/images?q=tbn%3AANd9GcROjkkuUWtjm_NXgyMUA_qxz8cPOsmStlp9Vg&usqp=CAU\\nhttps://encrypted-tbn0.gstatic.com/images?q=tbn%3AANd9GcTNLQiPpYROJU7k2QUN2kjxPSBLoS5L73hCzA&usqp=CAU\\nhttps://encrypted-tbn0.gstatic.com/images?q=tbn%3AANd9GcR8q5FvTBpMcL59x5y2Dz6hVgIyveeAnVDrPA&usqp=CAU\\nhttps://encrypted-tbn0.gstatic.com/images?q=tbn%3AANd9GcSkGMJFePXOgLQGlVyTdTQM30TePe_ZOuMnsQ&usqp=CAU\\nhttps://encrypted-tbn0.gstatic.com/images?q=tbn%3AANd9GcRl1PYk--JTrJW6BBoLK9KqJmUG3w66TOT16w&usqp=CAU\\nhttps://encrypted-tbn0.gstatic.com/images?q=tbn%3AANd9GcSOXY-X0Q0ACyNW32H0Kr1ujmziNMXndsaDFQ&usqp=CAU\\nhttps://encrypted-tbn0.gstatic.com/images?q=tbn%3AANd9GcT-VCxk_Iq_AZQr5m_WiK2v7ypESKcGJQHHSQ&usqp=CAU'}"
            ]
          },
          "metadata": {
            "tags": []
          },
          "execution_count": 9
        }
      ]
    },
    {
      "cell_type": "code",
      "metadata": {
        "id": "oaZRwJ--9nUy"
      },
      "source": [
        "path = Path('bears')"
      ],
      "execution_count": 47,
      "outputs": []
    },
    {
      "cell_type": "code",
      "metadata": {
        "id": "aSS8Q_oTuzHB"
      },
      "source": [
        "!mkdir -p bears/{grizzly,polar,black}\n",
        "!cd bears/grizzly/ && xargs -n 1 curl -O < ../../grizzly.csv\n",
        "!cd bears/black/ && xargs -n 1 curl -O < ../../black.csv\n",
        "!cd bears/polar/ && xargs -n 1 curl -O < ../../polar.csv\n"
      ],
      "execution_count": null,
      "outputs": []
    },
    {
      "cell_type": "code",
      "metadata": {
        "id": "a9nc_bruALXE"
      },
      "source": [
        "!cd bears/grizzly; a=1; for i in *; do  new=$(printf \"%04d.jpg\" \"$a\");  mv -i -- \"$i\" \"$new\";  let a=a+1; done\n",
        "!cd bears/black; a=1; for i in *; do  new=$(printf \"%04d.jpg\" \"$a\");  mv -i -- \"$i\" \"$new\";  let a=a+1; done\n",
        "!cd bears/polar; a=1; for i in *; do  new=$(printf \"%04d.jpg\" \"$a\");  mv -i -- \"$i\" \"$new\";  let a=a+1; done"
      ],
      "execution_count": 57,
      "outputs": []
    },
    {
      "cell_type": "code",
      "metadata": {
        "id": "9tNobR-Cxa39"
      },
      "source": [
        "bears = DataBlock(\n",
        "    blocks=(ImageBlock, CategoryBlock), \n",
        "    get_items=get_image_files, \n",
        "    splitter=RandomSplitter(valid_pct=0.2, seed=42),\n",
        "    get_y=parent_label,\n",
        "    item_tfms=Resize(128))\n"
      ],
      "execution_count": 59,
      "outputs": []
    },
    {
      "cell_type": "code",
      "metadata": {
        "id": "b8bpxRLUx53N"
      },
      "source": [
        "dls = bears.dataloaders(path)"
      ],
      "execution_count": 60,
      "outputs": []
    },
    {
      "cell_type": "code",
      "metadata": {
        "id": "5T5e6dnJ9kOF"
      },
      "source": [
        ""
      ],
      "execution_count": null,
      "outputs": []
    }
  ]
}
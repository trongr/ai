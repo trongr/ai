{
  "nbformat": 4,
  "nbformat_minor": 0,
  "metadata": {
    "colab": {
      "name": "sgd.ipynb",
      "provenance": [],
      "collapsed_sections": [],
      "authorship_tag": "ABX9TyPToreK+eqjxnBUfhgLQ0jL",
      "include_colab_link": true
    },
    "kernelspec": {
      "name": "python3",
      "display_name": "Python 3"
    },
    "accelerator": "GPU"
  },
  "cells": [
    {
      "cell_type": "markdown",
      "metadata": {
        "id": "view-in-github",
        "colab_type": "text"
      },
      "source": [
        "<a href=\"https://colab.research.google.com/github/trongr/ai/blob/master/fastai/03-sgd.ipynb\" target=\"_parent\"><img src=\"https://colab.research.google.com/assets/colab-badge.svg\" alt=\"Open In Colab\"/></a>"
      ]
    },
    {
      "cell_type": "code",
      "metadata": {
        "id": "icFtmSYK0d08",
        "outputId": "0967429b-da64-4bfc-9f51-a620b91b687c",
        "colab": {
          "base_uri": "https://localhost:8080/"
        }
      },
      "source": [
        "#hide\n",
        "!pip install -Uqq fastbook\n",
        "import fastbook\n",
        "fastbook.setup_book()"
      ],
      "execution_count": null,
      "outputs": [
        {
          "output_type": "stream",
          "text": [
            "\u001b[K     |████████████████████████████████| 727kB 9.8MB/s \n",
            "\u001b[K     |████████████████████████████████| 1.1MB 46.5MB/s \n",
            "\u001b[K     |████████████████████████████████| 194kB 31.5MB/s \n",
            "\u001b[K     |████████████████████████████████| 51kB 8.0MB/s \n",
            "\u001b[K     |████████████████████████████████| 51kB 8.9MB/s \n",
            "\u001b[K     |████████████████████████████████| 51kB 7.7MB/s \n",
            "\u001b[K     |████████████████████████████████| 92kB 13.5MB/s \n",
            "\u001b[K     |████████████████████████████████| 40kB 6.6MB/s \n",
            "\u001b[K     |████████████████████████████████| 51kB 8.4MB/s \n",
            "\u001b[K     |████████████████████████████████| 61kB 9.3MB/s \n",
            "\u001b[K     |████████████████████████████████| 2.6MB 51.4MB/s \n",
            "\u001b[?25hMounted at /content/gdrive\n"
          ],
          "name": "stdout"
        }
      ]
    },
    {
      "cell_type": "code",
      "metadata": {
        "id": "MtnU_xfS3TJO"
      },
      "source": [
        "#hide\n",
        "from fastai.vision.all import *\n",
        "from fastbook import *\n",
        "\n",
        "matplotlib.rc('image', cmap='Greys')"
      ],
      "execution_count": null,
      "outputs": []
    },
    {
      "cell_type": "code",
      "metadata": {
        "id": "j3J2-lql3yHd",
        "outputId": "5793dc2e-b995-41d9-fa1b-482e51888968",
        "colab": {
          "base_uri": "https://localhost:8080/",
          "height": 17
        }
      },
      "source": [
        "path = untar_data(URLs.MNIST_SAMPLE)"
      ],
      "execution_count": null,
      "outputs": [
        {
          "output_type": "display_data",
          "data": {
            "text/html": [
              ""
            ],
            "text/plain": [
              "<IPython.core.display.HTML object>"
            ]
          },
          "metadata": {
            "tags": []
          }
        }
      ]
    },
    {
      "cell_type": "code",
      "metadata": {
        "id": "ofUCTSES4mad"
      },
      "source": [
        "#hide\n",
        "Path.BASE_PATH = path"
      ],
      "execution_count": null,
      "outputs": []
    },
    {
      "cell_type": "code",
      "metadata": {
        "id": "d-z6vHdf4ppu",
        "outputId": "4226f83a-867a-4a45-fbb8-ce83f52850ed",
        "colab": {
          "base_uri": "https://localhost:8080/"
        }
      },
      "source": [
        "path.ls()"
      ],
      "execution_count": null,
      "outputs": [
        {
          "output_type": "execute_result",
          "data": {
            "text/plain": [
              "(#3) [Path('train'),Path('valid'),Path('labels.csv')]"
            ]
          },
          "metadata": {
            "tags": []
          },
          "execution_count": 5
        }
      ]
    },
    {
      "cell_type": "code",
      "metadata": {
        "id": "WyNNZhCn4raF",
        "outputId": "2d601e51-3a98-40eb-8894-33a4aff53636",
        "colab": {
          "base_uri": "https://localhost:8080/"
        }
      },
      "source": [
        "(path/'train').ls()"
      ],
      "execution_count": null,
      "outputs": [
        {
          "output_type": "execute_result",
          "data": {
            "text/plain": [
              "(#2) [Path('train/3'),Path('train/7')]"
            ]
          },
          "metadata": {
            "tags": []
          },
          "execution_count": 6
        }
      ]
    },
    {
      "cell_type": "code",
      "metadata": {
        "id": "YMmRa_3F4675",
        "outputId": "3b7f968b-c126-4712-877c-58812379cef0",
        "colab": {
          "base_uri": "https://localhost:8080/"
        }
      },
      "source": [
        "threes = (path/'train'/'3').ls().sorted()\n",
        "sevens = (path/'train'/'7').ls().sorted()\n",
        "threes"
      ],
      "execution_count": null,
      "outputs": [
        {
          "output_type": "execute_result",
          "data": {
            "text/plain": [
              "(#6131) [Path('train/3/10.png'),Path('train/3/10000.png'),Path('train/3/10011.png'),Path('train/3/10031.png'),Path('train/3/10034.png'),Path('train/3/10042.png'),Path('train/3/10052.png'),Path('train/3/1007.png'),Path('train/3/10074.png'),Path('train/3/10091.png')...]"
            ]
          },
          "metadata": {
            "tags": []
          },
          "execution_count": 7
        }
      ]
    },
    {
      "cell_type": "code",
      "metadata": {
        "id": "5JJIq6bf5J0o",
        "outputId": "64c61688-23bc-41d1-c28b-5db159afa9e5",
        "colab": {
          "base_uri": "https://localhost:8080/",
          "height": 45
        }
      },
      "source": [
        "im3_path = threes[1]\n",
        "im3 = Image.open(im3_path)\n",
        "im3"
      ],
      "execution_count": null,
      "outputs": [
        {
          "output_type": "execute_result",
          "data": {
            "image/png": "[encoded data removed]",
            "text/plain": [
              "<PIL.PngImagePlugin.PngImageFile image mode=L size=28x28 at 0x7FE8822A1EB8>"
            ]
          },
          "metadata": {
            "tags": []
          },
          "execution_count": 8
        }
      ]
    },
    {
      "cell_type": "code",
      "metadata": {
        "id": "b9y8NV7K5VRi",
        "outputId": "3fe74ac0-285d-4cfd-887c-050c0329d16b",
        "colab": {
          "base_uri": "https://localhost:8080/"
        }
      },
      "source": [
        "array(im3)[4:10,4:10]"
      ],
      "execution_count": null,
      "outputs": [
        {
          "output_type": "execute_result",
          "data": {
            "text/plain": [
              "array([[  0,   0,   0,   0,   0,   0],\n",
              "       [  0,   0,   0,   0,   0,  29],\n",
              "       [  0,   0,   0,  48, 166, 224],\n",
              "       [  0,  93, 244, 249, 253, 187],\n",
              "       [  0, 107, 253, 253, 230,  48],\n",
              "       [  0,   3,  20,  20,  15,   0]], dtype=uint8)"
            ]
          },
          "metadata": {
            "tags": []
          },
          "execution_count": 9
        }
      ]
    },
    {
      "cell_type": "code",
      "metadata": {
        "id": "e76vo9nd5Z6E",
        "outputId": "a4010453-d0e4-4818-f999-1a48b939ef27",
        "colab": {
          "base_uri": "https://localhost:8080/"
        }
      },
      "source": [
        "tensor(im3)[4:10,4:10]"
      ],
      "execution_count": null,
      "outputs": [
        {
          "output_type": "execute_result",
          "data": {
            "text/plain": [
              "tensor([[  0,   0,   0,   0,   0,   0],\n",
              "        [  0,   0,   0,   0,   0,  29],\n",
              "        [  0,   0,   0,  48, 166, 224],\n",
              "        [  0,  93, 244, 249, 253, 187],\n",
              "        [  0, 107, 253, 253, 230,  48],\n",
              "        [  0,   3,  20,  20,  15,   0]], dtype=torch.uint8)"
            ]
          },
          "metadata": {
            "tags": []
          },
          "execution_count": 10
        }
      ]
    },
    {
      "cell_type": "code",
      "metadata": {
        "id": "zpYeKzzK5dMl",
        "outputId": "95da03f0-4ec6-4466-8ebb-46ab47bf971c",
        "colab": {
          "base_uri": "https://localhost:8080/",
          "height": 275
        }
      },
      "source": [
        "#hide_output\n",
        "im3_t = tensor(im3)\n",
        "df = pd.DataFrame(im3_t[4:15,4:22])\n",
        "df.style.set_properties(**{'font-size':'6pt'}).background_gradient('Greys')"
      ],
      "execution_count": null,
      "outputs": [
        {
          "output_type": "execute_result",
          "data": {
            "text/html": [
              "<style  type=\"text/css\" >\n",
              "#T_dd038d08_1fe6_11eb_9f54_0242ac1c0002row0_col0,#T_dd038d08_1fe6_11eb_9f54_0242ac1c0002row0_col1,#T_dd038d08_1fe6_11eb_9f54_0242ac1c0002row0_col2,#T_dd038d08_1fe6_11eb_9f54_0242ac1c0002row0_col3,#T_dd038d08_1fe6_11eb_9f54_0242ac1c0002row0_col4,#T_dd038d08_1fe6_11eb_9f54_0242ac1c0002row0_col5,#T_dd038d08_1fe6_11eb_9f54_0242ac1c0002row0_col6,#T_dd038d08_1fe6_11eb_9f54_0242ac1c0002row0_col7,#T_dd038d08_1fe6_11eb_9f54_0242ac1c0002row0_col8,#T_dd038d08_1fe6_11eb_9f54_0242ac1c0002row0_col9,#T_dd038d08_1fe6_11eb_9f54_0242ac1c0002row0_col10,#T_dd038d08_1fe6_11eb_9f54_0242ac1c0002row0_col11,#T_dd038d08_1fe6_11eb_9f54_0242ac1c0002row0_col12,#T_dd038d08_1fe6_11eb_9f54_0242ac1c0002row0_col13,#T_dd038d08_1fe6_11eb_9f54_0242ac1c0002row0_col14,#T_dd038d08_1fe6_11eb_9f54_0242ac1c0002row0_col15,#T_dd038d08_1fe6_11eb_9f54_0242ac1c0002row0_col16,#T_dd038d08_1fe6_11eb_9f54_0242ac1c0002row0_col17,#T_dd038d08_1fe6_11eb_9f54_0242ac1c0002row1_col0,#T_dd038d08_1fe6_11eb_9f54_0242ac1c0002row1_col1,#T_dd038d08_1fe6_11eb_9f54_0242ac1c0002row1_col2,#T_dd038d08_1fe6_11eb_9f54_0242ac1c0002row1_col3,#T_dd038d08_1fe6_11eb_9f54_0242ac1c0002row1_col4,#T_dd038d08_1fe6_11eb_9f54_0242ac1c0002row1_col15,#T_dd038d08_1fe6_11eb_9f54_0242ac1c0002row1_col16,#T_dd038d08_1fe6_11eb_9f54_0242ac1c0002row1_col17,#T_dd038d08_1fe6_11eb_9f54_0242ac1c0002row2_col0,#T_dd038d08_1fe6_11eb_9f54_0242ac1c0002row2_col1,#T_dd038d08_1fe6_11eb_9f54_0242ac1c0002row2_col2,#T_dd038d08_1fe6_11eb_9f54_0242ac1c0002row2_col15,#T_dd038d08_1fe6_11eb_9f54_0242ac1c0002row2_col16,#T_dd038d08_1fe6_11eb_9f54_0242ac1c0002row2_col17,#T_dd038d08_1fe6_11eb_9f54_0242ac1c0002row3_col0,#T_dd038d08_1fe6_11eb_9f54_0242ac1c0002row3_col15,#T_dd038d08_1fe6_11eb_9f54_0242ac1c0002row3_col16,#T_dd038d08_1fe6_11eb_9f54_0242ac1c0002row3_col17,#T_dd038d08_1fe6_11eb_9f54_0242ac1c0002row4_col0,#T_dd038d08_1fe6_11eb_9f54_0242ac1c0002row4_col6,#T_dd038d08_1fe6_11eb_9f54_0242ac1c0002row4_col7,#T_dd038d08_1fe6_11eb_9f54_0242ac1c0002row4_col8,#T_dd038d08_1fe6_11eb_9f54_0242ac1c0002row4_col9,#T_dd038d08_1fe6_11eb_9f54_0242ac1c0002row4_col10,#T_dd038d08_1fe6_11eb_9f54_0242ac1c0002row4_col15,#T_dd038d08_1fe6_11eb_9f54_0242ac1c0002row4_col16,#T_dd038d08_1fe6_11eb_9f54_0242ac1c0002row4_col17,#T_dd038d08_1fe6_11eb_9f54_0242ac1c0002row5_col0,#T_dd038d08_1fe6_11eb_9f54_0242ac1c0002row5_col5,#T_dd038d08_1fe6_11eb_9f54_0242ac1c0002row5_col6,#T_dd038d08_1fe6_11eb_9f54_0242ac1c0002row5_col7,#T_dd038d08_1fe6_11eb_9f54_0242ac1c0002row5_col8,#T_dd038d08_1fe6_11eb_9f54_0242ac1c0002row5_col9,#T_dd038d08_1fe6_11eb_9f54_0242ac1c0002row5_col15,#T_dd038d08_1fe6_11eb_9f54_0242ac1c0002row5_col16,#T_dd038d08_1fe6_11eb_9f54_0242ac1c0002row5_col17,#T_dd038d08_1fe6_11eb_9f54_0242ac1c0002row6_col0,#T_dd038d08_1fe6_11eb_9f54_0242ac1c0002row6_col1,#T_dd038d08_1fe6_11eb_9f54_0242ac1c0002row6_col2,#T_dd038d08_1fe6_11eb_9f54_0242ac1c0002row6_col3,#T_dd038d08_1fe6_11eb_9f54_0242ac1c0002row6_col4,#T_dd038d08_1fe6_11eb_9f54_0242ac1c0002row6_col5,#T_dd038d08_1fe6_11eb_9f54_0242ac1c0002row6_col6,#T_dd038d08_1fe6_11eb_9f54_0242ac1c0002row6_col7,#T_dd038d08_1fe6_11eb_9f54_0242ac1c0002row6_col8,#T_dd038d08_1fe6_11eb_9f54_0242ac1c0002row6_col9,#T_dd038d08_1fe6_11eb_9f54_0242ac1c0002row6_col14,#T_dd038d08_1fe6_11eb_9f54_0242ac1c0002row6_col15,#T_dd038d08_1fe6_11eb_9f54_0242ac1c0002row6_col16,#T_dd038d08_1fe6_11eb_9f54_0242ac1c0002row6_col17,#T_dd038d08_1fe6_11eb_9f54_0242ac1c0002row7_col0,#T_dd038d08_1fe6_11eb_9f54_0242ac1c0002row7_col1,#T_dd038d08_1fe6_11eb_9f54_0242ac1c0002row7_col2,#T_dd038d08_1fe6_11eb_9f54_0242ac1c0002row7_col3,#T_dd038d08_1fe6_11eb_9f54_0242ac1c0002row7_col4,#T_dd038d08_1fe6_11eb_9f54_0242ac1c0002row7_col5,#T_dd038d08_1fe6_11eb_9f54_0242ac1c0002row7_col6,#T_dd038d08_1fe6_11eb_9f54_0242ac1c0002row7_col13,#T_dd038d08_1fe6_11eb_9f54_0242ac1c0002row7_col14,#T_dd038d08_1fe6_11eb_9f54_0242ac1c0002row7_col15,#T_dd038d08_1fe6_11eb_9f54_0242ac1c0002row7_col16,#T_dd038d08_1fe6_11eb_9f54_0242ac1c0002row7_col17,#T_dd038d08_1fe6_11eb_9f54_0242ac1c0002row8_col0,#T_dd038d08_1fe6_11eb_9f54_0242ac1c0002row8_col1,#T_dd038d08_1fe6_11eb_9f54_0242ac1c0002row8_col2,#T_dd038d08_1fe6_11eb_9f54_0242ac1c0002row8_col3,#T_dd038d08_1fe6_11eb_9f54_0242ac1c0002row8_col4,#T_dd038d08_1fe6_11eb_9f54_0242ac1c0002row8_col13,#T_dd038d08_1fe6_11eb_9f54_0242ac1c0002row8_col14,#T_dd038d08_1fe6_11eb_9f54_0242ac1c0002row8_col15,#T_dd038d08_1fe6_11eb_9f54_0242ac1c0002row8_col16,#T_dd038d08_1fe6_11eb_9f54_0242ac1c0002row8_col17,#T_dd038d08_1fe6_11eb_9f54_0242ac1c0002row9_col0,#T_dd038d08_1fe6_11eb_9f54_0242ac1c0002row9_col1,#T_dd038d08_1fe6_11eb_9f54_0242ac1c0002row9_col2,#T_dd038d08_1fe6_11eb_9f54_0242ac1c0002row9_col3,#T_dd038d08_1fe6_11eb_9f54_0242ac1c0002row9_col4,#T_dd038d08_1fe6_11eb_9f54_0242ac1c0002row9_col16,#T_dd038d08_1fe6_11eb_9f54_0242ac1c0002row9_col17,#T_dd038d08_1fe6_11eb_9f54_0242ac1c0002row10_col0,#T_dd038d08_1fe6_11eb_9f54_0242ac1c0002row10_col1,#T_dd038d08_1fe6_11eb_9f54_0242ac1c0002row10_col2,#T_dd038d08_1fe6_11eb_9f54_0242ac1c0002row10_col3,#T_dd038d08_1fe6_11eb_9f54_0242ac1c0002row10_col4,#T_dd038d08_1fe6_11eb_9f54_0242ac1c0002row10_col5,#T_dd038d08_1fe6_11eb_9f54_0242ac1c0002row10_col6,#T_dd038d08_1fe6_11eb_9f54_0242ac1c0002row10_col17{\n",
              "            font-size:  6pt;\n",
              "            background-color:  #ffffff;\n",
              "            color:  #000000;\n",
              "        }#T_dd038d08_1fe6_11eb_9f54_0242ac1c0002row1_col5{\n",
              "            font-size:  6pt;\n",
              "            background-color:  #efefef;\n",
              "            color:  #000000;\n",
              "        }#T_dd038d08_1fe6_11eb_9f54_0242ac1c0002row1_col6,#T_dd038d08_1fe6_11eb_9f54_0242ac1c0002row1_col13{\n",
              "            font-size:  6pt;\n",
              "            background-color:  #7c7c7c;\n",
              "            color:  #000000;\n",
              "        }#T_dd038d08_1fe6_11eb_9f54_0242ac1c0002row1_col7{\n",
              "            font-size:  6pt;\n",
              "            background-color:  #4a4a4a;\n",
              "            color:  #f1f1f1;\n",
              "        }#T_dd038d08_1fe6_11eb_9f54_0242ac1c0002row1_col8,#T_dd038d08_1fe6_11eb_9f54_0242ac1c0002row1_col9,#T_dd038d08_1fe6_11eb_9f54_0242ac1c0002row1_col10,#T_dd038d08_1fe6_11eb_9f54_0242ac1c0002row2_col5,#T_dd038d08_1fe6_11eb_9f54_0242ac1c0002row2_col6,#T_dd038d08_1fe6_11eb_9f54_0242ac1c0002row2_col7,#T_dd038d08_1fe6_11eb_9f54_0242ac1c0002row2_col11,#T_dd038d08_1fe6_11eb_9f54_0242ac1c0002row2_col12,#T_dd038d08_1fe6_11eb_9f54_0242ac1c0002row2_col13,#T_dd038d08_1fe6_11eb_9f54_0242ac1c0002row3_col4,#T_dd038d08_1fe6_11eb_9f54_0242ac1c0002row3_col12,#T_dd038d08_1fe6_11eb_9f54_0242ac1c0002row3_col13,#T_dd038d08_1fe6_11eb_9f54_0242ac1c0002row4_col1,#T_dd038d08_1fe6_11eb_9f54_0242ac1c0002row4_col2,#T_dd038d08_1fe6_11eb_9f54_0242ac1c0002row4_col3,#T_dd038d08_1fe6_11eb_9f54_0242ac1c0002row4_col12,#T_dd038d08_1fe6_11eb_9f54_0242ac1c0002row4_col13,#T_dd038d08_1fe6_11eb_9f54_0242ac1c0002row5_col12,#T_dd038d08_1fe6_11eb_9f54_0242ac1c0002row6_col11,#T_dd038d08_1fe6_11eb_9f54_0242ac1c0002row9_col11,#T_dd038d08_1fe6_11eb_9f54_0242ac1c0002row10_col11,#T_dd038d08_1fe6_11eb_9f54_0242ac1c0002row10_col12,#T_dd038d08_1fe6_11eb_9f54_0242ac1c0002row10_col13,#T_dd038d08_1fe6_11eb_9f54_0242ac1c0002row10_col14,#T_dd038d08_1fe6_11eb_9f54_0242ac1c0002row10_col15,#T_dd038d08_1fe6_11eb_9f54_0242ac1c0002row10_col16{\n",
              "            font-size:  6pt;\n",
              "            background-color:  #000000;\n",
              "            color:  #f1f1f1;\n",
              "        }#T_dd038d08_1fe6_11eb_9f54_0242ac1c0002row1_col11{\n",
              "            font-size:  6pt;\n",
              "            background-color:  #606060;\n",
              "            color:  #f1f1f1;\n",
              "        }#T_dd038d08_1fe6_11eb_9f54_0242ac1c0002row1_col12{\n",
              "            font-size:  6pt;\n",
              "            background-color:  #4d4d4d;\n",
              "            color:  #f1f1f1;\n",
              "        }#T_dd038d08_1fe6_11eb_9f54_0242ac1c0002row1_col14{\n",
              "            font-size:  6pt;\n",
              "            background-color:  #bbbbbb;\n",
              "            color:  #000000;\n",
              "        }#T_dd038d08_1fe6_11eb_9f54_0242ac1c0002row2_col3{\n",
              "            font-size:  6pt;\n",
              "            background-color:  #e4e4e4;\n",
              "            color:  #000000;\n",
              "        }#T_dd038d08_1fe6_11eb_9f54_0242ac1c0002row2_col4,#T_dd038d08_1fe6_11eb_9f54_0242ac1c0002row8_col6{\n",
              "            font-size:  6pt;\n",
              "            background-color:  #6b6b6b;\n",
              "            color:  #000000;\n",
              "        }#T_dd038d08_1fe6_11eb_9f54_0242ac1c0002row2_col8,#T_dd038d08_1fe6_11eb_9f54_0242ac1c0002row2_col14,#T_dd038d08_1fe6_11eb_9f54_0242ac1c0002row3_col14{\n",
              "            font-size:  6pt;\n",
              "            background-color:  #171717;\n",
              "            color:  #f1f1f1;\n",
              "        }#T_dd038d08_1fe6_11eb_9f54_0242ac1c0002row2_col9,#T_dd038d08_1fe6_11eb_9f54_0242ac1c0002row3_col11{\n",
              "            font-size:  6pt;\n",
              "            background-color:  #4b4b4b;\n",
              "            color:  #f1f1f1;\n",
              "        }#T_dd038d08_1fe6_11eb_9f54_0242ac1c0002row2_col10,#T_dd038d08_1fe6_11eb_9f54_0242ac1c0002row7_col10,#T_dd038d08_1fe6_11eb_9f54_0242ac1c0002row8_col8,#T_dd038d08_1fe6_11eb_9f54_0242ac1c0002row8_col10,#T_dd038d08_1fe6_11eb_9f54_0242ac1c0002row9_col8,#T_dd038d08_1fe6_11eb_9f54_0242ac1c0002row9_col10{\n",
              "            font-size:  6pt;\n",
              "            background-color:  #010101;\n",
              "            color:  #f1f1f1;\n",
              "        }#T_dd038d08_1fe6_11eb_9f54_0242ac1c0002row3_col1{\n",
              "            font-size:  6pt;\n",
              "            background-color:  #272727;\n",
              "            color:  #f1f1f1;\n",
              "        }#T_dd038d08_1fe6_11eb_9f54_0242ac1c0002row3_col2{\n",
              "            font-size:  6pt;\n",
              "            background-color:  #0a0a0a;\n",
              "            color:  #f1f1f1;\n",
              "        }#T_dd038d08_1fe6_11eb_9f54_0242ac1c0002row3_col3{\n",
              "            font-size:  6pt;\n",
              "            background-color:  #050505;\n",
              "            color:  #f1f1f1;\n",
              "        }#T_dd038d08_1fe6_11eb_9f54_0242ac1c0002row3_col5{\n",
              "            font-size:  6pt;\n",
              "            background-color:  #333333;\n",
              "            color:  #f1f1f1;\n",
              "        }#T_dd038d08_1fe6_11eb_9f54_0242ac1c0002row3_col6{\n",
              "            font-size:  6pt;\n",
              "            background-color:  #e6e6e6;\n",
              "            color:  #000000;\n",
              "        }#T_dd038d08_1fe6_11eb_9f54_0242ac1c0002row3_col7,#T_dd038d08_1fe6_11eb_9f54_0242ac1c0002row3_col10{\n",
              "            font-size:  6pt;\n",
              "            background-color:  #fafafa;\n",
              "            color:  #000000;\n",
              "        }#T_dd038d08_1fe6_11eb_9f54_0242ac1c0002row3_col8{\n",
              "            font-size:  6pt;\n",
              "            background-color:  #fbfbfb;\n",
              "            color:  #000000;\n",
              "        }#T_dd038d08_1fe6_11eb_9f54_0242ac1c0002row3_col9{\n",
              "            font-size:  6pt;\n",
              "            background-color:  #fdfdfd;\n",
              "            color:  #000000;\n",
              "        }#T_dd038d08_1fe6_11eb_9f54_0242ac1c0002row4_col4{\n",
              "            font-size:  6pt;\n",
              "            background-color:  #1b1b1b;\n",
              "            color:  #f1f1f1;\n",
              "        }#T_dd038d08_1fe6_11eb_9f54_0242ac1c0002row4_col5{\n",
              "            font-size:  6pt;\n",
              "            background-color:  #e0e0e0;\n",
              "            color:  #000000;\n",
              "        }#T_dd038d08_1fe6_11eb_9f54_0242ac1c0002row4_col11{\n",
              "            font-size:  6pt;\n",
              "            background-color:  #4e4e4e;\n",
              "            color:  #f1f1f1;\n",
              "        }#T_dd038d08_1fe6_11eb_9f54_0242ac1c0002row4_col14{\n",
              "            font-size:  6pt;\n",
              "            background-color:  #767676;\n",
              "            color:  #000000;\n",
              "        }#T_dd038d08_1fe6_11eb_9f54_0242ac1c0002row5_col1{\n",
              "            font-size:  6pt;\n",
              "            background-color:  #fcfcfc;\n",
              "            color:  #000000;\n",
              "        }#T_dd038d08_1fe6_11eb_9f54_0242ac1c0002row5_col2,#T_dd038d08_1fe6_11eb_9f54_0242ac1c0002row5_col3{\n",
              "            font-size:  6pt;\n",
              "            background-color:  #f6f6f6;\n",
              "            color:  #000000;\n",
              "        }#T_dd038d08_1fe6_11eb_9f54_0242ac1c0002row5_col4,#T_dd038d08_1fe6_11eb_9f54_0242ac1c0002row7_col7{\n",
              "            font-size:  6pt;\n",
              "            background-color:  #f8f8f8;\n",
              "            color:  #000000;\n",
              "        }#T_dd038d08_1fe6_11eb_9f54_0242ac1c0002row5_col10,#T_dd038d08_1fe6_11eb_9f54_0242ac1c0002row10_col7{\n",
              "            font-size:  6pt;\n",
              "            background-color:  #e8e8e8;\n",
              "            color:  #000000;\n",
              "        }#T_dd038d08_1fe6_11eb_9f54_0242ac1c0002row5_col11{\n",
              "            font-size:  6pt;\n",
              "            background-color:  #222222;\n",
              "            color:  #f1f1f1;\n",
              "        }#T_dd038d08_1fe6_11eb_9f54_0242ac1c0002row5_col13,#T_dd038d08_1fe6_11eb_9f54_0242ac1c0002row6_col12{\n",
              "            font-size:  6pt;\n",
              "            background-color:  #090909;\n",
              "            color:  #f1f1f1;\n",
              "        }#T_dd038d08_1fe6_11eb_9f54_0242ac1c0002row5_col14{\n",
              "            font-size:  6pt;\n",
              "            background-color:  #d0d0d0;\n",
              "            color:  #000000;\n",
              "        }#T_dd038d08_1fe6_11eb_9f54_0242ac1c0002row6_col10,#T_dd038d08_1fe6_11eb_9f54_0242ac1c0002row7_col11,#T_dd038d08_1fe6_11eb_9f54_0242ac1c0002row9_col6{\n",
              "            font-size:  6pt;\n",
              "            background-color:  #060606;\n",
              "            color:  #f1f1f1;\n",
              "        }#T_dd038d08_1fe6_11eb_9f54_0242ac1c0002row6_col13{\n",
              "            font-size:  6pt;\n",
              "            background-color:  #979797;\n",
              "            color:  #000000;\n",
              "        }#T_dd038d08_1fe6_11eb_9f54_0242ac1c0002row7_col8{\n",
              "            font-size:  6pt;\n",
              "            background-color:  #b6b6b6;\n",
              "            color:  #000000;\n",
              "        }#T_dd038d08_1fe6_11eb_9f54_0242ac1c0002row7_col9{\n",
              "            font-size:  6pt;\n",
              "            background-color:  #252525;\n",
              "            color:  #f1f1f1;\n",
              "        }#T_dd038d08_1fe6_11eb_9f54_0242ac1c0002row7_col12{\n",
              "            font-size:  6pt;\n",
              "            background-color:  #999999;\n",
              "            color:  #000000;\n",
              "        }#T_dd038d08_1fe6_11eb_9f54_0242ac1c0002row8_col5{\n",
              "            font-size:  6pt;\n",
              "            background-color:  #f9f9f9;\n",
              "            color:  #000000;\n",
              "        }#T_dd038d08_1fe6_11eb_9f54_0242ac1c0002row8_col7{\n",
              "            font-size:  6pt;\n",
              "            background-color:  #101010;\n",
              "            color:  #f1f1f1;\n",
              "        }#T_dd038d08_1fe6_11eb_9f54_0242ac1c0002row8_col9,#T_dd038d08_1fe6_11eb_9f54_0242ac1c0002row9_col9{\n",
              "            font-size:  6pt;\n",
              "            background-color:  #020202;\n",
              "            color:  #f1f1f1;\n",
              "        }#T_dd038d08_1fe6_11eb_9f54_0242ac1c0002row8_col11{\n",
              "            font-size:  6pt;\n",
              "            background-color:  #545454;\n",
              "            color:  #f1f1f1;\n",
              "        }#T_dd038d08_1fe6_11eb_9f54_0242ac1c0002row8_col12{\n",
              "            font-size:  6pt;\n",
              "            background-color:  #f1f1f1;\n",
              "            color:  #000000;\n",
              "        }#T_dd038d08_1fe6_11eb_9f54_0242ac1c0002row9_col5{\n",
              "            font-size:  6pt;\n",
              "            background-color:  #f7f7f7;\n",
              "            color:  #000000;\n",
              "        }#T_dd038d08_1fe6_11eb_9f54_0242ac1c0002row9_col7{\n",
              "            font-size:  6pt;\n",
              "            background-color:  #030303;\n",
              "            color:  #f1f1f1;\n",
              "        }#T_dd038d08_1fe6_11eb_9f54_0242ac1c0002row9_col12{\n",
              "            font-size:  6pt;\n",
              "            background-color:  #181818;\n",
              "            color:  #f1f1f1;\n",
              "        }#T_dd038d08_1fe6_11eb_9f54_0242ac1c0002row9_col13{\n",
              "            font-size:  6pt;\n",
              "            background-color:  #303030;\n",
              "            color:  #f1f1f1;\n",
              "        }#T_dd038d08_1fe6_11eb_9f54_0242ac1c0002row9_col14{\n",
              "            font-size:  6pt;\n",
              "            background-color:  #a9a9a9;\n",
              "            color:  #000000;\n",
              "        }#T_dd038d08_1fe6_11eb_9f54_0242ac1c0002row9_col15{\n",
              "            font-size:  6pt;\n",
              "            background-color:  #fefefe;\n",
              "            color:  #000000;\n",
              "        }#T_dd038d08_1fe6_11eb_9f54_0242ac1c0002row10_col8,#T_dd038d08_1fe6_11eb_9f54_0242ac1c0002row10_col9{\n",
              "            font-size:  6pt;\n",
              "            background-color:  #bababa;\n",
              "            color:  #000000;\n",
              "        }#T_dd038d08_1fe6_11eb_9f54_0242ac1c0002row10_col10{\n",
              "            font-size:  6pt;\n",
              "            background-color:  #393939;\n",
              "            color:  #f1f1f1;\n",
              "        }</style><table id=\"T_dd038d08_1fe6_11eb_9f54_0242ac1c0002\" ><thead>    <tr>        <th class=\"blank level0\" ></th>        <th class=\"col_heading level0 col0\" >0</th>        <th class=\"col_heading level0 col1\" >1</th>        <th class=\"col_heading level0 col2\" >2</th>        <th class=\"col_heading level0 col3\" >3</th>        <th class=\"col_heading level0 col4\" >4</th>        <th class=\"col_heading level0 col5\" >5</th>        <th class=\"col_heading level0 col6\" >6</th>        <th class=\"col_heading level0 col7\" >7</th>        <th class=\"col_heading level0 col8\" >8</th>        <th class=\"col_heading level0 col9\" >9</th>        <th class=\"col_heading level0 col10\" >10</th>        <th class=\"col_heading level0 col11\" >11</th>        <th class=\"col_heading level0 col12\" >12</th>        <th class=\"col_heading level0 col13\" >13</th>        <th class=\"col_heading level0 col14\" >14</th>        <th class=\"col_heading level0 col15\" >15</th>        <th class=\"col_heading level0 col16\" >16</th>        <th class=\"col_heading level0 col17\" >17</th>    </tr></thead><tbody>\n",
              "                <tr>\n",
              "                        <th id=\"T_dd038d08_1fe6_11eb_9f54_0242ac1c0002level0_row0\" class=\"row_heading level0 row0\" >0</th>\n",
              "                        <td id=\"T_dd038d08_1fe6_11eb_9f54_0242ac1c0002row0_col0\" class=\"data row0 col0\" >0</td>\n",
              "                        <td id=\"T_dd038d08_1fe6_11eb_9f54_0242ac1c0002row0_col1\" class=\"data row0 col1\" >0</td>\n",
              "                        <td id=\"T_dd038d08_1fe6_11eb_9f54_0242ac1c0002row0_col2\" class=\"data row0 col2\" >0</td>\n",
              "                        <td id=\"T_dd038d08_1fe6_11eb_9f54_0242ac1c0002row0_col3\" class=\"data row0 col3\" >0</td>\n",
              "                        <td id=\"T_dd038d08_1fe6_11eb_9f54_0242ac1c0002row0_col4\" class=\"data row0 col4\" >0</td>\n",
              "                        <td id=\"T_dd038d08_1fe6_11eb_9f54_0242ac1c0002row0_col5\" class=\"data row0 col5\" >0</td>\n",
              "                        <td id=\"T_dd038d08_1fe6_11eb_9f54_0242ac1c0002row0_col6\" class=\"data row0 col6\" >0</td>\n",
              "                        <td id=\"T_dd038d08_1fe6_11eb_9f54_0242ac1c0002row0_col7\" class=\"data row0 col7\" >0</td>\n",
              "                        <td id=\"T_dd038d08_1fe6_11eb_9f54_0242ac1c0002row0_col8\" class=\"data row0 col8\" >0</td>\n",
              "                        <td id=\"T_dd038d08_1fe6_11eb_9f54_0242ac1c0002row0_col9\" class=\"data row0 col9\" >0</td>\n",
              "                        <td id=\"T_dd038d08_1fe6_11eb_9f54_0242ac1c0002row0_col10\" class=\"data row0 col10\" >0</td>\n",
              "                        <td id=\"T_dd038d08_1fe6_11eb_9f54_0242ac1c0002row0_col11\" class=\"data row0 col11\" >0</td>\n",
              "                        <td id=\"T_dd038d08_1fe6_11eb_9f54_0242ac1c0002row0_col12\" class=\"data row0 col12\" >0</td>\n",
              "                        <td id=\"T_dd038d08_1fe6_11eb_9f54_0242ac1c0002row0_col13\" class=\"data row0 col13\" >0</td>\n",
              "                        <td id=\"T_dd038d08_1fe6_11eb_9f54_0242ac1c0002row0_col14\" class=\"data row0 col14\" >0</td>\n",
              "                        <td id=\"T_dd038d08_1fe6_11eb_9f54_0242ac1c0002row0_col15\" class=\"data row0 col15\" >0</td>\n",
              "                        <td id=\"T_dd038d08_1fe6_11eb_9f54_0242ac1c0002row0_col16\" class=\"data row0 col16\" >0</td>\n",
              "                        <td id=\"T_dd038d08_1fe6_11eb_9f54_0242ac1c0002row0_col17\" class=\"data row0 col17\" >0</td>\n",
              "            </tr>\n",
              "            <tr>\n",
              "                        <th id=\"T_dd038d08_1fe6_11eb_9f54_0242ac1c0002level0_row1\" class=\"row_heading level0 row1\" >1</th>\n",
              "                        <td id=\"T_dd038d08_1fe6_11eb_9f54_0242ac1c0002row1_col0\" class=\"data row1 col0\" >0</td>\n",
              "                        <td id=\"T_dd038d08_1fe6_11eb_9f54_0242ac1c0002row1_col1\" class=\"data row1 col1\" >0</td>\n",
              "                        <td id=\"T_dd038d08_1fe6_11eb_9f54_0242ac1c0002row1_col2\" class=\"data row1 col2\" >0</td>\n",
              "                        <td id=\"T_dd038d08_1fe6_11eb_9f54_0242ac1c0002row1_col3\" class=\"data row1 col3\" >0</td>\n",
              "                        <td id=\"T_dd038d08_1fe6_11eb_9f54_0242ac1c0002row1_col4\" class=\"data row1 col4\" >0</td>\n",
              "                        <td id=\"T_dd038d08_1fe6_11eb_9f54_0242ac1c0002row1_col5\" class=\"data row1 col5\" >29</td>\n",
              "                        <td id=\"T_dd038d08_1fe6_11eb_9f54_0242ac1c0002row1_col6\" class=\"data row1 col6\" >150</td>\n",
              "                        <td id=\"T_dd038d08_1fe6_11eb_9f54_0242ac1c0002row1_col7\" class=\"data row1 col7\" >195</td>\n",
              "                        <td id=\"T_dd038d08_1fe6_11eb_9f54_0242ac1c0002row1_col8\" class=\"data row1 col8\" >254</td>\n",
              "                        <td id=\"T_dd038d08_1fe6_11eb_9f54_0242ac1c0002row1_col9\" class=\"data row1 col9\" >255</td>\n",
              "                        <td id=\"T_dd038d08_1fe6_11eb_9f54_0242ac1c0002row1_col10\" class=\"data row1 col10\" >254</td>\n",
              "                        <td id=\"T_dd038d08_1fe6_11eb_9f54_0242ac1c0002row1_col11\" class=\"data row1 col11\" >176</td>\n",
              "                        <td id=\"T_dd038d08_1fe6_11eb_9f54_0242ac1c0002row1_col12\" class=\"data row1 col12\" >193</td>\n",
              "                        <td id=\"T_dd038d08_1fe6_11eb_9f54_0242ac1c0002row1_col13\" class=\"data row1 col13\" >150</td>\n",
              "                        <td id=\"T_dd038d08_1fe6_11eb_9f54_0242ac1c0002row1_col14\" class=\"data row1 col14\" >96</td>\n",
              "                        <td id=\"T_dd038d08_1fe6_11eb_9f54_0242ac1c0002row1_col15\" class=\"data row1 col15\" >0</td>\n",
              "                        <td id=\"T_dd038d08_1fe6_11eb_9f54_0242ac1c0002row1_col16\" class=\"data row1 col16\" >0</td>\n",
              "                        <td id=\"T_dd038d08_1fe6_11eb_9f54_0242ac1c0002row1_col17\" class=\"data row1 col17\" >0</td>\n",
              "            </tr>\n",
              "            <tr>\n",
              "                        <th id=\"T_dd038d08_1fe6_11eb_9f54_0242ac1c0002level0_row2\" class=\"row_heading level0 row2\" >2</th>\n",
              "                        <td id=\"T_dd038d08_1fe6_11eb_9f54_0242ac1c0002row2_col0\" class=\"data row2 col0\" >0</td>\n",
              "                        <td id=\"T_dd038d08_1fe6_11eb_9f54_0242ac1c0002row2_col1\" class=\"data row2 col1\" >0</td>\n",
              "                        <td id=\"T_dd038d08_1fe6_11eb_9f54_0242ac1c0002row2_col2\" class=\"data row2 col2\" >0</td>\n",
              "                        <td id=\"T_dd038d08_1fe6_11eb_9f54_0242ac1c0002row2_col3\" class=\"data row2 col3\" >48</td>\n",
              "                        <td id=\"T_dd038d08_1fe6_11eb_9f54_0242ac1c0002row2_col4\" class=\"data row2 col4\" >166</td>\n",
              "                        <td id=\"T_dd038d08_1fe6_11eb_9f54_0242ac1c0002row2_col5\" class=\"data row2 col5\" >224</td>\n",
              "                        <td id=\"T_dd038d08_1fe6_11eb_9f54_0242ac1c0002row2_col6\" class=\"data row2 col6\" >253</td>\n",
              "                        <td id=\"T_dd038d08_1fe6_11eb_9f54_0242ac1c0002row2_col7\" class=\"data row2 col7\" >253</td>\n",
              "                        <td id=\"T_dd038d08_1fe6_11eb_9f54_0242ac1c0002row2_col8\" class=\"data row2 col8\" >234</td>\n",
              "                        <td id=\"T_dd038d08_1fe6_11eb_9f54_0242ac1c0002row2_col9\" class=\"data row2 col9\" >196</td>\n",
              "                        <td id=\"T_dd038d08_1fe6_11eb_9f54_0242ac1c0002row2_col10\" class=\"data row2 col10\" >253</td>\n",
              "                        <td id=\"T_dd038d08_1fe6_11eb_9f54_0242ac1c0002row2_col11\" class=\"data row2 col11\" >253</td>\n",
              "                        <td id=\"T_dd038d08_1fe6_11eb_9f54_0242ac1c0002row2_col12\" class=\"data row2 col12\" >253</td>\n",
              "                        <td id=\"T_dd038d08_1fe6_11eb_9f54_0242ac1c0002row2_col13\" class=\"data row2 col13\" >253</td>\n",
              "                        <td id=\"T_dd038d08_1fe6_11eb_9f54_0242ac1c0002row2_col14\" class=\"data row2 col14\" >233</td>\n",
              "                        <td id=\"T_dd038d08_1fe6_11eb_9f54_0242ac1c0002row2_col15\" class=\"data row2 col15\" >0</td>\n",
              "                        <td id=\"T_dd038d08_1fe6_11eb_9f54_0242ac1c0002row2_col16\" class=\"data row2 col16\" >0</td>\n",
              "                        <td id=\"T_dd038d08_1fe6_11eb_9f54_0242ac1c0002row2_col17\" class=\"data row2 col17\" >0</td>\n",
              "            </tr>\n",
              "            <tr>\n",
              "                        <th id=\"T_dd038d08_1fe6_11eb_9f54_0242ac1c0002level0_row3\" class=\"row_heading level0 row3\" >3</th>\n",
              "                        <td id=\"T_dd038d08_1fe6_11eb_9f54_0242ac1c0002row3_col0\" class=\"data row3 col0\" >0</td>\n",
              "                        <td id=\"T_dd038d08_1fe6_11eb_9f54_0242ac1c0002row3_col1\" class=\"data row3 col1\" >93</td>\n",
              "                        <td id=\"T_dd038d08_1fe6_11eb_9f54_0242ac1c0002row3_col2\" class=\"data row3 col2\" >244</td>\n",
              "                        <td id=\"T_dd038d08_1fe6_11eb_9f54_0242ac1c0002row3_col3\" class=\"data row3 col3\" >249</td>\n",
              "                        <td id=\"T_dd038d08_1fe6_11eb_9f54_0242ac1c0002row3_col4\" class=\"data row3 col4\" >253</td>\n",
              "                        <td id=\"T_dd038d08_1fe6_11eb_9f54_0242ac1c0002row3_col5\" class=\"data row3 col5\" >187</td>\n",
              "                        <td id=\"T_dd038d08_1fe6_11eb_9f54_0242ac1c0002row3_col6\" class=\"data row3 col6\" >46</td>\n",
              "                        <td id=\"T_dd038d08_1fe6_11eb_9f54_0242ac1c0002row3_col7\" class=\"data row3 col7\" >10</td>\n",
              "                        <td id=\"T_dd038d08_1fe6_11eb_9f54_0242ac1c0002row3_col8\" class=\"data row3 col8\" >8</td>\n",
              "                        <td id=\"T_dd038d08_1fe6_11eb_9f54_0242ac1c0002row3_col9\" class=\"data row3 col9\" >4</td>\n",
              "                        <td id=\"T_dd038d08_1fe6_11eb_9f54_0242ac1c0002row3_col10\" class=\"data row3 col10\" >10</td>\n",
              "                        <td id=\"T_dd038d08_1fe6_11eb_9f54_0242ac1c0002row3_col11\" class=\"data row3 col11\" >194</td>\n",
              "                        <td id=\"T_dd038d08_1fe6_11eb_9f54_0242ac1c0002row3_col12\" class=\"data row3 col12\" >253</td>\n",
              "                        <td id=\"T_dd038d08_1fe6_11eb_9f54_0242ac1c0002row3_col13\" class=\"data row3 col13\" >253</td>\n",
              "                        <td id=\"T_dd038d08_1fe6_11eb_9f54_0242ac1c0002row3_col14\" class=\"data row3 col14\" >233</td>\n",
              "                        <td id=\"T_dd038d08_1fe6_11eb_9f54_0242ac1c0002row3_col15\" class=\"data row3 col15\" >0</td>\n",
              "                        <td id=\"T_dd038d08_1fe6_11eb_9f54_0242ac1c0002row3_col16\" class=\"data row3 col16\" >0</td>\n",
              "                        <td id=\"T_dd038d08_1fe6_11eb_9f54_0242ac1c0002row3_col17\" class=\"data row3 col17\" >0</td>\n",
              "            </tr>\n",
              "            <tr>\n",
              "                        <th id=\"T_dd038d08_1fe6_11eb_9f54_0242ac1c0002level0_row4\" class=\"row_heading level0 row4\" >4</th>\n",
              "                        <td id=\"T_dd038d08_1fe6_11eb_9f54_0242ac1c0002row4_col0\" class=\"data row4 col0\" >0</td>\n",
              "                        <td id=\"T_dd038d08_1fe6_11eb_9f54_0242ac1c0002row4_col1\" class=\"data row4 col1\" >107</td>\n",
              "                        <td id=\"T_dd038d08_1fe6_11eb_9f54_0242ac1c0002row4_col2\" class=\"data row4 col2\" >253</td>\n",
              "                        <td id=\"T_dd038d08_1fe6_11eb_9f54_0242ac1c0002row4_col3\" class=\"data row4 col3\" >253</td>\n",
              "                        <td id=\"T_dd038d08_1fe6_11eb_9f54_0242ac1c0002row4_col4\" class=\"data row4 col4\" >230</td>\n",
              "                        <td id=\"T_dd038d08_1fe6_11eb_9f54_0242ac1c0002row4_col5\" class=\"data row4 col5\" >48</td>\n",
              "                        <td id=\"T_dd038d08_1fe6_11eb_9f54_0242ac1c0002row4_col6\" class=\"data row4 col6\" >0</td>\n",
              "                        <td id=\"T_dd038d08_1fe6_11eb_9f54_0242ac1c0002row4_col7\" class=\"data row4 col7\" >0</td>\n",
              "                        <td id=\"T_dd038d08_1fe6_11eb_9f54_0242ac1c0002row4_col8\" class=\"data row4 col8\" >0</td>\n",
              "                        <td id=\"T_dd038d08_1fe6_11eb_9f54_0242ac1c0002row4_col9\" class=\"data row4 col9\" >0</td>\n",
              "                        <td id=\"T_dd038d08_1fe6_11eb_9f54_0242ac1c0002row4_col10\" class=\"data row4 col10\" >0</td>\n",
              "                        <td id=\"T_dd038d08_1fe6_11eb_9f54_0242ac1c0002row4_col11\" class=\"data row4 col11\" >192</td>\n",
              "                        <td id=\"T_dd038d08_1fe6_11eb_9f54_0242ac1c0002row4_col12\" class=\"data row4 col12\" >253</td>\n",
              "                        <td id=\"T_dd038d08_1fe6_11eb_9f54_0242ac1c0002row4_col13\" class=\"data row4 col13\" >253</td>\n",
              "                        <td id=\"T_dd038d08_1fe6_11eb_9f54_0242ac1c0002row4_col14\" class=\"data row4 col14\" >156</td>\n",
              "                        <td id=\"T_dd038d08_1fe6_11eb_9f54_0242ac1c0002row4_col15\" class=\"data row4 col15\" >0</td>\n",
              "                        <td id=\"T_dd038d08_1fe6_11eb_9f54_0242ac1c0002row4_col16\" class=\"data row4 col16\" >0</td>\n",
              "                        <td id=\"T_dd038d08_1fe6_11eb_9f54_0242ac1c0002row4_col17\" class=\"data row4 col17\" >0</td>\n",
              "            </tr>\n",
              "            <tr>\n",
              "                        <th id=\"T_dd038d08_1fe6_11eb_9f54_0242ac1c0002level0_row5\" class=\"row_heading level0 row5\" >5</th>\n",
              "                        <td id=\"T_dd038d08_1fe6_11eb_9f54_0242ac1c0002row5_col0\" class=\"data row5 col0\" >0</td>\n",
              "                        <td id=\"T_dd038d08_1fe6_11eb_9f54_0242ac1c0002row5_col1\" class=\"data row5 col1\" >3</td>\n",
              "                        <td id=\"T_dd038d08_1fe6_11eb_9f54_0242ac1c0002row5_col2\" class=\"data row5 col2\" >20</td>\n",
              "                        <td id=\"T_dd038d08_1fe6_11eb_9f54_0242ac1c0002row5_col3\" class=\"data row5 col3\" >20</td>\n",
              "                        <td id=\"T_dd038d08_1fe6_11eb_9f54_0242ac1c0002row5_col4\" class=\"data row5 col4\" >15</td>\n",
              "                        <td id=\"T_dd038d08_1fe6_11eb_9f54_0242ac1c0002row5_col5\" class=\"data row5 col5\" >0</td>\n",
              "                        <td id=\"T_dd038d08_1fe6_11eb_9f54_0242ac1c0002row5_col6\" class=\"data row5 col6\" >0</td>\n",
              "                        <td id=\"T_dd038d08_1fe6_11eb_9f54_0242ac1c0002row5_col7\" class=\"data row5 col7\" >0</td>\n",
              "                        <td id=\"T_dd038d08_1fe6_11eb_9f54_0242ac1c0002row5_col8\" class=\"data row5 col8\" >0</td>\n",
              "                        <td id=\"T_dd038d08_1fe6_11eb_9f54_0242ac1c0002row5_col9\" class=\"data row5 col9\" >0</td>\n",
              "                        <td id=\"T_dd038d08_1fe6_11eb_9f54_0242ac1c0002row5_col10\" class=\"data row5 col10\" >43</td>\n",
              "                        <td id=\"T_dd038d08_1fe6_11eb_9f54_0242ac1c0002row5_col11\" class=\"data row5 col11\" >224</td>\n",
              "                        <td id=\"T_dd038d08_1fe6_11eb_9f54_0242ac1c0002row5_col12\" class=\"data row5 col12\" >253</td>\n",
              "                        <td id=\"T_dd038d08_1fe6_11eb_9f54_0242ac1c0002row5_col13\" class=\"data row5 col13\" >245</td>\n",
              "                        <td id=\"T_dd038d08_1fe6_11eb_9f54_0242ac1c0002row5_col14\" class=\"data row5 col14\" >74</td>\n",
              "                        <td id=\"T_dd038d08_1fe6_11eb_9f54_0242ac1c0002row5_col15\" class=\"data row5 col15\" >0</td>\n",
              "                        <td id=\"T_dd038d08_1fe6_11eb_9f54_0242ac1c0002row5_col16\" class=\"data row5 col16\" >0</td>\n",
              "                        <td id=\"T_dd038d08_1fe6_11eb_9f54_0242ac1c0002row5_col17\" class=\"data row5 col17\" >0</td>\n",
              "            </tr>\n",
              "            <tr>\n",
              "                        <th id=\"T_dd038d08_1fe6_11eb_9f54_0242ac1c0002level0_row6\" class=\"row_heading level0 row6\" >6</th>\n",
              "                        <td id=\"T_dd038d08_1fe6_11eb_9f54_0242ac1c0002row6_col0\" class=\"data row6 col0\" >0</td>\n",
              "                        <td id=\"T_dd038d08_1fe6_11eb_9f54_0242ac1c0002row6_col1\" class=\"data row6 col1\" >0</td>\n",
              "                        <td id=\"T_dd038d08_1fe6_11eb_9f54_0242ac1c0002row6_col2\" class=\"data row6 col2\" >0</td>\n",
              "                        <td id=\"T_dd038d08_1fe6_11eb_9f54_0242ac1c0002row6_col3\" class=\"data row6 col3\" >0</td>\n",
              "                        <td id=\"T_dd038d08_1fe6_11eb_9f54_0242ac1c0002row6_col4\" class=\"data row6 col4\" >0</td>\n",
              "                        <td id=\"T_dd038d08_1fe6_11eb_9f54_0242ac1c0002row6_col5\" class=\"data row6 col5\" >0</td>\n",
              "                        <td id=\"T_dd038d08_1fe6_11eb_9f54_0242ac1c0002row6_col6\" class=\"data row6 col6\" >0</td>\n",
              "                        <td id=\"T_dd038d08_1fe6_11eb_9f54_0242ac1c0002row6_col7\" class=\"data row6 col7\" >0</td>\n",
              "                        <td id=\"T_dd038d08_1fe6_11eb_9f54_0242ac1c0002row6_col8\" class=\"data row6 col8\" >0</td>\n",
              "                        <td id=\"T_dd038d08_1fe6_11eb_9f54_0242ac1c0002row6_col9\" class=\"data row6 col9\" >0</td>\n",
              "                        <td id=\"T_dd038d08_1fe6_11eb_9f54_0242ac1c0002row6_col10\" class=\"data row6 col10\" >249</td>\n",
              "                        <td id=\"T_dd038d08_1fe6_11eb_9f54_0242ac1c0002row6_col11\" class=\"data row6 col11\" >253</td>\n",
              "                        <td id=\"T_dd038d08_1fe6_11eb_9f54_0242ac1c0002row6_col12\" class=\"data row6 col12\" >245</td>\n",
              "                        <td id=\"T_dd038d08_1fe6_11eb_9f54_0242ac1c0002row6_col13\" class=\"data row6 col13\" >126</td>\n",
              "                        <td id=\"T_dd038d08_1fe6_11eb_9f54_0242ac1c0002row6_col14\" class=\"data row6 col14\" >0</td>\n",
              "                        <td id=\"T_dd038d08_1fe6_11eb_9f54_0242ac1c0002row6_col15\" class=\"data row6 col15\" >0</td>\n",
              "                        <td id=\"T_dd038d08_1fe6_11eb_9f54_0242ac1c0002row6_col16\" class=\"data row6 col16\" >0</td>\n",
              "                        <td id=\"T_dd038d08_1fe6_11eb_9f54_0242ac1c0002row6_col17\" class=\"data row6 col17\" >0</td>\n",
              "            </tr>\n",
              "            <tr>\n",
              "                        <th id=\"T_dd038d08_1fe6_11eb_9f54_0242ac1c0002level0_row7\" class=\"row_heading level0 row7\" >7</th>\n",
              "                        <td id=\"T_dd038d08_1fe6_11eb_9f54_0242ac1c0002row7_col0\" class=\"data row7 col0\" >0</td>\n",
              "                        <td id=\"T_dd038d08_1fe6_11eb_9f54_0242ac1c0002row7_col1\" class=\"data row7 col1\" >0</td>\n",
              "                        <td id=\"T_dd038d08_1fe6_11eb_9f54_0242ac1c0002row7_col2\" class=\"data row7 col2\" >0</td>\n",
              "                        <td id=\"T_dd038d08_1fe6_11eb_9f54_0242ac1c0002row7_col3\" class=\"data row7 col3\" >0</td>\n",
              "                        <td id=\"T_dd038d08_1fe6_11eb_9f54_0242ac1c0002row7_col4\" class=\"data row7 col4\" >0</td>\n",
              "                        <td id=\"T_dd038d08_1fe6_11eb_9f54_0242ac1c0002row7_col5\" class=\"data row7 col5\" >0</td>\n",
              "                        <td id=\"T_dd038d08_1fe6_11eb_9f54_0242ac1c0002row7_col6\" class=\"data row7 col6\" >0</td>\n",
              "                        <td id=\"T_dd038d08_1fe6_11eb_9f54_0242ac1c0002row7_col7\" class=\"data row7 col7\" >14</td>\n",
              "                        <td id=\"T_dd038d08_1fe6_11eb_9f54_0242ac1c0002row7_col8\" class=\"data row7 col8\" >101</td>\n",
              "                        <td id=\"T_dd038d08_1fe6_11eb_9f54_0242ac1c0002row7_col9\" class=\"data row7 col9\" >223</td>\n",
              "                        <td id=\"T_dd038d08_1fe6_11eb_9f54_0242ac1c0002row7_col10\" class=\"data row7 col10\" >253</td>\n",
              "                        <td id=\"T_dd038d08_1fe6_11eb_9f54_0242ac1c0002row7_col11\" class=\"data row7 col11\" >248</td>\n",
              "                        <td id=\"T_dd038d08_1fe6_11eb_9f54_0242ac1c0002row7_col12\" class=\"data row7 col12\" >124</td>\n",
              "                        <td id=\"T_dd038d08_1fe6_11eb_9f54_0242ac1c0002row7_col13\" class=\"data row7 col13\" >0</td>\n",
              "                        <td id=\"T_dd038d08_1fe6_11eb_9f54_0242ac1c0002row7_col14\" class=\"data row7 col14\" >0</td>\n",
              "                        <td id=\"T_dd038d08_1fe6_11eb_9f54_0242ac1c0002row7_col15\" class=\"data row7 col15\" >0</td>\n",
              "                        <td id=\"T_dd038d08_1fe6_11eb_9f54_0242ac1c0002row7_col16\" class=\"data row7 col16\" >0</td>\n",
              "                        <td id=\"T_dd038d08_1fe6_11eb_9f54_0242ac1c0002row7_col17\" class=\"data row7 col17\" >0</td>\n",
              "            </tr>\n",
              "            <tr>\n",
              "                        <th id=\"T_dd038d08_1fe6_11eb_9f54_0242ac1c0002level0_row8\" class=\"row_heading level0 row8\" >8</th>\n",
              "                        <td id=\"T_dd038d08_1fe6_11eb_9f54_0242ac1c0002row8_col0\" class=\"data row8 col0\" >0</td>\n",
              "                        <td id=\"T_dd038d08_1fe6_11eb_9f54_0242ac1c0002row8_col1\" class=\"data row8 col1\" >0</td>\n",
              "                        <td id=\"T_dd038d08_1fe6_11eb_9f54_0242ac1c0002row8_col2\" class=\"data row8 col2\" >0</td>\n",
              "                        <td id=\"T_dd038d08_1fe6_11eb_9f54_0242ac1c0002row8_col3\" class=\"data row8 col3\" >0</td>\n",
              "                        <td id=\"T_dd038d08_1fe6_11eb_9f54_0242ac1c0002row8_col4\" class=\"data row8 col4\" >0</td>\n",
              "                        <td id=\"T_dd038d08_1fe6_11eb_9f54_0242ac1c0002row8_col5\" class=\"data row8 col5\" >11</td>\n",
              "                        <td id=\"T_dd038d08_1fe6_11eb_9f54_0242ac1c0002row8_col6\" class=\"data row8 col6\" >166</td>\n",
              "                        <td id=\"T_dd038d08_1fe6_11eb_9f54_0242ac1c0002row8_col7\" class=\"data row8 col7\" >239</td>\n",
              "                        <td id=\"T_dd038d08_1fe6_11eb_9f54_0242ac1c0002row8_col8\" class=\"data row8 col8\" >253</td>\n",
              "                        <td id=\"T_dd038d08_1fe6_11eb_9f54_0242ac1c0002row8_col9\" class=\"data row8 col9\" >253</td>\n",
              "                        <td id=\"T_dd038d08_1fe6_11eb_9f54_0242ac1c0002row8_col10\" class=\"data row8 col10\" >253</td>\n",
              "                        <td id=\"T_dd038d08_1fe6_11eb_9f54_0242ac1c0002row8_col11\" class=\"data row8 col11\" >187</td>\n",
              "                        <td id=\"T_dd038d08_1fe6_11eb_9f54_0242ac1c0002row8_col12\" class=\"data row8 col12\" >30</td>\n",
              "                        <td id=\"T_dd038d08_1fe6_11eb_9f54_0242ac1c0002row8_col13\" class=\"data row8 col13\" >0</td>\n",
              "                        <td id=\"T_dd038d08_1fe6_11eb_9f54_0242ac1c0002row8_col14\" class=\"data row8 col14\" >0</td>\n",
              "                        <td id=\"T_dd038d08_1fe6_11eb_9f54_0242ac1c0002row8_col15\" class=\"data row8 col15\" >0</td>\n",
              "                        <td id=\"T_dd038d08_1fe6_11eb_9f54_0242ac1c0002row8_col16\" class=\"data row8 col16\" >0</td>\n",
              "                        <td id=\"T_dd038d08_1fe6_11eb_9f54_0242ac1c0002row8_col17\" class=\"data row8 col17\" >0</td>\n",
              "            </tr>\n",
              "            <tr>\n",
              "                        <th id=\"T_dd038d08_1fe6_11eb_9f54_0242ac1c0002level0_row9\" class=\"row_heading level0 row9\" >9</th>\n",
              "                        <td id=\"T_dd038d08_1fe6_11eb_9f54_0242ac1c0002row9_col0\" class=\"data row9 col0\" >0</td>\n",
              "                        <td id=\"T_dd038d08_1fe6_11eb_9f54_0242ac1c0002row9_col1\" class=\"data row9 col1\" >0</td>\n",
              "                        <td id=\"T_dd038d08_1fe6_11eb_9f54_0242ac1c0002row9_col2\" class=\"data row9 col2\" >0</td>\n",
              "                        <td id=\"T_dd038d08_1fe6_11eb_9f54_0242ac1c0002row9_col3\" class=\"data row9 col3\" >0</td>\n",
              "                        <td id=\"T_dd038d08_1fe6_11eb_9f54_0242ac1c0002row9_col4\" class=\"data row9 col4\" >0</td>\n",
              "                        <td id=\"T_dd038d08_1fe6_11eb_9f54_0242ac1c0002row9_col5\" class=\"data row9 col5\" >16</td>\n",
              "                        <td id=\"T_dd038d08_1fe6_11eb_9f54_0242ac1c0002row9_col6\" class=\"data row9 col6\" >248</td>\n",
              "                        <td id=\"T_dd038d08_1fe6_11eb_9f54_0242ac1c0002row9_col7\" class=\"data row9 col7\" >250</td>\n",
              "                        <td id=\"T_dd038d08_1fe6_11eb_9f54_0242ac1c0002row9_col8\" class=\"data row9 col8\" >253</td>\n",
              "                        <td id=\"T_dd038d08_1fe6_11eb_9f54_0242ac1c0002row9_col9\" class=\"data row9 col9\" >253</td>\n",
              "                        <td id=\"T_dd038d08_1fe6_11eb_9f54_0242ac1c0002row9_col10\" class=\"data row9 col10\" >253</td>\n",
              "                        <td id=\"T_dd038d08_1fe6_11eb_9f54_0242ac1c0002row9_col11\" class=\"data row9 col11\" >253</td>\n",
              "                        <td id=\"T_dd038d08_1fe6_11eb_9f54_0242ac1c0002row9_col12\" class=\"data row9 col12\" >232</td>\n",
              "                        <td id=\"T_dd038d08_1fe6_11eb_9f54_0242ac1c0002row9_col13\" class=\"data row9 col13\" >213</td>\n",
              "                        <td id=\"T_dd038d08_1fe6_11eb_9f54_0242ac1c0002row9_col14\" class=\"data row9 col14\" >111</td>\n",
              "                        <td id=\"T_dd038d08_1fe6_11eb_9f54_0242ac1c0002row9_col15\" class=\"data row9 col15\" >2</td>\n",
              "                        <td id=\"T_dd038d08_1fe6_11eb_9f54_0242ac1c0002row9_col16\" class=\"data row9 col16\" >0</td>\n",
              "                        <td id=\"T_dd038d08_1fe6_11eb_9f54_0242ac1c0002row9_col17\" class=\"data row9 col17\" >0</td>\n",
              "            </tr>\n",
              "            <tr>\n",
              "                        <th id=\"T_dd038d08_1fe6_11eb_9f54_0242ac1c0002level0_row10\" class=\"row_heading level0 row10\" >10</th>\n",
              "                        <td id=\"T_dd038d08_1fe6_11eb_9f54_0242ac1c0002row10_col0\" class=\"data row10 col0\" >0</td>\n",
              "                        <td id=\"T_dd038d08_1fe6_11eb_9f54_0242ac1c0002row10_col1\" class=\"data row10 col1\" >0</td>\n",
              "                        <td id=\"T_dd038d08_1fe6_11eb_9f54_0242ac1c0002row10_col2\" class=\"data row10 col2\" >0</td>\n",
              "                        <td id=\"T_dd038d08_1fe6_11eb_9f54_0242ac1c0002row10_col3\" class=\"data row10 col3\" >0</td>\n",
              "                        <td id=\"T_dd038d08_1fe6_11eb_9f54_0242ac1c0002row10_col4\" class=\"data row10 col4\" >0</td>\n",
              "                        <td id=\"T_dd038d08_1fe6_11eb_9f54_0242ac1c0002row10_col5\" class=\"data row10 col5\" >0</td>\n",
              "                        <td id=\"T_dd038d08_1fe6_11eb_9f54_0242ac1c0002row10_col6\" class=\"data row10 col6\" >0</td>\n",
              "                        <td id=\"T_dd038d08_1fe6_11eb_9f54_0242ac1c0002row10_col7\" class=\"data row10 col7\" >43</td>\n",
              "                        <td id=\"T_dd038d08_1fe6_11eb_9f54_0242ac1c0002row10_col8\" class=\"data row10 col8\" >98</td>\n",
              "                        <td id=\"T_dd038d08_1fe6_11eb_9f54_0242ac1c0002row10_col9\" class=\"data row10 col9\" >98</td>\n",
              "                        <td id=\"T_dd038d08_1fe6_11eb_9f54_0242ac1c0002row10_col10\" class=\"data row10 col10\" >208</td>\n",
              "                        <td id=\"T_dd038d08_1fe6_11eb_9f54_0242ac1c0002row10_col11\" class=\"data row10 col11\" >253</td>\n",
              "                        <td id=\"T_dd038d08_1fe6_11eb_9f54_0242ac1c0002row10_col12\" class=\"data row10 col12\" >253</td>\n",
              "                        <td id=\"T_dd038d08_1fe6_11eb_9f54_0242ac1c0002row10_col13\" class=\"data row10 col13\" >253</td>\n",
              "                        <td id=\"T_dd038d08_1fe6_11eb_9f54_0242ac1c0002row10_col14\" class=\"data row10 col14\" >253</td>\n",
              "                        <td id=\"T_dd038d08_1fe6_11eb_9f54_0242ac1c0002row10_col15\" class=\"data row10 col15\" >187</td>\n",
              "                        <td id=\"T_dd038d08_1fe6_11eb_9f54_0242ac1c0002row10_col16\" class=\"data row10 col16\" >22</td>\n",
              "                        <td id=\"T_dd038d08_1fe6_11eb_9f54_0242ac1c0002row10_col17\" class=\"data row10 col17\" >0</td>\n",
              "            </tr>\n",
              "    </tbody></table>"
            ],
            "text/plain": [
              "<pandas.io.formats.style.Styler at 0x7fe881acae10>"
            ]
          },
          "metadata": {
            "tags": []
          },
          "execution_count": 11
        }
      ]
    },
    {
      "cell_type": "code",
      "metadata": {
        "id": "5ORW57jK5ieE",
        "outputId": "5223bf1a-5d42-4ad0-efc7-af88f9b7bec1",
        "colab": {
          "base_uri": "https://localhost:8080/"
        }
      },
      "source": [
        "seven_tensors = [tensor(Image.open(o)) for o in sevens]\n",
        "three_tensors = [tensor(Image.open(o)) for o in threes]\n",
        "len(three_tensors),len(seven_tensors)"
      ],
      "execution_count": null,
      "outputs": [
        {
          "output_type": "execute_result",
          "data": {
            "text/plain": [
              "(6131, 6265)"
            ]
          },
          "metadata": {
            "tags": []
          },
          "execution_count": 12
        }
      ]
    },
    {
      "cell_type": "code",
      "metadata": {
        "id": "iVtFr7I16Hwp",
        "outputId": "0f7c91b6-5514-4a0e-a545-1879fff3b520",
        "colab": {
          "base_uri": "https://localhost:8080/",
          "height": 85
        }
      },
      "source": [
        "show_image(three_tensors[1]);"
      ],
      "execution_count": null,
      "outputs": [
        {
          "output_type": "display_data",
          "data": {
            "image/png": "[encoded data removed]",
            "text/plain": [
              "<Figure size 72x72 with 1 Axes>"
            ]
          },
          "metadata": {
            "tags": [],
            "needs_background": "light"
          }
        }
      ]
    },
    {
      "cell_type": "code",
      "metadata": {
        "id": "hR3S77M86PDJ",
        "outputId": "e412465f-e792-49e0-ed38-8c287f4b5c07",
        "colab": {
          "base_uri": "https://localhost:8080/"
        }
      },
      "source": [
        "stacked_sevens = torch.stack(seven_tensors).float()/255\n",
        "stacked_threes = torch.stack(three_tensors).float()/255\n",
        "stacked_threes.shape"
      ],
      "execution_count": null,
      "outputs": [
        {
          "output_type": "execute_result",
          "data": {
            "text/plain": [
              "torch.Size([6131, 28, 28])"
            ]
          },
          "metadata": {
            "tags": []
          },
          "execution_count": 14
        }
      ]
    },
    {
      "cell_type": "code",
      "metadata": {
        "id": "BOk2gTAs65FP",
        "outputId": "0b02d69f-d7c5-4c76-e1e3-ddfd8dda2162",
        "colab": {
          "base_uri": "https://localhost:8080/"
        }
      },
      "source": [
        "len(stacked_threes.shape)"
      ],
      "execution_count": null,
      "outputs": [
        {
          "output_type": "execute_result",
          "data": {
            "text/plain": [
              "3"
            ]
          },
          "metadata": {
            "tags": []
          },
          "execution_count": 15
        }
      ]
    },
    {
      "cell_type": "code",
      "metadata": {
        "id": "ZvNvh2kO7GXA",
        "outputId": "5473e977-7b01-45b5-ea61-5107b9e2772f",
        "colab": {
          "base_uri": "https://localhost:8080/"
        }
      },
      "source": [
        "stacked_threes.ndim"
      ],
      "execution_count": null,
      "outputs": [
        {
          "output_type": "execute_result",
          "data": {
            "text/plain": [
              "3"
            ]
          },
          "metadata": {
            "tags": []
          },
          "execution_count": 16
        }
      ]
    },
    {
      "cell_type": "code",
      "metadata": {
        "id": "EG5hxMiw76Zi",
        "outputId": "7a561e50-1931-499e-eb3d-a3ff187e30b2",
        "colab": {
          "base_uri": "https://localhost:8080/",
          "height": 85
        }
      },
      "source": [
        "mean3 = stacked_threes.mean(0)\n",
        "show_image(mean3);"
      ],
      "execution_count": null,
      "outputs": [
        {
          "output_type": "display_data",
          "data": {
            "image/png": "[encoded data removed]",
            "text/plain": [
              "<Figure size 72x72 with 1 Axes>"
            ]
          },
          "metadata": {
            "tags": [],
            "needs_background": "light"
          }
        }
      ]
    },
    {
      "cell_type": "code",
      "metadata": {
        "id": "GeC12f4W7-gK",
        "outputId": "7c76efa3-2e76-4d12-cf0a-a1bb482fc64a",
        "colab": {
          "base_uri": "https://localhost:8080/",
          "height": 85
        }
      },
      "source": [
        "mean7 = stacked_sevens.mean(0)\n",
        "show_image(mean7);"
      ],
      "execution_count": null,
      "outputs": [
        {
          "output_type": "display_data",
          "data": {
            "image/png": "[encoded data removed]",
            "text/plain": [
              "<Figure size 72x72 with 1 Axes>"
            ]
          },
          "metadata": {
            "tags": [],
            "needs_background": "light"
          }
        }
      ]
    },
    {
      "cell_type": "code",
      "metadata": {
        "id": "r1xHYSdw9X27",
        "outputId": "1585eb6a-57fe-4ef7-9662-385d7e7a8ef9",
        "colab": {
          "base_uri": "https://localhost:8080/",
          "height": 85
        }
      },
      "source": [
        "a_3 = stacked_threes[1]\n",
        "show_image(a_3);"
      ],
      "execution_count": null,
      "outputs": [
        {
          "output_type": "display_data",
          "data": {
            "image/png": "[encoded data removed]",
            "text/plain": [
              "<Figure size 72x72 with 1 Axes>"
            ]
          },
          "metadata": {
            "tags": [],
            "needs_background": "light"
          }
        }
      ]
    },
    {
      "cell_type": "code",
      "metadata": {
        "id": "VoAWiG1q9bI7",
        "outputId": "bcc4024d-4f00-4936-9d96-479c1a3d95ac",
        "colab": {
          "base_uri": "https://localhost:8080/"
        }
      },
      "source": [
        "dist_3_abs = (a_3 - mean3).abs().mean()\n",
        "dist_3_sqr = ((a_3 - mean3)**2).mean().sqrt()\n",
        "dist_3_abs,dist_3_sqr"
      ],
      "execution_count": null,
      "outputs": [
        {
          "output_type": "execute_result",
          "data": {
            "text/plain": [
              "(tensor(0.1114), tensor(0.2021))"
            ]
          },
          "metadata": {
            "tags": []
          },
          "execution_count": 20
        }
      ]
    },
    {
      "cell_type": "code",
      "metadata": {
        "id": "tYjsO0Kg9kGJ",
        "outputId": "a8a0903c-2a78-4bc5-82db-b09ecdc32f34",
        "colab": {
          "base_uri": "https://localhost:8080/"
        }
      },
      "source": [
        "dist_7_abs = (a_3 - mean7).abs().mean()\n",
        "dist_7_sqr = ((a_3 - mean7)**2).mean().sqrt()\n",
        "dist_7_abs,dist_7_sqr"
      ],
      "execution_count": null,
      "outputs": [
        {
          "output_type": "execute_result",
          "data": {
            "text/plain": [
              "(tensor(0.1586), tensor(0.3021))"
            ]
          },
          "metadata": {
            "tags": []
          },
          "execution_count": 21
        }
      ]
    },
    {
      "cell_type": "code",
      "metadata": {
        "id": "FxHekKA-99xP",
        "outputId": "3b41d549-9bc1-4b59-97c1-4db6ff55afb3",
        "colab": {
          "base_uri": "https://localhost:8080/"
        }
      },
      "source": [
        "F.l1_loss(a_3.float(),mean7), F.mse_loss(a_3,mean7).sqrt()"
      ],
      "execution_count": null,
      "outputs": [
        {
          "output_type": "execute_result",
          "data": {
            "text/plain": [
              "(tensor(0.1586), tensor(0.3021))"
            ]
          },
          "metadata": {
            "tags": []
          },
          "execution_count": 22
        }
      ]
    },
    {
      "cell_type": "code",
      "metadata": {
        "id": "geO7jTwn-O4F"
      },
      "source": [
        "data = [[1,2,3],[4,5,6]]\n",
        "arr = array (data)\n",
        "tns = tensor(data)"
      ],
      "execution_count": null,
      "outputs": []
    },
    {
      "cell_type": "code",
      "metadata": {
        "id": "HPSfFMiB_VZu",
        "outputId": "8fcf2447-c5ce-4117-c0cc-3927bb0c5e0d",
        "colab": {
          "base_uri": "https://localhost:8080/"
        }
      },
      "source": [
        "arr"
      ],
      "execution_count": null,
      "outputs": [
        {
          "output_type": "execute_result",
          "data": {
            "text/plain": [
              "array([[1, 2, 3],\n",
              "       [4, 5, 6]])"
            ]
          },
          "metadata": {
            "tags": []
          },
          "execution_count": 24
        }
      ]
    },
    {
      "cell_type": "code",
      "metadata": {
        "id": "DI8EgT8j_jPx",
        "outputId": "7c50924f-a08c-4172-a71b-8624598b722d",
        "colab": {
          "base_uri": "https://localhost:8080/"
        }
      },
      "source": [
        "tns"
      ],
      "execution_count": null,
      "outputs": [
        {
          "output_type": "execute_result",
          "data": {
            "text/plain": [
              "tensor([[1, 2, 3],\n",
              "        [4, 5, 6]])"
            ]
          },
          "metadata": {
            "tags": []
          },
          "execution_count": 25
        }
      ]
    },
    {
      "cell_type": "code",
      "metadata": {
        "id": "HKw4J4FS_kC_",
        "outputId": "9cf122c4-493f-4883-f6a3-9ed3ced2b6a7",
        "colab": {
          "base_uri": "https://localhost:8080/"
        }
      },
      "source": [
        "tns[:,1]"
      ],
      "execution_count": null,
      "outputs": [
        {
          "output_type": "execute_result",
          "data": {
            "text/plain": [
              "tensor([2, 5])"
            ]
          },
          "metadata": {
            "tags": []
          },
          "execution_count": 26
        }
      ]
    },
    {
      "cell_type": "code",
      "metadata": {
        "id": "n3AZIIHK_w8P",
        "outputId": "e29426a2-6d09-4f6d-da7d-c963c4dac384",
        "colab": {
          "base_uri": "https://localhost:8080/"
        }
      },
      "source": [
        "tns[1]"
      ],
      "execution_count": null,
      "outputs": [
        {
          "output_type": "execute_result",
          "data": {
            "text/plain": [
              "tensor([4, 5, 6])"
            ]
          },
          "metadata": {
            "tags": []
          },
          "execution_count": 27
        }
      ]
    },
    {
      "cell_type": "code",
      "metadata": {
        "id": "WwOpH6Il_x65",
        "outputId": "143de743-eed3-496c-bcde-c1f0ab2f36c5",
        "colab": {
          "base_uri": "https://localhost:8080/"
        }
      },
      "source": [
        "tns+1"
      ],
      "execution_count": null,
      "outputs": [
        {
          "output_type": "execute_result",
          "data": {
            "text/plain": [
              "tensor([[2, 3, 4],\n",
              "        [5, 6, 7]])"
            ]
          },
          "metadata": {
            "tags": []
          },
          "execution_count": 28
        }
      ]
    },
    {
      "cell_type": "code",
      "metadata": {
        "id": "TJP0wjzJ_2Ui",
        "outputId": "a267f918-427f-44af-9f50-166b6b34db46",
        "colab": {
          "base_uri": "https://localhost:8080/",
          "height": 36
        }
      },
      "source": [
        "tns.type()"
      ],
      "execution_count": null,
      "outputs": [
        {
          "output_type": "execute_result",
          "data": {
            "application/vnd.google.colaboratory.intrinsic+json": {
              "type": "string"
            },
            "text/plain": [
              "'torch.LongTensor'"
            ]
          },
          "metadata": {
            "tags": []
          },
          "execution_count": 29
        }
      ]
    },
    {
      "cell_type": "code",
      "metadata": {
        "id": "08n6Y6Il_3yO",
        "outputId": "2cec0ae3-4d92-4fa3-ee87-fe7f55412a8b",
        "colab": {
          "base_uri": "https://localhost:8080/"
        }
      },
      "source": [
        "tns*1.5"
      ],
      "execution_count": null,
      "outputs": [
        {
          "output_type": "execute_result",
          "data": {
            "text/plain": [
              "tensor([[1.5000, 3.0000, 4.5000],\n",
              "        [6.0000, 7.5000, 9.0000]])"
            ]
          },
          "metadata": {
            "tags": []
          },
          "execution_count": 30
        }
      ]
    },
    {
      "cell_type": "code",
      "metadata": {
        "id": "DVNrzf-h_63D",
        "outputId": "67d35e5e-7f0d-4bcd-e54c-b89e82d4ad54",
        "colab": {
          "base_uri": "https://localhost:8080/"
        }
      },
      "source": [
        "valid_3_tens = torch.stack([tensor(Image.open(o)) for o in (path/\"valid\"/\"3\").ls()])\n",
        "valid_3_tens = valid_3_tens.float() / 255\n",
        "\n",
        "valid_7_tens = torch.stack([tensor(Image.open(o)) for o in (path/\"valid\"/\"7\").ls()])\n",
        "valid_7_tens = valid_7_tens.float() / 255\n",
        "\n",
        "valid_3_tens.shape, valid_7_tens.shape"
      ],
      "execution_count": null,
      "outputs": [
        {
          "output_type": "execute_result",
          "data": {
            "text/plain": [
              "(torch.Size([1010, 28, 28]), torch.Size([1028, 28, 28]))"
            ]
          },
          "metadata": {
            "tags": []
          },
          "execution_count": 31
        }
      ]
    },
    {
      "cell_type": "code",
      "metadata": {
        "id": "Xzr7tLNMBmsd",
        "outputId": "a88a5fac-673f-4fb6-daf5-9b049afde004",
        "colab": {
          "base_uri": "https://localhost:8080/",
          "height": 45
        }
      },
      "source": [
        "Image.open((path/\"valid\"/\"7\").ls()[0])"
      ],
      "execution_count": null,
      "outputs": [
        {
          "output_type": "execute_result",
          "data": {
            "image/png": "[encoded data removed]",
            "text/plain": [
              "<PIL.PngImagePlugin.PngImageFile image mode=L size=28x28 at 0x7FE8813D5240>"
            ]
          },
          "metadata": {
            "tags": []
          },
          "execution_count": 32
        }
      ]
    },
    {
      "cell_type": "code",
      "metadata": {
        "id": "mQ0M3ZKQCYzF",
        "outputId": "d198d38c-da79-4e85-c8e4-b8e0821da73b",
        "colab": {
          "base_uri": "https://localhost:8080/"
        }
      },
      "source": [
        "def mnist_distance(a, b): \n",
        "  # What's the diff between mean() and mean((-1, -2))\n",
        "  return (a - b).abs().mean((-1, -2))\n",
        "\n",
        "mnist_distance(a_3, mean3)"
      ],
      "execution_count": null,
      "outputs": [
        {
          "output_type": "execute_result",
          "data": {
            "text/plain": [
              "tensor(0.1114)"
            ]
          },
          "metadata": {
            "tags": []
          },
          "execution_count": 33
        }
      ]
    },
    {
      "cell_type": "code",
      "metadata": {
        "id": "UOMitDZFDPSn",
        "outputId": "2ea8f42d-050c-4be6-a504-ce134f0080ee",
        "colab": {
          "base_uri": "https://localhost:8080/"
        }
      },
      "source": [
        "valid_3_dist = mnist_distance(valid_3_tens, mean3)\n",
        "valid_3_dist, valid_3_dist.shape"
      ],
      "execution_count": null,
      "outputs": [
        {
          "output_type": "execute_result",
          "data": {
            "text/plain": [
              "(tensor([0.1242, 0.1358, 0.1242,  ..., 0.1465, 0.1541, 0.1321]),\n",
              " torch.Size([1010]))"
            ]
          },
          "metadata": {
            "tags": []
          },
          "execution_count": 34
        }
      ]
    },
    {
      "cell_type": "code",
      "metadata": {
        "id": "_n6lTyqlDRnK"
      },
      "source": [
        "def is_3(x): \n",
        "  return mnist_distance(x, mean3) < mnist_distance(x, mean7)"
      ],
      "execution_count": null,
      "outputs": []
    },
    {
      "cell_type": "code",
      "metadata": {
        "id": "uIpUWmq2FMaw",
        "outputId": "ae14dd84-97ac-4b6e-db6a-939c247a0573",
        "colab": {
          "base_uri": "https://localhost:8080/"
        }
      },
      "source": [
        "is_3(a_3), is_3(a_3).float()"
      ],
      "execution_count": null,
      "outputs": [
        {
          "output_type": "execute_result",
          "data": {
            "text/plain": [
              "(tensor(True), tensor(1.))"
            ]
          },
          "metadata": {
            "tags": []
          },
          "execution_count": 36
        }
      ]
    },
    {
      "cell_type": "code",
      "metadata": {
        "id": "uvUwSQHrFQnS",
        "outputId": "670874ba-813c-4f87-e7cf-c51eaf9730d8",
        "colab": {
          "base_uri": "https://localhost:8080/"
        }
      },
      "source": [
        "is_3(valid_3_tens)"
      ],
      "execution_count": null,
      "outputs": [
        {
          "output_type": "execute_result",
          "data": {
            "text/plain": [
              "tensor([True, True, True,  ..., True, True, True])"
            ]
          },
          "metadata": {
            "tags": []
          },
          "execution_count": 37
        }
      ]
    },
    {
      "cell_type": "code",
      "metadata": {
        "id": "bAqY7I93FWlw",
        "outputId": "df68f592-08e1-4bf3-8476-e86cde37ca1b",
        "colab": {
          "base_uri": "https://localhost:8080/"
        }
      },
      "source": [
        "is_3(valid_7_tens)"
      ],
      "execution_count": null,
      "outputs": [
        {
          "output_type": "execute_result",
          "data": {
            "text/plain": [
              "tensor([False, False, False,  ..., False, False, False])"
            ]
          },
          "metadata": {
            "tags": []
          },
          "execution_count": 38
        }
      ]
    },
    {
      "cell_type": "code",
      "metadata": {
        "id": "gT32D4M4FaCL",
        "outputId": "2c4402cc-3f4d-40a5-b689-23e6079d1c9e",
        "colab": {
          "base_uri": "https://localhost:8080/"
        }
      },
      "source": [
        "accuracy_3s = is_3(valid_3_tens).float().mean()\n",
        "accuracy_7s = (1 - is_3(valid_7_tens).float()).mean()\n",
        "\n",
        "accuracy_3s, accuracy_7s, (accuracy_3s + accuracy_7s) / 2"
      ],
      "execution_count": null,
      "outputs": [
        {
          "output_type": "execute_result",
          "data": {
            "text/plain": [
              "(tensor(0.9168), tensor(0.9854), tensor(0.9511))"
            ]
          },
          "metadata": {
            "tags": []
          },
          "execution_count": 39
        }
      ]
    },
    {
      "cell_type": "code",
      "metadata": {
        "id": "XuX5irwAFj6d",
        "outputId": "4a2cd907-b40d-4fbb-9411-fe5f412bdb60",
        "colab": {
          "base_uri": "https://localhost:8080/",
          "height": 146
        }
      },
      "source": [
        "#id gradient_descent\n",
        "#caption The gradient descent process\n",
        "#alt Graph showing the steps for Gradient Descent\n",
        "gv('''\n",
        "init->predict->loss->gradient->step->stop\n",
        "step->predict[label=repeat]\n",
        "''')"
      ],
      "execution_count": null,
      "outputs": [
        {
          "output_type": "execute_result",
          "data": {
            "text/plain": [
              "<graphviz.files.Source at 0x7fe8813d5c88>"
            ],
            "image/svg+xml": "<?xml version=\"1.0\" encoding=\"UTF-8\" standalone=\"no\"?>\n<!DOCTYPE svg PUBLIC \"-//W3C//DTD SVG 1.1//EN\"\n \"http://www.w3.org/Graphics/SVG/1.1/DTD/svg11.dtd\">\n<!-- Generated by graphviz version 2.40.1 (20161225.0304)\n -->\n<!-- Title: G Pages: 1 -->\n<svg width=\"597pt\" height=\"78pt\"\n viewBox=\"0.00 0.00 596.69 78.00\" xmlns=\"http://www.w3.org/2000/svg\" xmlns:xlink=\"http://www.w3.org/1999/xlink\">\n<g id=\"graph0\" class=\"graph\" transform=\"scale(1 1) rotate(0) translate(4 74)\">\n<title>G</title>\n<polygon fill=\"#ffffff\" stroke=\"transparent\" points=\"-4,4 -4,-74 592.6863,-74 592.6863,4 -4,4\"/>\n<!-- init -->\n<g id=\"node1\" class=\"node\">\n<title>init</title>\n<ellipse fill=\"none\" stroke=\"#000000\" cx=\"27\" cy=\"-18\" rx=\"27\" ry=\"18\"/>\n<text text-anchor=\"middle\" x=\"27\" y=\"-14.3\" font-family=\"Times,serif\" font-size=\"14.00\" fill=\"#000000\">init</text>\n</g>\n<!-- predict -->\n<g id=\"node2\" class=\"node\">\n<title>predict</title>\n<ellipse fill=\"none\" stroke=\"#000000\" cx=\"127.3968\" cy=\"-18\" rx=\"36.2938\" ry=\"18\"/>\n<text text-anchor=\"middle\" x=\"127.3968\" y=\"-14.3\" font-family=\"Times,serif\" font-size=\"14.00\" fill=\"#000000\">predict</text>\n</g>\n<!-- init&#45;&gt;predict -->\n<g id=\"edge1\" class=\"edge\">\n<title>init&#45;&gt;predict</title>\n<path fill=\"none\" stroke=\"#000000\" d=\"M54.1688,-18C62.3543,-18 71.5827,-18 80.6596,-18\"/>\n<polygon fill=\"#000000\" stroke=\"#000000\" points=\"80.7795,-21.5001 90.7795,-18 80.7795,-14.5001 80.7795,-21.5001\"/>\n</g>\n<!-- loss -->\n<g id=\"node3\" class=\"node\">\n<title>loss</title>\n<ellipse fill=\"none\" stroke=\"#000000\" cx=\"227.7935\" cy=\"-52\" rx=\"27\" ry=\"18\"/>\n<text text-anchor=\"middle\" x=\"227.7935\" y=\"-48.3\" font-family=\"Times,serif\" font-size=\"14.00\" fill=\"#000000\">loss</text>\n</g>\n<!-- predict&#45;&gt;loss -->\n<g id=\"edge2\" class=\"edge\">\n<title>predict&#45;&gt;loss</title>\n<path fill=\"none\" stroke=\"#000000\" d=\"M157.5191,-28.2011C168.9806,-32.0826 182.1139,-36.5303 193.9014,-40.5222\"/>\n<polygon fill=\"#000000\" stroke=\"#000000\" points=\"192.8259,-43.8532 203.4202,-43.7458 195.0713,-37.2231 192.8259,-43.8532\"/>\n</g>\n<!-- gradient -->\n<g id=\"node4\" class=\"node\">\n<title>gradient</title>\n<ellipse fill=\"none\" stroke=\"#000000\" cx=\"365.7399\" cy=\"-52\" rx=\"40.8928\" ry=\"18\"/>\n<text text-anchor=\"middle\" x=\"365.7399\" y=\"-48.3\" font-family=\"Times,serif\" font-size=\"14.00\" fill=\"#000000\">gradient</text>\n</g>\n<!-- loss&#45;&gt;gradient -->\n<g id=\"edge3\" class=\"edge\">\n<title>loss&#45;&gt;gradient</title>\n<path fill=\"none\" stroke=\"#000000\" d=\"M255.0473,-52C272.0415,-52 294.4481,-52 314.6545,-52\"/>\n<polygon fill=\"#000000\" stroke=\"#000000\" points=\"314.671,-55.5001 324.671,-52 314.671,-48.5001 314.671,-55.5001\"/>\n</g>\n<!-- step -->\n<g id=\"node5\" class=\"node\">\n<title>step</title>\n<ellipse fill=\"none\" stroke=\"#000000\" cx=\"470.6863\" cy=\"-18\" rx=\"27\" ry=\"18\"/>\n<text text-anchor=\"middle\" x=\"470.6863\" y=\"-14.3\" font-family=\"Times,serif\" font-size=\"14.00\" fill=\"#000000\">step</text>\n</g>\n<!-- gradient&#45;&gt;step -->\n<g id=\"edge4\" class=\"edge\">\n<title>gradient&#45;&gt;step</title>\n<path fill=\"none\" stroke=\"#000000\" d=\"M398.9456,-41.2422C410.9558,-37.3512 424.5297,-32.9536 436.6132,-29.0388\"/>\n<polygon fill=\"#000000\" stroke=\"#000000\" points=\"437.9112,-32.2975 446.3457,-25.8857 435.7537,-25.6382 437.9112,-32.2975\"/>\n</g>\n<!-- step&#45;&gt;predict -->\n<g id=\"edge6\" class=\"edge\">\n<title>step&#45;&gt;predict</title>\n<path fill=\"none\" stroke=\"#000000\" d=\"M443.4266,-18C384.9297,-18 246.7861,-18 174.0495,-18\"/>\n<polygon fill=\"#000000\" stroke=\"#000000\" points=\"173.8098,-14.5001 163.8098,-18 173.8097,-21.5001 173.8098,-14.5001\"/>\n<text text-anchor=\"middle\" x=\"289.7935\" y=\"-21.8\" font-family=\"Times,serif\" font-size=\"14.00\" fill=\"#000000\">repeat</text>\n</g>\n<!-- stop -->\n<g id=\"node6\" class=\"node\">\n<title>stop</title>\n<ellipse fill=\"none\" stroke=\"#000000\" cx=\"561.6863\" cy=\"-18\" rx=\"27\" ry=\"18\"/>\n<text text-anchor=\"middle\" x=\"561.6863\" y=\"-14.3\" font-family=\"Times,serif\" font-size=\"14.00\" fill=\"#000000\">stop</text>\n</g>\n<!-- step&#45;&gt;stop -->\n<g id=\"edge5\" class=\"edge\">\n<title>step&#45;&gt;stop</title>\n<path fill=\"none\" stroke=\"#000000\" d=\"M497.9893,-18C506.2676,-18 515.508,-18 524.3268,-18\"/>\n<polygon fill=\"#000000\" stroke=\"#000000\" points=\"524.4026,-21.5001 534.4025,-18 524.4025,-14.5001 524.4026,-21.5001\"/>\n</g>\n</g>\n</svg>\n"
          },
          "metadata": {
            "tags": []
          },
          "execution_count": 40
        }
      ]
    },
    {
      "cell_type": "code",
      "metadata": {
        "id": "arZqtNJI-V_C"
      },
      "source": [
        "def f(x): return x**2"
      ],
      "execution_count": null,
      "outputs": []
    },
    {
      "cell_type": "code",
      "metadata": {
        "id": "tBa9n45p-p9N",
        "outputId": "f45642f5-3625-4ac6-a0ab-7327a013f0ea",
        "colab": {
          "base_uri": "https://localhost:8080/",
          "height": 334
        }
      },
      "source": [
        "plot_function(f, 'x', 'x**2')"
      ],
      "execution_count": null,
      "outputs": [
        {
          "output_type": "stream",
          "text": [
            "/usr/local/lib/python3.6/dist-packages/fastbook/__init__.py:55: UserWarning: Not providing a value for linspace's steps is deprecated and will throw a runtime error in a future release. This warning will appear only once per process. (Triggered internally at  /pytorch/aten/src/ATen/native/RangeFactories.cpp:23.)\n",
            "  x = torch.linspace(min,max)\n"
          ],
          "name": "stderr"
        },
        {
          "output_type": "display_data",
          "data": {
            "image/png": "[encoded data removed]",
            "text/plain": [
              "<Figure size 432x288 with 1 Axes>"
            ]
          },
          "metadata": {
            "tags": [],
            "needs_background": "light"
          }
        }
      ]
    },
    {
      "cell_type": "code",
      "metadata": {
        "id": "c6-syNsi-rNg",
        "outputId": "6015e477-ded2-4763-ecf8-dfc4534e6763",
        "colab": {
          "base_uri": "https://localhost:8080/",
          "height": 279
        }
      },
      "source": [
        "plot_function(f, 'x', 'x**2')\n",
        "plt.scatter(-1.5, f(-1.5), color='red');"
      ],
      "execution_count": null,
      "outputs": [
        {
          "output_type": "display_data",
          "data": {
            "image/png": "[encoded data removed]",
            "text/plain": [
              "<Figure size 432x288 with 1 Axes>"
            ]
          },
          "metadata": {
            "tags": [],
            "needs_background": "light"
          }
        }
      ]
    },
    {
      "cell_type": "code",
      "metadata": {
        "id": "qJ3U52uK-w8P"
      },
      "source": [
        "xt = tensor(3.).requires_grad_()"
      ],
      "execution_count": null,
      "outputs": []
    },
    {
      "cell_type": "code",
      "metadata": {
        "id": "Wjfub9AxADIs",
        "outputId": "0caadbe1-3970-41c4-af4b-4b17c7edc663",
        "colab": {
          "base_uri": "https://localhost:8080/"
        }
      },
      "source": [
        "yt = f(xt)\n",
        "yt  "
      ],
      "execution_count": null,
      "outputs": [
        {
          "output_type": "execute_result",
          "data": {
            "text/plain": [
              "tensor(9., grad_fn=<PowBackward0>)"
            ]
          },
          "metadata": {
            "tags": []
          },
          "execution_count": 45
        }
      ]
    },
    {
      "cell_type": "code",
      "metadata": {
        "id": "clw4n6_gAHGf"
      },
      "source": [
        "yt.backward()"
      ],
      "execution_count": null,
      "outputs": []
    },
    {
      "cell_type": "code",
      "metadata": {
        "id": "gxW515S-APqA",
        "outputId": "a2dab7da-e473-4299-96dd-008ce799ab28",
        "colab": {
          "base_uri": "https://localhost:8080/"
        }
      },
      "source": [
        "xt.grad"
      ],
      "execution_count": null,
      "outputs": [
        {
          "output_type": "execute_result",
          "data": {
            "text/plain": [
              "tensor(6.)"
            ]
          },
          "metadata": {
            "tags": []
          },
          "execution_count": 47
        }
      ]
    },
    {
      "cell_type": "code",
      "metadata": {
        "id": "K3VXTQBYAWdE",
        "outputId": "eabb42f8-4bd5-477d-aa28-286f27a4bdb9",
        "colab": {
          "base_uri": "https://localhost:8080/"
        }
      },
      "source": [
        "xt =  tensor([3., 4., 10.]).requires_grad_()\n",
        "xt"
      ],
      "execution_count": null,
      "outputs": [
        {
          "output_type": "execute_result",
          "data": {
            "text/plain": [
              "tensor([ 3.,  4., 10.], requires_grad=True)"
            ]
          },
          "metadata": {
            "tags": []
          },
          "execution_count": 48
        }
      ]
    },
    {
      "cell_type": "code",
      "metadata": {
        "id": "6EfUgNO7D8zv",
        "outputId": "eaec4d2f-3da8-4b34-eac0-9beedd8c3153",
        "colab": {
          "base_uri": "https://localhost:8080/"
        }
      },
      "source": [
        "def f(x): \n",
        "  return (x**2).sum()\n",
        "\n",
        "yt = f(xt)\n",
        "yt"
      ],
      "execution_count": null,
      "outputs": [
        {
          "output_type": "execute_result",
          "data": {
            "text/plain": [
              "tensor(125., grad_fn=<SumBackward0>)"
            ]
          },
          "metadata": {
            "tags": []
          },
          "execution_count": 49
        }
      ]
    },
    {
      "cell_type": "code",
      "metadata": {
        "id": "uLOdD54IEG8C",
        "outputId": "fdc18bf9-df4d-4fd8-8ad3-bb8dcfaebcc3",
        "colab": {
          "base_uri": "https://localhost:8080/"
        }
      },
      "source": [
        "yt.backward()\n",
        "xt.grad"
      ],
      "execution_count": null,
      "outputs": [
        {
          "output_type": "execute_result",
          "data": {
            "text/plain": [
              "tensor([ 6.,  8., 20.])"
            ]
          },
          "metadata": {
            "tags": []
          },
          "execution_count": 50
        }
      ]
    },
    {
      "cell_type": "code",
      "metadata": {
        "id": "CVbUmfd7EKJw",
        "outputId": "db0928f7-4468-4e07-a590-103b02681ab9",
        "colab": {
          "base_uri": "https://localhost:8080/"
        }
      },
      "source": [
        "time = torch.arange(0, 20).float()\n",
        "time"
      ],
      "execution_count": null,
      "outputs": [
        {
          "output_type": "execute_result",
          "data": {
            "text/plain": [
              "tensor([ 0.,  1.,  2.,  3.,  4.,  5.,  6.,  7.,  8.,  9., 10., 11., 12., 13., 14., 15., 16., 17., 18., 19.])"
            ]
          },
          "metadata": {
            "tags": []
          },
          "execution_count": 51
        }
      ]
    },
    {
      "cell_type": "code",
      "metadata": {
        "id": "lrudX2FKFBwS",
        "outputId": "8a7803fd-ca3d-4d1b-dc6a-08f1ceec08e5",
        "colab": {
          "base_uri": "https://localhost:8080/",
          "height": 282
        }
      },
      "source": [
        "speed = torch.randn(20) * 3 + 0.75 * (time - 9.5)**2 + 1\n",
        "plt.scatter(time, speed)"
      ],
      "execution_count": null,
      "outputs": [
        {
          "output_type": "execute_result",
          "data": {
            "text/plain": [
              "<matplotlib.collections.PathCollection at 0x7fe880fe8860>"
            ]
          },
          "metadata": {
            "tags": []
          },
          "execution_count": 52
        },
        {
          "output_type": "display_data",
          "data": {
            "image/png": "[encoded data removed]",
            "text/plain": [
              "<Figure size 432x288 with 1 Axes>"
            ]
          },
          "metadata": {
            "tags": [],
            "needs_background": "light"
          }
        }
      ]
    },
    {
      "cell_type": "code",
      "metadata": {
        "id": "W9GQ9kDUFOBs"
      },
      "source": [
        "def f(t, params):\n",
        "  a, b, c = params\n",
        "  return a*(t**2) + b*t + c"
      ],
      "execution_count": null,
      "outputs": []
    },
    {
      "cell_type": "code",
      "metadata": {
        "id": "qTyMYqXQFe36"
      },
      "source": [
        "def mse(preds, targets):\n",
        "  return ((preds - targets)**2).mean()\n",
        "\n",
        "def show_preds(preds, ax=None):\n",
        "  if ax is None:\n",
        "    ax = plt.subplots()[1]\n",
        "  ax.scatter(time, speed)\n",
        "  ax.scatter(time, to_np(preds), color=\"red\")\n",
        "  ax.set_ylim(-300, 100)"
      ],
      "execution_count": null,
      "outputs": []
    },
    {
      "cell_type": "code",
      "metadata": {
        "id": "XXMKuIaDHKXx"
      },
      "source": [
        "params = torch.randn(3).requires_grad_()\n",
        "# orig_params = params.clone()\n",
        "\n",
        "def step(params, prn=True):\n",
        "  preds = f(time, params)\n",
        "  loss = mse(preds, speed)\n",
        "  loss.backward()\n",
        "  lr = 1e-5\n",
        "  params.data -= lr * params.grad.data\n",
        "  params.grad = None\n",
        "  if prn: print(loss.item())\n",
        "  return preds"
      ],
      "execution_count": null,
      "outputs": []
    },
    {
      "cell_type": "code",
      "metadata": {
        "id": "uQW1QL1nL0oq"
      },
      "source": [
        "#hide\n",
        "# params = orig_params.detach().requires_grad_()"
      ],
      "execution_count": null,
      "outputs": []
    },
    {
      "cell_type": "code",
      "metadata": {
        "id": "avrDGq-EH51L",
        "outputId": "adb7f66b-059c-46f8-ffa0-ec53a45e5d45",
        "colab": {
          "base_uri": "https://localhost:8080/",
          "height": 186
        }
      },
      "source": [
        "_, axs = plt.subplots(1, 4, figsize=(12, 3))\n",
        "for ax in axs: show_preds(step(params, False), ax)\n",
        "plt.tight_layout()\n"
      ],
      "execution_count": null,
      "outputs": [
        {
          "output_type": "display_data",
          "data": {
            "image/png": "[encoded data removed]",
            "text/plain": [
              "<Figure size 864x216 with 4 Axes>"
            ]
          },
          "metadata": {
            "tags": [],
            "needs_background": "light"
          }
        }
      ]
    },
    {
      "cell_type": "code",
      "metadata": {
        "id": "RQrROSFJJCO8"
      },
      "source": [
        "train_x = torch.cat([stacked_threes, stacked_sevens]).view(-1, 28 * 28)"
      ],
      "execution_count": null,
      "outputs": []
    },
    {
      "cell_type": "code",
      "metadata": {
        "id": "VNN9QDZ9xrym",
        "outputId": "39516e23-b505-4932-e43c-e9bed2c392c6",
        "colab": {
          "base_uri": "https://localhost:8080/"
        }
      },
      "source": [
        "train_y = tensor([1] * len(threes) + [0] * len(sevens)).unsqueeze(1)\n",
        "train_x.shape, train_y.shape"
      ],
      "execution_count": null,
      "outputs": [
        {
          "output_type": "execute_result",
          "data": {
            "text/plain": [
              "(torch.Size([12396, 784]), torch.Size([12396, 1]))"
            ]
          },
          "metadata": {
            "tags": []
          },
          "execution_count": 59
        }
      ]
    },
    {
      "cell_type": "code",
      "metadata": {
        "id": "1vOV3j6Ox1XP",
        "outputId": "9e92bdcc-e1e5-457b-fb64-df2b91348d14",
        "colab": {
          "base_uri": "https://localhost:8080/"
        }
      },
      "source": [
        "dset = list(zip(train_x, train_y))\n",
        "x, y = dset[0]\n",
        "x.shape, y"
      ],
      "execution_count": null,
      "outputs": [
        {
          "output_type": "execute_result",
          "data": {
            "text/plain": [
              "(torch.Size([784]), tensor([1]))"
            ]
          },
          "metadata": {
            "tags": []
          },
          "execution_count": 60
        }
      ]
    },
    {
      "cell_type": "code",
      "metadata": {
        "id": "l0eVHodXyAoQ"
      },
      "source": [
        "valid_x = torch.cat([valid_3_tens, valid_7_tens]).view(-1, 28 * 28)\n",
        "valid_y = tensor([1] * len(valid_3_tens) + [0] * len(valid_7_tens)).unsqueeze(1)\n",
        "valid_dset = list(zip(valid_x, valid_y))"
      ],
      "execution_count": null,
      "outputs": []
    },
    {
      "cell_type": "code",
      "metadata": {
        "id": "DK4-M5GZymJp"
      },
      "source": [
        "def init_params(size, std=1.0): \n",
        "  return (torch.randn(size) * std).requires_grad_()"
      ],
      "execution_count": null,
      "outputs": []
    },
    {
      "cell_type": "code",
      "metadata": {
        "id": "et4FfQi_y3aO"
      },
      "source": [
        "weights = init_params(28 * 28, 1)\n",
        "bias = init_params(1)"
      ],
      "execution_count": null,
      "outputs": []
    },
    {
      "cell_type": "code",
      "metadata": {
        "id": "Kn4zZ0qUy6BQ",
        "outputId": "85f36a5c-27cd-41a0-a11f-fa527210d10e",
        "colab": {
          "base_uri": "https://localhost:8080/"
        }
      },
      "source": [
        "(train_x[0] * weights.T).sum() + bias"
      ],
      "execution_count": null,
      "outputs": [
        {
          "output_type": "execute_result",
          "data": {
            "text/plain": [
              "tensor([-13.2578], grad_fn=<AddBackward0>)"
            ]
          },
          "metadata": {
            "tags": []
          },
          "execution_count": 66
        }
      ]
    },
    {
      "cell_type": "code",
      "metadata": {
        "id": "ldbNcNHw0JDr",
        "outputId": "3756f581-e9d6-4cb8-846e-b1a64208430f",
        "colab": {
          "base_uri": "https://localhost:8080/"
        }
      },
      "source": [
        "def linear1(xb):\n",
        "  return xb @ weights + bias\n",
        "\n",
        "preds = linear1(train_x)\n",
        "print(preds.shape)\n",
        "print(train_y.shape)"
      ],
      "execution_count": null,
      "outputs": [
        {
          "output_type": "stream",
          "text": [
            "torch.Size([12396])\n",
            "torch.Size([12396, 1])\n"
          ],
          "name": "stdout"
        }
      ]
    },
    {
      "cell_type": "code",
      "metadata": {
        "id": "U_a_sjhN0QXC",
        "outputId": "c73e8170-298e-4df3-ab6d-f3ed54ef7451",
        "colab": {
          "base_uri": "https://localhost:8080/"
        }
      },
      "source": [
        "corrects = (preds > 0).float() == train_y\n",
        "corrects"
      ],
      "execution_count": null,
      "outputs": [
        {
          "output_type": "execute_result",
          "data": {
            "text/plain": [
              "tensor([[False, False, False,  ..., False,  True,  True],\n",
              "        [False, False, False,  ..., False,  True,  True],\n",
              "        [False, False, False,  ..., False,  True,  True],\n",
              "        ...,\n",
              "        [ True,  True,  True,  ...,  True, False, False],\n",
              "        [ True,  True,  True,  ...,  True, False, False],\n",
              "        [ True,  True,  True,  ...,  True, False, False]])"
            ]
          },
          "metadata": {
            "tags": []
          },
          "execution_count": 69
        }
      ]
    },
    {
      "cell_type": "code",
      "metadata": {
        "id": "D4G--8ml0sjd",
        "outputId": "039972f2-5abc-4747-fedb-d6ea5fdc071b",
        "colab": {
          "base_uri": "https://localhost:8080/"
        }
      },
      "source": [
        "corrects.float().mean().item()"
      ],
      "execution_count": null,
      "outputs": [
        {
          "output_type": "execute_result",
          "data": {
            "text/plain": [
              "0.503187358379364"
            ]
          },
          "metadata": {
            "tags": []
          },
          "execution_count": 73
        }
      ]
    },
    {
      "cell_type": "code",
      "metadata": {
        "id": "x3g8XkIQ0_gZ"
      },
      "source": [
        "weights[0] *= 1.0001"
      ],
      "execution_count": null,
      "outputs": []
    },
    {
      "cell_type": "code",
      "metadata": {
        "id": "u0O2WzTw1DTX",
        "outputId": "d17d5859-5fbd-4f3f-b28c-6985c3f25d04",
        "colab": {
          "base_uri": "https://localhost:8080/"
        }
      },
      "source": [
        "preds = linear1(train_x)\n",
        "((preds > 0).float() == train_y).float().mean().item()"
      ],
      "execution_count": null,
      "outputs": [
        {
          "output_type": "execute_result",
          "data": {
            "text/plain": [
              "0.503187358379364"
            ]
          },
          "metadata": {
            "tags": []
          },
          "execution_count": 78
        }
      ]
    },
    {
      "cell_type": "code",
      "metadata": {
        "id": "xRQDDx7I1Kai"
      },
      "source": [
        "def mnist_loss(predictions, targets):\n",
        "  return torch.where(targets == 1, 1 - predictions, predictions).mean()"
      ],
      "execution_count": null,
      "outputs": []
    },
    {
      "cell_type": "code",
      "metadata": {
        "id": "Otr-mUi43Stc",
        "outputId": "0d4a29db-3d2f-44fe-afd5-66e1bf9a90eb",
        "colab": {
          "base_uri": "https://localhost:8080/"
        }
      },
      "source": [
        "targets = tensor([1, 0, 1])\n",
        "preds = tensor([0.9, 0.4, 0.2])\n",
        "torch.where(targets == 1, 1 - preds, preds)"
      ],
      "execution_count": null,
      "outputs": [
        {
          "output_type": "execute_result",
          "data": {
            "text/plain": [
              "tensor([0.1000, 0.4000, 0.8000])"
            ]
          },
          "metadata": {
            "tags": []
          },
          "execution_count": 82
        }
      ]
    },
    {
      "cell_type": "code",
      "metadata": {
        "id": "GZQmMJ9n9Hsj",
        "outputId": "453e8f53-1f2b-48f2-c963-ee16ed9574b9",
        "colab": {
          "base_uri": "https://localhost:8080/"
        }
      },
      "source": [
        "mnist_loss(preds, targets)"
      ],
      "execution_count": null,
      "outputs": [
        {
          "output_type": "execute_result",
          "data": {
            "text/plain": [
              "tensor(0.4333)"
            ]
          },
          "metadata": {
            "tags": []
          },
          "execution_count": 83
        }
      ]
    },
    {
      "cell_type": "code",
      "metadata": {
        "id": "rn3oR30K9Fzo",
        "outputId": "bc26c07c-36e0-4a04-fe90-cab36da6f2a5",
        "colab": {
          "base_uri": "https://localhost:8080/"
        }
      },
      "source": [
        "mnist_loss(tensor([0.9, 0.4, 0.8]), targets)"
      ],
      "execution_count": null,
      "outputs": [
        {
          "output_type": "execute_result",
          "data": {
            "text/plain": [
              "tensor(0.2333)"
            ]
          },
          "metadata": {
            "tags": []
          },
          "execution_count": 84
        }
      ]
    },
    {
      "cell_type": "code",
      "metadata": {
        "id": "9-HDfY1p9g3k",
        "outputId": "ef56c7ee-6121-4b30-e288-a1ac7c1d02f1",
        "colab": {
          "base_uri": "https://localhost:8080/",
          "height": 281
        }
      },
      "source": [
        "def sigmoid(x): \n",
        "  return 1 / (1 + torch.exp(-x))\n",
        "\n",
        "plot_function(torch.sigmoid, title=\"Sigmoid\", min=-4, max=4)"
      ],
      "execution_count": null,
      "outputs": [
        {
          "output_type": "display_data",
          "data": {
            "image/png": "[encoded data removed]",
            "text/plain": [
              "<Figure size 432x288 with 1 Axes>"
            ]
          },
          "metadata": {
            "tags": [],
            "needs_background": "light"
          }
        }
      ]
    },
    {
      "cell_type": "code",
      "metadata": {
        "id": "NaBOwIZO96p-"
      },
      "source": [
        "def mnist_loss(predictions, targets):\n",
        "  predictions = predictions.sigmoid()\n",
        "  return torch.where(targets == 1, 1 - predictions, predictions).mean()"
      ],
      "execution_count": null,
      "outputs": []
    },
    {
      "cell_type": "code",
      "metadata": {
        "id": "QAWpEXdz-OWg",
        "outputId": "78212415-a985-457b-e40c-cfccd56c281b",
        "colab": {
          "base_uri": "https://localhost:8080/"
        }
      },
      "source": [
        "coll = range(15)\n",
        "dl = DataLoader(coll, batch_size=5, shuffle=True)\n",
        "list(dl)"
      ],
      "execution_count": null,
      "outputs": [
        {
          "output_type": "execute_result",
          "data": {
            "text/plain": [
              "[tensor([ 3, 12,  8, 10,  2]),\n",
              " tensor([ 9,  4,  7, 14,  5]),\n",
              " tensor([ 1, 13,  0,  6, 11])]"
            ]
          },
          "metadata": {
            "tags": []
          },
          "execution_count": 87
        }
      ]
    },
    {
      "cell_type": "code",
      "metadata": {
        "id": "Q9YwG7SG_8d2",
        "outputId": "8ab91b89-ee4e-4493-9aef-ab9ea8aa4f39",
        "colab": {
          "base_uri": "https://localhost:8080/"
        }
      },
      "source": [
        "ds = L(enumerate(string.ascii_lowercase))\n",
        "ds"
      ],
      "execution_count": null,
      "outputs": [
        {
          "output_type": "execute_result",
          "data": {
            "text/plain": [
              "(#26) [(0, 'a'),(1, 'b'),(2, 'c'),(3, 'd'),(4, 'e'),(5, 'f'),(6, 'g'),(7, 'h'),(8, 'i'),(9, 'j')...]"
            ]
          },
          "metadata": {
            "tags": []
          },
          "execution_count": 89
        }
      ]
    },
    {
      "cell_type": "code",
      "metadata": {
        "id": "D-6ITUyKAFew",
        "outputId": "2240d846-ca88-4b94-cb77-3cb917d7fc6e",
        "colab": {
          "base_uri": "https://localhost:8080/"
        }
      },
      "source": [
        "dl = DataLoader(ds, batch_size=6, shuffle=True)\n",
        "list(dl)"
      ],
      "execution_count": null,
      "outputs": [
        {
          "output_type": "execute_result",
          "data": {
            "text/plain": [
              "[(tensor([17, 18, 10, 22,  8, 14]), ('r', 's', 'k', 'w', 'i', 'o')),\n",
              " (tensor([20, 15,  9, 13, 21, 12]), ('u', 'p', 'j', 'n', 'v', 'm')),\n",
              " (tensor([ 7, 25,  6,  5, 11, 23]), ('h', 'z', 'g', 'f', 'l', 'x')),\n",
              " (tensor([ 1,  3,  0, 24, 19, 16]), ('b', 'd', 'a', 'y', 't', 'q')),\n",
              " (tensor([2, 4]), ('c', 'e'))]"
            ]
          },
          "metadata": {
            "tags": []
          },
          "execution_count": 90
        }
      ]
    },
    {
      "cell_type": "code",
      "metadata": {
        "id": "y8zxn4diARoR",
        "outputId": "7dd2f444-5fff-4206-83e0-e5b9f012d902",
        "colab": {
          "base_uri": "https://localhost:8080/"
        }
      },
      "source": [
        "weights = init_params(28 * 28, 1)\n",
        "bias = init_params(1)"
      ],
      "execution_count": null,
      "outputs": [
        {
          "output_type": "execute_result",
          "data": {
            "text/plain": [
              "(torch.Size([256, 784]), torch.Size([256, 1]))"
            ]
          },
          "metadata": {
            "tags": []
          },
          "execution_count": 92
        }
      ]
    },
    {
      "cell_type": "code",
      "metadata": {
        "id": "Vj6eIhEPBapJ",
        "outputId": "0a2644a2-3b62-404c-a66e-b66c7cb75ef6",
        "colab": {
          "base_uri": "https://localhost:8080/"
        }
      },
      "source": [
        "dl = DataLoader(dset, batch_size=256)\n",
        "xb, yb = first(dl)\n",
        "xb.shape, yb.shape\n",
        "\n",
        "valid_dl = DataLoader(valid_dset, batch_size=256)\n",
        "\n",
        "batch = train_x[:4]\n",
        "batch.shape"
      ],
      "execution_count": null,
      "outputs": [
        {
          "output_type": "execute_result",
          "data": {
            "text/plain": [
              "torch.Size([4, 784])"
            ]
          },
          "metadata": {
            "tags": []
          },
          "execution_count": 93
        }
      ]
    },
    {
      "cell_type": "code",
      "metadata": {
        "id": "sBYPouKUCtQj",
        "outputId": "966c7080-921a-4ae2-c972-e71b36954e54",
        "colab": {
          "base_uri": "https://localhost:8080/"
        }
      },
      "source": [
        "preds = linear1(batch)\n",
        "preds"
      ],
      "execution_count": null,
      "outputs": [
        {
          "output_type": "execute_result",
          "data": {
            "text/plain": [
              "tensor([ 8.0645, -2.3958, -1.7360,  6.1048], grad_fn=<AddBackward0>)"
            ]
          },
          "metadata": {
            "tags": []
          },
          "execution_count": 95
        }
      ]
    },
    {
      "cell_type": "code",
      "metadata": {
        "id": "fBSXaUCPCxPy",
        "outputId": "39567ea9-d011-46ca-dad9-e432100bdb8e",
        "colab": {
          "base_uri": "https://localhost:8080/"
        }
      },
      "source": [
        "loss = mnist_loss(preds, train_y[:4])\n",
        "loss"
      ],
      "execution_count": null,
      "outputs": [
        {
          "output_type": "execute_result",
          "data": {
            "text/plain": [
              "tensor(0.4423, grad_fn=<MeanBackward0>)"
            ]
          },
          "metadata": {
            "tags": []
          },
          "execution_count": 97
        }
      ]
    },
    {
      "cell_type": "code",
      "metadata": {
        "id": "9-YKqbrQC4o8",
        "outputId": "d3106fec-d5a4-411d-cd00-456a02137ba0",
        "colab": {
          "base_uri": "https://localhost:8080/"
        }
      },
      "source": [
        "loss.backward()\n",
        "weights.grad.shape, weights.grad.mean(), bias.grad"
      ],
      "execution_count": null,
      "outputs": [
        {
          "output_type": "execute_result",
          "data": {
            "text/plain": [
              "(torch.Size([784]), tensor(-0.0074), tensor([-0.0516]))"
            ]
          },
          "metadata": {
            "tags": []
          },
          "execution_count": 98
        }
      ]
    },
    {
      "cell_type": "code",
      "metadata": {
        "id": "VQSQ5lsXC-4N"
      },
      "source": [
        "def calc_grad(xb, yb, model):\n",
        "  preds = model(xb)\n",
        "  loss = mnist_loss(preds, yb)\n",
        "  loss.backward()"
      ],
      "execution_count": null,
      "outputs": []
    },
    {
      "cell_type": "code",
      "metadata": {
        "id": "2dLy647DDKnv",
        "outputId": "e0e65335-95a5-48e3-e67e-6573747f0043",
        "colab": {
          "base_uri": "https://localhost:8080/"
        }
      },
      "source": [
        "weights.grad.zero_()\n",
        "bias.grad.zero_()\n",
        "calc_grad(batch, train_y[:4], linear1)\n",
        "weights.grad.mean(), bias.grad"
      ],
      "execution_count": null,
      "outputs": [
        {
          "output_type": "execute_result",
          "data": {
            "text/plain": [
              "(tensor(-0.0074), tensor([-0.0516]))"
            ]
          },
          "metadata": {
            "tags": []
          },
          "execution_count": 111
        }
      ]
    },
    {
      "cell_type": "code",
      "metadata": {
        "id": "JLE-8mYQDPtT"
      },
      "source": [
        "def train_epoch(model, lr, params):\n",
        "  for xb, yb in dl:\n",
        "    calc_grad(xb, yb, model)\n",
        "    for p in params:\n",
        "      p.data -= p.grad * lr\n",
        "      p.grad.zero_()"
      ],
      "execution_count": null,
      "outputs": []
    },
    {
      "cell_type": "code",
      "metadata": {
        "id": "xwXsc_ywDpyj",
        "outputId": "d3bc9434-b444-4476-d9c0-66c9ed3d6ada",
        "colab": {
          "base_uri": "https://localhost:8080/"
        }
      },
      "source": [
        "(preds > 0).float() == train_y[:4]"
      ],
      "execution_count": null,
      "outputs": [
        {
          "output_type": "execute_result",
          "data": {
            "text/plain": [
              "tensor([[ True, False, False,  True],\n",
              "        [ True, False, False,  True],\n",
              "        [ True, False, False,  True],\n",
              "        [ True, False, False,  True]])"
            ]
          },
          "metadata": {
            "tags": []
          },
          "execution_count": 114
        }
      ]
    },
    {
      "cell_type": "code",
      "metadata": {
        "id": "wP9oXTnzEVI3"
      },
      "source": [
        "def batch_accuracy(xb, yb):\n",
        "  preds = xb.sigmoid()\n",
        "  correct = (preds > 0.5) == yb\n",
        "  return correct.float().mean()"
      ],
      "execution_count": null,
      "outputs": []
    },
    {
      "cell_type": "code",
      "metadata": {
        "id": "s9PjtgGoEnOB",
        "outputId": "6a533431-993a-493d-89fd-d414b0d5dd68",
        "colab": {
          "base_uri": "https://localhost:8080/"
        }
      },
      "source": [
        "batch_accuracy(linear1(batch), train_y[:4])"
      ],
      "execution_count": null,
      "outputs": [
        {
          "output_type": "execute_result",
          "data": {
            "text/plain": [
              "tensor(0.5000)"
            ]
          },
          "metadata": {
            "tags": []
          },
          "execution_count": 116
        }
      ]
    },
    {
      "cell_type": "code",
      "metadata": {
        "id": "bVJIow4tEqvY"
      },
      "source": [
        "def validate_epoch(model): \n",
        "  accs = [batch_accuracy(model(xb), yb) for xb, yb in valid_dl]\n",
        "  return round(torch.stack(accs).mean().item(), 4)"
      ],
      "execution_count": null,
      "outputs": []
    },
    {
      "cell_type": "code",
      "metadata": {
        "id": "EqyUjFn0E2t7",
        "outputId": "394f9f1a-9824-4dee-f069-ca994b6b5ddf",
        "colab": {
          "base_uri": "https://localhost:8080/"
        }
      },
      "source": [
        "validate_epoch(linear1)"
      ],
      "execution_count": null,
      "outputs": [
        {
          "output_type": "execute_result",
          "data": {
            "text/plain": [
              "0.6063"
            ]
          },
          "metadata": {
            "tags": []
          },
          "execution_count": 118
        }
      ]
    },
    {
      "cell_type": "code",
      "metadata": {
        "id": "P0ZEwdIGE4Pm",
        "outputId": "7a393e04-e62b-48ac-be18-e58e871d48fa",
        "colab": {
          "base_uri": "https://localhost:8080/"
        }
      },
      "source": [
        "lr = 1\n",
        "params = weights, bias\n",
        "train_epoch(linear1, lr, params)\n",
        "validate_epoch(linear1)"
      ],
      "execution_count": null,
      "outputs": [
        {
          "output_type": "execute_result",
          "data": {
            "text/plain": [
              "0.6828"
            ]
          },
          "metadata": {
            "tags": []
          },
          "execution_count": 119
        }
      ]
    },
    {
      "cell_type": "code",
      "metadata": {
        "id": "QcM5qCZ1FFMF",
        "outputId": "91636783-79da-442a-c4a7-f090d1f54fb6",
        "colab": {
          "base_uri": "https://localhost:8080/"
        }
      },
      "source": [
        "for i in range(20):\n",
        "  train_epoch(linear1, lr, params)\n",
        "  print(validate_epoch(linear1), end=\" \")"
      ],
      "execution_count": null,
      "outputs": [
        {
          "output_type": "stream",
          "text": [
            "0.9624 0.9624 0.9624 0.9629 0.9629 0.9629 0.9629 0.9629 0.9629 0.9629 0.9634 0.9633 0.9633 0.9628 0.9633 0.9633 0.9638 0.9643 0.9648 0.9648 "
          ],
          "name": "stdout"
        }
      ]
    },
    {
      "cell_type": "code",
      "metadata": {
        "id": "lyO3JJP4FNU-"
      },
      "source": [
        "linear_model = nn.Linear(28 * 28, 1)"
      ],
      "execution_count": null,
      "outputs": []
    },
    {
      "cell_type": "code",
      "metadata": {
        "id": "i9n54fjbFa_-",
        "outputId": "6633c975-18da-40c7-e204-00b19c624d03",
        "colab": {
          "base_uri": "https://localhost:8080/"
        }
      },
      "source": [
        "w, b = linear_model.parameters()\n",
        "w.shape, b.shape"
      ],
      "execution_count": null,
      "outputs": [
        {
          "output_type": "execute_result",
          "data": {
            "text/plain": [
              "(torch.Size([1, 784]), torch.Size([1]))"
            ]
          },
          "metadata": {
            "tags": []
          },
          "execution_count": 123
        }
      ]
    },
    {
      "cell_type": "code",
      "metadata": {
        "id": "GJXZq7bqFf5b"
      },
      "source": [
        "class BasicOptim:\n",
        "  def __init__(self, params, lr): \n",
        "    self.params, self.lr = list(params), lr\n",
        "\n",
        "  def step(self, *args, **kwargs):\n",
        "    for p in self.params:\n",
        "      p.data -= p.grad.data * self.lr\n",
        "\n",
        "  def zero_grad(self, *args, **kwargs):\n",
        "    for p in self.params:\n",
        "      p.grad = None"
      ],
      "execution_count": null,
      "outputs": []
    },
    {
      "cell_type": "code",
      "metadata": {
        "id": "N-Zb7OFEGWxT"
      },
      "source": [
        "opt = BasicOptim(linear_model.parameters(), lr)"
      ],
      "execution_count": null,
      "outputs": []
    },
    {
      "cell_type": "code",
      "metadata": {
        "id": "yx7jmRAAGf6y"
      },
      "source": [
        "def train_epoch(model):\n",
        "  for xb, yb in dl:\n",
        "    calc_grad(xb, yb, model)\n",
        "    opt.step()\n",
        "    opt.zero_grad()"
      ],
      "execution_count": null,
      "outputs": []
    },
    {
      "cell_type": "code",
      "metadata": {
        "id": "89I4sG5QGmO1",
        "outputId": "8aadefa1-fb1c-4730-c8e1-be62ac26da60",
        "colab": {
          "base_uri": "https://localhost:8080/"
        }
      },
      "source": [
        "validate_epoch(linear_model)"
      ],
      "execution_count": null,
      "outputs": [
        {
          "output_type": "execute_result",
          "data": {
            "text/plain": [
              "0.5182"
            ]
          },
          "metadata": {
            "tags": []
          },
          "execution_count": 127
        }
      ]
    },
    {
      "cell_type": "code",
      "metadata": {
        "id": "g7ly9Y5IGoEX"
      },
      "source": [
        "def train_model(model, epochs):\n",
        "  for i in range(epochs):\n",
        "    train_epoch(model)\n",
        "    print(validate_epoch(model), end=\" \")"
      ],
      "execution_count": null,
      "outputs": []
    },
    {
      "cell_type": "code",
      "metadata": {
        "id": "wymwun0YGyGh",
        "outputId": "de5aa7aa-0fee-44e6-dcdf-53219e1832f6",
        "colab": {
          "base_uri": "https://localhost:8080/"
        }
      },
      "source": [
        "train_model(linear_model, 20)"
      ],
      "execution_count": null,
      "outputs": [
        {
          "output_type": "stream",
          "text": [
            "0.4932 0.8739 0.8266 0.9101 0.9326 0.9482 0.955 0.9623 0.9657 0.9682 0.9692 0.9716 0.9736 0.9745 0.9755 0.9765 0.9775 0.978 0.9785 0.9789 "
          ],
          "name": "stdout"
        }
      ]
    },
    {
      "cell_type": "code",
      "metadata": {
        "id": "AHB3HMRXG0gy",
        "outputId": "f0dd96b0-7e4b-4cfe-c0fe-91ede4a98070",
        "colab": {
          "base_uri": "https://localhost:8080/"
        }
      },
      "source": [
        "linear_model = nn.Linear(28 * 28, 1)\n",
        "opt = SGD(linear_model.parameters(), lr)\n",
        "train_model(linear_model, 20)"
      ],
      "execution_count": null,
      "outputs": [
        {
          "output_type": "stream",
          "text": [
            "0.4932 0.7871 0.8564 0.9165 0.9365 0.9487 0.957 0.9628 0.9657 0.9682 0.9706 0.9726 0.9745 0.975 0.976 0.9765 0.9775 0.978 0.9785 0.9789 "
          ],
          "name": "stdout"
        }
      ]
    },
    {
      "cell_type": "code",
      "metadata": {
        "id": "yCovk_ncL8j9"
      },
      "source": [
        "dls = DataLoaders(dl, valid_dl)"
      ],
      "execution_count": null,
      "outputs": []
    },
    {
      "cell_type": "code",
      "metadata": {
        "id": "k-UNOfzZMEWu"
      },
      "source": [
        "learn = Learner(dls, nn.Linear(28 * 28, 1), \n",
        "                opt_func=SGD, loss_func=mnist_loss, metrics=batch_accuracy)"
      ],
      "execution_count": null,
      "outputs": []
    },
    {
      "cell_type": "code",
      "metadata": {
        "id": "t5QSJtB-MOP4",
        "outputId": "9c84d0c2-5740-4bce-c092-90dca3463cdc",
        "colab": {
          "base_uri": "https://localhost:8080/",
          "height": 363
        }
      },
      "source": [
        "learn.fit(10, lr=lr)"
      ],
      "execution_count": null,
      "outputs": [
        {
          "output_type": "display_data",
          "data": {
            "text/html": [
              "<table border=\"1\" class=\"dataframe\">\n",
              "  <thead>\n",
              "    <tr style=\"text-align: left;\">\n",
              "      <th>epoch</th>\n",
              "      <th>train_loss</th>\n",
              "      <th>valid_loss</th>\n",
              "      <th>batch_accuracy</th>\n",
              "      <th>time</th>\n",
              "    </tr>\n",
              "  </thead>\n",
              "  <tbody>\n",
              "    <tr>\n",
              "      <td>0</td>\n",
              "      <td>0.636694</td>\n",
              "      <td>0.503486</td>\n",
              "      <td>0.495584</td>\n",
              "      <td>00:00</td>\n",
              "    </tr>\n",
              "    <tr>\n",
              "      <td>1</td>\n",
              "      <td>0.527644</td>\n",
              "      <td>0.209933</td>\n",
              "      <td>0.815505</td>\n",
              "      <td>00:00</td>\n",
              "    </tr>\n",
              "    <tr>\n",
              "      <td>2</td>\n",
              "      <td>0.194079</td>\n",
              "      <td>0.171886</td>\n",
              "      <td>0.844946</td>\n",
              "      <td>00:00</td>\n",
              "    </tr>\n",
              "    <tr>\n",
              "      <td>3</td>\n",
              "      <td>0.084843</td>\n",
              "      <td>0.103488</td>\n",
              "      <td>0.914132</td>\n",
              "      <td>00:00</td>\n",
              "    </tr>\n",
              "    <tr>\n",
              "      <td>4</td>\n",
              "      <td>0.044624</td>\n",
              "      <td>0.076283</td>\n",
              "      <td>0.934249</td>\n",
              "      <td>00:00</td>\n",
              "    </tr>\n",
              "    <tr>\n",
              "      <td>5</td>\n",
              "      <td>0.028959</td>\n",
              "      <td>0.061463</td>\n",
              "      <td>0.947498</td>\n",
              "      <td>00:00</td>\n",
              "    </tr>\n",
              "    <tr>\n",
              "      <td>6</td>\n",
              "      <td>0.022553</td>\n",
              "      <td>0.052179</td>\n",
              "      <td>0.955839</td>\n",
              "      <td>00:00</td>\n",
              "    </tr>\n",
              "    <tr>\n",
              "      <td>7</td>\n",
              "      <td>0.019717</td>\n",
              "      <td>0.045970</td>\n",
              "      <td>0.962218</td>\n",
              "      <td>00:00</td>\n",
              "    </tr>\n",
              "    <tr>\n",
              "      <td>8</td>\n",
              "      <td>0.018282</td>\n",
              "      <td>0.041587</td>\n",
              "      <td>0.965653</td>\n",
              "      <td>00:00</td>\n",
              "    </tr>\n",
              "    <tr>\n",
              "      <td>9</td>\n",
              "      <td>0.017419</td>\n",
              "      <td>0.038344</td>\n",
              "      <td>0.968106</td>\n",
              "      <td>00:00</td>\n",
              "    </tr>\n",
              "  </tbody>\n",
              "</table>"
            ],
            "text/plain": [
              "<IPython.core.display.HTML object>"
            ]
          },
          "metadata": {
            "tags": []
          }
        }
      ]
    },
    {
      "cell_type": "code",
      "metadata": {
        "id": "QveWajpQMUEm"
      },
      "source": [
        "def simple_net(xb): \n",
        "  res = xb @ wb1 + b1\n",
        "  res = res.max(tensor(0.0))\n",
        "  res = res @ w2 + b2\n",
        "  return res"
      ],
      "execution_count": null,
      "outputs": []
    },
    {
      "cell_type": "code",
      "metadata": {
        "id": "49ZxrZj6Mnad"
      },
      "source": [
        "w1 = init_params((28*28,30))\n",
        "b1 = init_params(30)\n",
        "w2 = init_params((30,1))\n",
        "b2 = init_params(1)"
      ],
      "execution_count": null,
      "outputs": []
    },
    {
      "cell_type": "code",
      "metadata": {
        "id": "pODjwGKcMrb0"
      },
      "source": [
        "simple_net = nn.Sequential(nn.Linear(28 * 28, 30),\n",
        "                           nn.ReLU(),\n",
        "                           nn.Linear(30, 1))"
      ],
      "execution_count": null,
      "outputs": []
    },
    {
      "cell_type": "code",
      "metadata": {
        "id": "oyBwTjKWNmSE"
      },
      "source": [
        "learn = Learner(dls, simple_net, opt_func=SGD, \n",
        "                loss_func=mnist_loss, metrics=batch_accuracy)"
      ],
      "execution_count": null,
      "outputs": []
    },
    {
      "cell_type": "code",
      "metadata": {
        "id": "zCcwt6-UN2Bz",
        "outputId": "565d1a1c-0b7a-4c93-9660-81d9525074d7",
        "colab": {
          "base_uri": "https://localhost:8080/",
          "height": 1000
        }
      },
      "source": [
        "learn.fit(40, 0.1)"
      ],
      "execution_count": null,
      "outputs": [
        {
          "output_type": "display_data",
          "data": {
            "text/html": [
              "<table border=\"1\" class=\"dataframe\">\n",
              "  <thead>\n",
              "    <tr style=\"text-align: left;\">\n",
              "      <th>epoch</th>\n",
              "      <th>train_loss</th>\n",
              "      <th>valid_loss</th>\n",
              "      <th>batch_accuracy</th>\n",
              "      <th>time</th>\n",
              "    </tr>\n",
              "  </thead>\n",
              "  <tbody>\n",
              "    <tr>\n",
              "      <td>0</td>\n",
              "      <td>0.342257</td>\n",
              "      <td>0.391081</td>\n",
              "      <td>0.514720</td>\n",
              "      <td>00:00</td>\n",
              "    </tr>\n",
              "    <tr>\n",
              "      <td>1</td>\n",
              "      <td>0.158037</td>\n",
              "      <td>0.242583</td>\n",
              "      <td>0.788027</td>\n",
              "      <td>00:00</td>\n",
              "    </tr>\n",
              "    <tr>\n",
              "      <td>2</td>\n",
              "      <td>0.086212</td>\n",
              "      <td>0.119573</td>\n",
              "      <td>0.912169</td>\n",
              "      <td>00:00</td>\n",
              "    </tr>\n",
              "    <tr>\n",
              "      <td>3</td>\n",
              "      <td>0.055574</td>\n",
              "      <td>0.079435</td>\n",
              "      <td>0.940628</td>\n",
              "      <td>00:00</td>\n",
              "    </tr>\n",
              "    <tr>\n",
              "      <td>4</td>\n",
              "      <td>0.041470</td>\n",
              "      <td>0.061619</td>\n",
              "      <td>0.955348</td>\n",
              "      <td>00:00</td>\n",
              "    </tr>\n",
              "    <tr>\n",
              "      <td>5</td>\n",
              "      <td>0.034363</td>\n",
              "      <td>0.051704</td>\n",
              "      <td>0.963199</td>\n",
              "      <td>00:00</td>\n",
              "    </tr>\n",
              "    <tr>\n",
              "      <td>6</td>\n",
              "      <td>0.030353</td>\n",
              "      <td>0.045469</td>\n",
              "      <td>0.965162</td>\n",
              "      <td>00:00</td>\n",
              "    </tr>\n",
              "    <tr>\n",
              "      <td>7</td>\n",
              "      <td>0.027797</td>\n",
              "      <td>0.041213</td>\n",
              "      <td>0.968597</td>\n",
              "      <td>00:00</td>\n",
              "    </tr>\n",
              "    <tr>\n",
              "      <td>8</td>\n",
              "      <td>0.025984</td>\n",
              "      <td>0.038123</td>\n",
              "      <td>0.970559</td>\n",
              "      <td>00:00</td>\n",
              "    </tr>\n",
              "    <tr>\n",
              "      <td>9</td>\n",
              "      <td>0.024598</td>\n",
              "      <td>0.035769</td>\n",
              "      <td>0.971541</td>\n",
              "      <td>00:00</td>\n",
              "    </tr>\n",
              "    <tr>\n",
              "      <td>10</td>\n",
              "      <td>0.023481</td>\n",
              "      <td>0.033907</td>\n",
              "      <td>0.972522</td>\n",
              "      <td>00:00</td>\n",
              "    </tr>\n",
              "    <tr>\n",
              "      <td>11</td>\n",
              "      <td>0.022552</td>\n",
              "      <td>0.032389</td>\n",
              "      <td>0.973503</td>\n",
              "      <td>00:00</td>\n",
              "    </tr>\n",
              "    <tr>\n",
              "      <td>12</td>\n",
              "      <td>0.021760</td>\n",
              "      <td>0.031121</td>\n",
              "      <td>0.973994</td>\n",
              "      <td>00:00</td>\n",
              "    </tr>\n",
              "    <tr>\n",
              "      <td>13</td>\n",
              "      <td>0.021076</td>\n",
              "      <td>0.030035</td>\n",
              "      <td>0.975466</td>\n",
              "      <td>00:00</td>\n",
              "    </tr>\n",
              "    <tr>\n",
              "      <td>14</td>\n",
              "      <td>0.020477</td>\n",
              "      <td>0.029090</td>\n",
              "      <td>0.975957</td>\n",
              "      <td>00:00</td>\n",
              "    </tr>\n",
              "    <tr>\n",
              "      <td>15</td>\n",
              "      <td>0.019945</td>\n",
              "      <td>0.028257</td>\n",
              "      <td>0.976448</td>\n",
              "      <td>00:00</td>\n",
              "    </tr>\n",
              "    <tr>\n",
              "      <td>16</td>\n",
              "      <td>0.019470</td>\n",
              "      <td>0.027514</td>\n",
              "      <td>0.977429</td>\n",
              "      <td>00:00</td>\n",
              "    </tr>\n",
              "    <tr>\n",
              "      <td>17</td>\n",
              "      <td>0.019040</td>\n",
              "      <td>0.026847</td>\n",
              "      <td>0.978901</td>\n",
              "      <td>00:00</td>\n",
              "    </tr>\n",
              "    <tr>\n",
              "      <td>18</td>\n",
              "      <td>0.018650</td>\n",
              "      <td>0.026244</td>\n",
              "      <td>0.979392</td>\n",
              "      <td>00:00</td>\n",
              "    </tr>\n",
              "    <tr>\n",
              "      <td>19</td>\n",
              "      <td>0.018292</td>\n",
              "      <td>0.025697</td>\n",
              "      <td>0.979882</td>\n",
              "      <td>00:00</td>\n",
              "    </tr>\n",
              "    <tr>\n",
              "      <td>20</td>\n",
              "      <td>0.017963</td>\n",
              "      <td>0.025197</td>\n",
              "      <td>0.980864</td>\n",
              "      <td>00:00</td>\n",
              "    </tr>\n",
              "    <tr>\n",
              "      <td>21</td>\n",
              "      <td>0.017658</td>\n",
              "      <td>0.024739</td>\n",
              "      <td>0.980864</td>\n",
              "      <td>00:00</td>\n",
              "    </tr>\n",
              "    <tr>\n",
              "      <td>22</td>\n",
              "      <td>0.017375</td>\n",
              "      <td>0.024319</td>\n",
              "      <td>0.980864</td>\n",
              "      <td>00:00</td>\n",
              "    </tr>\n",
              "    <tr>\n",
              "      <td>23</td>\n",
              "      <td>0.017110</td>\n",
              "      <td>0.023932</td>\n",
              "      <td>0.980864</td>\n",
              "      <td>00:00</td>\n",
              "    </tr>\n",
              "    <tr>\n",
              "      <td>24</td>\n",
              "      <td>0.016862</td>\n",
              "      <td>0.023574</td>\n",
              "      <td>0.981354</td>\n",
              "      <td>00:00</td>\n",
              "    </tr>\n",
              "    <tr>\n",
              "      <td>25</td>\n",
              "      <td>0.016628</td>\n",
              "      <td>0.023243</td>\n",
              "      <td>0.981354</td>\n",
              "      <td>00:00</td>\n",
              "    </tr>\n",
              "    <tr>\n",
              "      <td>26</td>\n",
              "      <td>0.016407</td>\n",
              "      <td>0.022936</td>\n",
              "      <td>0.981354</td>\n",
              "      <td>00:00</td>\n",
              "    </tr>\n",
              "    <tr>\n",
              "      <td>27</td>\n",
              "      <td>0.016199</td>\n",
              "      <td>0.022650</td>\n",
              "      <td>0.981845</td>\n",
              "      <td>00:00</td>\n",
              "    </tr>\n",
              "    <tr>\n",
              "      <td>28</td>\n",
              "      <td>0.016001</td>\n",
              "      <td>0.022385</td>\n",
              "      <td>0.981845</td>\n",
              "      <td>00:00</td>\n",
              "    </tr>\n",
              "    <tr>\n",
              "      <td>29</td>\n",
              "      <td>0.015813</td>\n",
              "      <td>0.022137</td>\n",
              "      <td>0.981845</td>\n",
              "      <td>00:00</td>\n",
              "    </tr>\n",
              "    <tr>\n",
              "      <td>30</td>\n",
              "      <td>0.015635</td>\n",
              "      <td>0.021905</td>\n",
              "      <td>0.982336</td>\n",
              "      <td>00:00</td>\n",
              "    </tr>\n",
              "    <tr>\n",
              "      <td>31</td>\n",
              "      <td>0.015464</td>\n",
              "      <td>0.021688</td>\n",
              "      <td>0.983317</td>\n",
              "      <td>00:00</td>\n",
              "    </tr>\n",
              "    <tr>\n",
              "      <td>32</td>\n",
              "      <td>0.015301</td>\n",
              "      <td>0.021484</td>\n",
              "      <td>0.983317</td>\n",
              "      <td>00:00</td>\n",
              "    </tr>\n",
              "    <tr>\n",
              "      <td>33</td>\n",
              "      <td>0.015145</td>\n",
              "      <td>0.021294</td>\n",
              "      <td>0.983808</td>\n",
              "      <td>00:00</td>\n",
              "    </tr>\n",
              "    <tr>\n",
              "      <td>34</td>\n",
              "      <td>0.014996</td>\n",
              "      <td>0.021114</td>\n",
              "      <td>0.983808</td>\n",
              "      <td>00:00</td>\n",
              "    </tr>\n",
              "    <tr>\n",
              "      <td>35</td>\n",
              "      <td>0.014853</td>\n",
              "      <td>0.020945</td>\n",
              "      <td>0.983808</td>\n",
              "      <td>00:00</td>\n",
              "    </tr>\n",
              "    <tr>\n",
              "      <td>36</td>\n",
              "      <td>0.014715</td>\n",
              "      <td>0.020785</td>\n",
              "      <td>0.983808</td>\n",
              "      <td>00:00</td>\n",
              "    </tr>\n",
              "    <tr>\n",
              "      <td>37</td>\n",
              "      <td>0.014583</td>\n",
              "      <td>0.020634</td>\n",
              "      <td>0.983808</td>\n",
              "      <td>00:00</td>\n",
              "    </tr>\n",
              "    <tr>\n",
              "      <td>38</td>\n",
              "      <td>0.014455</td>\n",
              "      <td>0.020491</td>\n",
              "      <td>0.982826</td>\n",
              "      <td>00:00</td>\n",
              "    </tr>\n",
              "    <tr>\n",
              "      <td>39</td>\n",
              "      <td>0.014332</td>\n",
              "      <td>0.020355</td>\n",
              "      <td>0.982826</td>\n",
              "      <td>00:00</td>\n",
              "    </tr>\n",
              "  </tbody>\n",
              "</table>"
            ],
            "text/plain": [
              "<IPython.core.display.HTML object>"
            ]
          },
          "metadata": {
            "tags": []
          }
        }
      ]
    },
    {
      "cell_type": "code",
      "metadata": {
        "id": "NZA3hxzdN3Kq",
        "outputId": "e5445c18-e2ad-4a95-f109-6062fe191aeb",
        "colab": {
          "base_uri": "https://localhost:8080/",
          "height": 266
        }
      },
      "source": [
        "plt.plot(L(learn.recorder.values).itemgot(2));"
      ],
      "execution_count": null,
      "outputs": [
        {
          "output_type": "display_data",
          "data": {
            "image/png": "[encoded data removed]",
            "text/plain": [
              "<Figure size 432x288 with 1 Axes>"
            ]
          },
          "metadata": {
            "tags": [],
            "needs_background": "light"
          }
        }
      ]
    },
    {
      "cell_type": "code",
      "metadata": {
        "id": "qWGd3XpjN_LF",
        "outputId": "4a0f75d9-4cbd-4d74-b2ef-9f2174792563",
        "colab": {
          "base_uri": "https://localhost:8080/"
        }
      },
      "source": [
        "learn.recorder.values[-1][2]"
      ],
      "execution_count": null,
      "outputs": [
        {
          "output_type": "execute_result",
          "data": {
            "text/plain": [
              "0.982826292514801"
            ]
          },
          "metadata": {
            "tags": []
          },
          "execution_count": 140
        }
      ]
    },
    {
      "cell_type": "code",
      "metadata": {
        "id": "EWHu4HLbODam",
        "outputId": "f1b6712c-f919-4626-bf14-504180700c65",
        "colab": {
          "base_uri": "https://localhost:8080/",
          "height": 81
        }
      },
      "source": [
        "dls = ImageDataLoaders.from_folder(path)\n",
        "learn = cnn_learner(dls, resnet18, pretrained=False,\n",
        "                    loss_func=F.cross_entropy,\n",
        "                    metrics=accuracy)\n",
        "learn.fit_one_cycle(1, 0.1)"
      ],
      "execution_count": null,
      "outputs": [
        {
          "output_type": "display_data",
          "data": {
            "text/html": [
              "<table border=\"1\" class=\"dataframe\">\n",
              "  <thead>\n",
              "    <tr style=\"text-align: left;\">\n",
              "      <th>epoch</th>\n",
              "      <th>train_loss</th>\n",
              "      <th>valid_loss</th>\n",
              "      <th>accuracy</th>\n",
              "      <th>time</th>\n",
              "    </tr>\n",
              "  </thead>\n",
              "  <tbody>\n",
              "    <tr>\n",
              "      <td>0</td>\n",
              "      <td>0.136263</td>\n",
              "      <td>0.028441</td>\n",
              "      <td>0.993131</td>\n",
              "      <td>00:18</td>\n",
              "    </tr>\n",
              "  </tbody>\n",
              "</table>"
            ],
            "text/plain": [
              "<IPython.core.display.HTML object>"
            ]
          },
          "metadata": {
            "tags": []
          }
        }
      ]
    },
    {
      "cell_type": "code",
      "metadata": {
        "id": "VnUexzq8Ol_h"
      },
      "source": [
        ""
      ],
      "execution_count": null,
      "outputs": []
    }
  ]
}